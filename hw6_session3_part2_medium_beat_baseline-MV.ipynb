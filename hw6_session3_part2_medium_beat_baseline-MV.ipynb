{
 "cells": [
  {
   "cell_type": "markdown",
   "metadata": {
    "hideCode": false,
    "hidePrompt": false
   },
   "source": [
    "<center>\n",
    "<img src=\"../../img/ods_stickers.jpg\">\n",
    "## Open Machine Learning Course\n",
    "<center>\n",
    "Author: Yury Kashnitsky, Data Scientist at Mail.Ru Group\n",
    "\n",
    "This material is subject to the terms and conditions of the license [Creative Commons CC BY-NC-SA 4.0](https://creativecommons.org/licenses/by-nc-sa/4.0/). Free use is permitted for any non-comercial purpose with an obligatory indication of the names of the authors and of the source."
   ]
  },
  {
   "cell_type": "markdown",
   "metadata": {
    "hideCode": false,
    "hidePrompt": false
   },
   "source": [
    "## <center>Assignment #6\n",
    "### <center> Beating benchmarks in \"How good is your Medium article?\"\n",
    "    \n",
    "[Competition](https://www.kaggle.com/c/how-good-is-your-medium-article). The task is to beat \"Assignment 6 baseline\"."
   ]
  },
  {
   "cell_type": "code",
   "execution_count": 20,
   "metadata": {
    "hideCode": false,
    "hidePrompt": false
   },
   "outputs": [],
   "source": [
    "import os\n",
    "import json\n",
    "from tqdm import tqdm_notebook as tqdm\n",
    "import numpy as np\n",
    "import pandas as pd\n",
    "from sklearn.feature_extraction.text import TfidfVectorizer, CountVectorizer, TfidfTransformer\n",
    "from sklearn.metrics import mean_absolute_error\n",
    "from scipy.sparse import csr_matrix, hstack\n",
    "from sklearn.linear_model import Ridge"
   ]
  },
  {
   "cell_type": "markdown",
   "metadata": {
    "hideCode": false,
    "hidePrompt": false
   },
   "source": [
    "The following code will help to throw away all HTML tags from an article content."
   ]
  },
  {
   "cell_type": "code",
   "execution_count": 21,
   "metadata": {
    "hideCode": false,
    "hidePrompt": false
   },
   "outputs": [],
   "source": [
    "from html.parser import HTMLParser\n",
    "\n",
    "class MLStripper(HTMLParser):\n",
    "    def __init__(self):\n",
    "        self.reset()\n",
    "        self.strict = False\n",
    "        self.convert_charrefs= True\n",
    "        self.fed = []\n",
    "    def handle_data(self, d):\n",
    "        self.fed.append(d)\n",
    "    def get_data(self):\n",
    "        return ''.join(self.fed)\n",
    "\n",
    "def strip_tags(html):\n",
    "    s = MLStripper()\n",
    "    s.feed(html)\n",
    "    return s.get_data()"
   ]
  },
  {
   "cell_type": "markdown",
   "metadata": {
    "hideCode": false,
    "hidePrompt": false
   },
   "source": [
    "Supplementary function to read a JSON line without crashing on escape characters."
   ]
  },
  {
   "cell_type": "code",
   "execution_count": 22,
   "metadata": {
    "hideCode": false,
    "hidePrompt": false
   },
   "outputs": [],
   "source": [
    "def read_json_line(line=None):\n",
    "    result = None\n",
    "    try:        \n",
    "        result = json.loads(line)\n",
    "    except Exception as e:      \n",
    "        # Find the offending character index:\n",
    "        idx_to_replace = int(str(e).split(' ')[-1].replace(')',''))      \n",
    "        # Remove the offending character:\n",
    "        new_line = list(line)\n",
    "        new_line[idx_to_replace] = ' '\n",
    "        new_line = ''.join(new_line)     \n",
    "        return read_json_line(line=new_line)\n",
    "    return result"
   ]
  },
  {
   "cell_type": "markdown",
   "metadata": {
    "hideCode": false,
    "hidePrompt": false
   },
   "source": [
    "Extract features `content`, `published`, `title` and `author`, write them to separate files for train and test sets."
   ]
  },
  {
   "cell_type": "code",
   "execution_count": 23,
   "metadata": {
    "hideCode": false,
    "hidePrompt": false
   },
   "outputs": [],
   "source": [
    "def extract_features_and_write(path_to_data,\n",
    "                               inp_filename, is_train=True):\n",
    "    \n",
    "    features = ['content', 'published', 'title', 'author']\n",
    "    prefix = 'train' if is_train else 'test'\n",
    "    feature_files = [open(os.path.join(path_to_data,\n",
    "                                       '{}_{}.txt'.format(prefix, feat)),\n",
    "                          'w', encoding='utf-8')\n",
    "                     for feat in features]\n",
    "    \n",
    "    with open(os.path.join(path_to_data, inp_filename), \n",
    "              encoding='utf-8') as inp_json_file:\n",
    "\n",
    "        for line in tqdm(inp_json_file):\n",
    "            json_data = read_json_line(line)\n",
    "            \n",
    "        \n",
    "            \n",
    "            # You code here"
   ]
  },
  {
   "cell_type": "code",
   "execution_count": null,
   "metadata": {
    "hideCode": false,
    "hidePrompt": false
   },
   "outputs": [],
   "source": []
  },
  {
   "cell_type": "code",
   "execution_count": 6,
   "metadata": {
    "hideCode": false,
    "hidePrompt": false
   },
   "outputs": [],
   "source": [
    "PATH_TO_DATA = '/Users/owner/data/medium' # modify this if you need to"
   ]
  },
  {
   "cell_type": "code",
   "execution_count": 10,
   "metadata": {
    "hideCode": false,
    "hidePrompt": false
   },
   "outputs": [
    {
     "data": {
      "application/vnd.jupyter.widget-view+json": {
       "model_id": "969944e102394d94bf9a4d819fe12fa8",
       "version_major": 2,
       "version_minor": 0
      },
      "text/html": [
       "<p>Failed to display Jupyter Widget of type <code>HBox</code>.</p>\n",
       "<p>\n",
       "  If you're reading this message in the Jupyter Notebook or JupyterLab Notebook, it may mean\n",
       "  that the widgets JavaScript is still loading. If this message persists, it\n",
       "  likely means that the widgets JavaScript library is either not installed or\n",
       "  not enabled. See the <a href=\"https://ipywidgets.readthedocs.io/en/stable/user_install.html\">Jupyter\n",
       "  Widgets Documentation</a> for setup instructions.\n",
       "</p>\n",
       "<p>\n",
       "  If you're reading this message in another frontend (for example, a static\n",
       "  rendering on GitHub or <a href=\"https://nbviewer.jupyter.org/\">NBViewer</a>),\n",
       "  it may mean that your frontend doesn't currently support widgets.\n",
       "</p>\n"
      ],
      "text/plain": [
       "HBox(children=(IntProgress(value=1, bar_style='info', max=1), HTML(value='')))"
      ]
     },
     "metadata": {},
     "output_type": "display_data"
    },
    {
     "name": "stdout",
     "output_type": "stream",
     "text": [
      "\n"
     ]
    }
   ],
   "source": [
    "\n",
    "preprocess_title(path_to_input_json_file=os.path.join(PATH_TO_DATA, 'train.json'),\n",
    "           path_to_out_txt_file= os.path.join(PATH_TO_DATA,'train_titles.txt'))"
   ]
  },
  {
   "cell_type": "code",
   "execution_count": 11,
   "metadata": {
    "hideCode": false,
    "hidePrompt": false
   },
   "outputs": [
    {
     "data": {
      "application/vnd.jupyter.widget-view+json": {
       "model_id": "be7bd499adf549fea16f9339c39f8455",
       "version_major": 2,
       "version_minor": 0
      },
      "text/html": [
       "<p>Failed to display Jupyter Widget of type <code>HBox</code>.</p>\n",
       "<p>\n",
       "  If you're reading this message in the Jupyter Notebook or JupyterLab Notebook, it may mean\n",
       "  that the widgets JavaScript is still loading. If this message persists, it\n",
       "  likely means that the widgets JavaScript library is either not installed or\n",
       "  not enabled. See the <a href=\"https://ipywidgets.readthedocs.io/en/stable/user_install.html\">Jupyter\n",
       "  Widgets Documentation</a> for setup instructions.\n",
       "</p>\n",
       "<p>\n",
       "  If you're reading this message in another frontend (for example, a static\n",
       "  rendering on GitHub or <a href=\"https://nbviewer.jupyter.org/\">NBViewer</a>),\n",
       "  it may mean that your frontend doesn't currently support widgets.\n",
       "</p>\n"
      ],
      "text/plain": [
       "HBox(children=(IntProgress(value=1, bar_style='info', max=1), HTML(value='')))"
      ]
     },
     "metadata": {},
     "output_type": "display_data"
    },
    {
     "name": "stdout",
     "output_type": "stream",
     "text": [
      "\n",
      "CPU times: user 11 s, sys: 1.04 s, total: 12 s\n",
      "Wall time: 12.6 s\n"
     ]
    }
   ],
   "source": [
    "%%time\n",
    "preprocess_title(path_to_input_json_file=os.path.join(PATH_TO_DATA, 'test.json'),\n",
    "           path_to_out_txt_file= os.path.join(PATH_TO_DATA,'test_titles.txt'))"
   ]
  },
  {
   "cell_type": "code",
   "execution_count": 24,
   "metadata": {
    "hideCode": false,
    "hidePrompt": false
   },
   "outputs": [],
   "source": [
    "def preprocess_content(path_to_input_json_file, path_to_out_txt_file):\n",
    "    with open(path_to_input_json_file, encoding='utf-8') as inp_file, \\\n",
    "    open(path_to_out_txt_file,'w', encoding='utf-8') as out_file:\n",
    "        for line in tqdm(inp_file):\n",
    "            json_data = read_json_line(line)\n",
    "            content = json_data['content'].replace('\\n',' ').replace('\\r',' ')\n",
    "            content_no_html_tags = strip_tags(content)\n",
    "            out_file.write(content_no_html_tags + '\\n')\n",
    "        "
   ]
  },
  {
   "cell_type": "code",
   "execution_count": 25,
   "metadata": {
    "hideCode": false,
    "hidePrompt": false
   },
   "outputs": [
    {
     "data": {
      "application/vnd.jupyter.widget-view+json": {
       "model_id": "446e9bd3c1854ca187650e17a6bd87a9",
       "version_major": 2,
       "version_minor": 0
      },
      "text/html": [
       "<p>Failed to display Jupyter Widget of type <code>HBox</code>.</p>\n",
       "<p>\n",
       "  If you're reading this message in the Jupyter Notebook or JupyterLab Notebook, it may mean\n",
       "  that the widgets JavaScript is still loading. If this message persists, it\n",
       "  likely means that the widgets JavaScript library is either not installed or\n",
       "  not enabled. See the <a href=\"https://ipywidgets.readthedocs.io/en/stable/user_install.html\">Jupyter\n",
       "  Widgets Documentation</a> for setup instructions.\n",
       "</p>\n",
       "<p>\n",
       "  If you're reading this message in another frontend (for example, a static\n",
       "  rendering on GitHub or <a href=\"https://nbviewer.jupyter.org/\">NBViewer</a>),\n",
       "  it may mean that your frontend doesn't currently support widgets.\n",
       "</p>\n"
      ],
      "text/plain": [
       "HBox(children=(IntProgress(value=1, bar_style='info', max=1), HTML(value='')))"
      ]
     },
     "metadata": {},
     "output_type": "display_data"
    },
    {
     "name": "stdout",
     "output_type": "stream",
     "text": [
      "\n",
      "CPU times: user 4min 41s, sys: 4.46 s, total: 4min 46s\n",
      "Wall time: 5min 3s\n"
     ]
    }
   ],
   "source": [
    "%%time\n",
    "preprocess_content(path_to_input_json_file=os.path.join(PATH_TO_DATA, 'train.json'),\n",
    "           path_to_out_txt_file=os.path.join(PATH_TO_DATA,'train_content.txt'))"
   ]
  },
  {
   "cell_type": "code",
   "execution_count": 26,
   "metadata": {
    "hideCode": false,
    "hidePrompt": false
   },
   "outputs": [
    {
     "data": {
      "application/vnd.jupyter.widget-view+json": {
       "model_id": "f5b16dc0310e49e0ac6317777307d5ff",
       "version_major": 2,
       "version_minor": 0
      },
      "text/html": [
       "<p>Failed to display Jupyter Widget of type <code>HBox</code>.</p>\n",
       "<p>\n",
       "  If you're reading this message in the Jupyter Notebook or JupyterLab Notebook, it may mean\n",
       "  that the widgets JavaScript is still loading. If this message persists, it\n",
       "  likely means that the widgets JavaScript library is either not installed or\n",
       "  not enabled. See the <a href=\"https://ipywidgets.readthedocs.io/en/stable/user_install.html\">Jupyter\n",
       "  Widgets Documentation</a> for setup instructions.\n",
       "</p>\n",
       "<p>\n",
       "  If you're reading this message in another frontend (for example, a static\n",
       "  rendering on GitHub or <a href=\"https://nbviewer.jupyter.org/\">NBViewer</a>),\n",
       "  it may mean that your frontend doesn't currently support widgets.\n",
       "</p>\n"
      ],
      "text/plain": [
       "HBox(children=(IntProgress(value=1, bar_style='info', max=1), HTML(value='')))"
      ]
     },
     "metadata": {},
     "output_type": "display_data"
    },
    {
     "name": "stdout",
     "output_type": "stream",
     "text": [
      "\n",
      "CPU times: user 2min 37s, sys: 2.63 s, total: 2min 40s\n",
      "Wall time: 2min 47s\n"
     ]
    }
   ],
   "source": [
    "%%time\n",
    "preprocess_content(path_to_input_json_file=os.path.join(PATH_TO_DATA, 'test.json'),\n",
    "           path_to_out_txt_file=os.path.join(PATH_TO_DATA,'test_content.txt'))"
   ]
  },
  {
   "cell_type": "code",
   "execution_count": 27,
   "metadata": {
    "hideCode": false,
    "hidePrompt": false
   },
   "outputs": [],
   "source": [
    "# Let's implement easy feature extraction - CountVectorizer (Bag of Words representation)\n",
    "c_vec = CountVectorizer(max_features=50000)\n"
   ]
  },
  {
   "cell_type": "code",
   "execution_count": 28,
   "metadata": {
    "hideCode": false,
    "hidePrompt": false
   },
   "outputs": [],
   "source": [
    "with open(os.path.join(PATH_TO_DATA, 'train_content.txt'), \n",
    "              encoding='utf-8') as inp_train_file:\n",
    "    X_train = c_vec.fit_transform(inp_train_file)"
   ]
  },
  {
   "cell_type": "code",
   "execution_count": 29,
   "metadata": {
    "hideCode": false,
    "hidePrompt": false
   },
   "outputs": [],
   "source": [
    "with open(os.path.join(PATH_TO_DATA,'test_content.txt'), encoding='utf-8') as inp_test_data:\n",
    "    X_test = c_vec.fit_transform(inp_test_data)"
   ]
  },
  {
   "cell_type": "code",
   "execution_count": 30,
   "metadata": {
    "hideCode": false,
    "hidePrompt": false
   },
   "outputs": [
    {
     "data": {
      "text/plain": [
       "((62313, 50000), (34645, 50000))"
      ]
     },
     "execution_count": 30,
     "metadata": {},
     "output_type": "execute_result"
    }
   ],
   "source": [
    "X_train.shape, X_test.shape"
   ]
  },
  {
   "cell_type": "code",
   "execution_count": 31,
   "metadata": {
    "hideCode": false,
    "hidePrompt": false
   },
   "outputs": [],
   "source": [
    "#Reading target from file\n",
    "train_target= pd.read_csv(os.path.join(PATH_TO_DATA,'train_log1p_recommends.csv'), \n",
    "                           index_col='id')"
   ]
  },
  {
   "cell_type": "code",
   "execution_count": 32,
   "metadata": {
    "hideCode": false,
    "hidePrompt": false
   },
   "outputs": [
    {
     "data": {
      "text/html": [
       "<div>\n",
       "<style scoped>\n",
       "    .dataframe tbody tr th:only-of-type {\n",
       "        vertical-align: middle;\n",
       "    }\n",
       "\n",
       "    .dataframe tbody tr th {\n",
       "        vertical-align: top;\n",
       "    }\n",
       "\n",
       "    .dataframe thead th {\n",
       "        text-align: right;\n",
       "    }\n",
       "</style>\n",
       "<table border=\"1\" class=\"dataframe\">\n",
       "  <thead>\n",
       "    <tr style=\"text-align: right;\">\n",
       "      <th></th>\n",
       "      <th>log_recommends</th>\n",
       "    </tr>\n",
       "    <tr>\n",
       "      <th>id</th>\n",
       "      <th></th>\n",
       "    </tr>\n",
       "  </thead>\n",
       "  <tbody>\n",
       "    <tr>\n",
       "      <th>8</th>\n",
       "      <td>9.01201</td>\n",
       "    </tr>\n",
       "    <tr>\n",
       "      <th>14</th>\n",
       "      <td>3.49651</td>\n",
       "    </tr>\n",
       "    <tr>\n",
       "      <th>19</th>\n",
       "      <td>0.69315</td>\n",
       "    </tr>\n",
       "    <tr>\n",
       "      <th>22</th>\n",
       "      <td>1.38629</td>\n",
       "    </tr>\n",
       "    <tr>\n",
       "      <th>29</th>\n",
       "      <td>1.94591</td>\n",
       "    </tr>\n",
       "  </tbody>\n",
       "</table>\n",
       "</div>"
      ],
      "text/plain": [
       "    log_recommends\n",
       "id                \n",
       "8          9.01201\n",
       "14         3.49651\n",
       "19         0.69315\n",
       "22         1.38629\n",
       "29         1.94591"
      ]
     },
     "execution_count": 32,
     "metadata": {},
     "output_type": "execute_result"
    }
   ],
   "source": [
    "train_target.head()"
   ]
  },
  {
   "cell_type": "code",
   "execution_count": null,
   "metadata": {
    "hideCode": false,
    "hideOutput": true,
    "hidePrompt": false
   },
   "outputs": [],
   "source": []
  },
  {
   "cell_type": "code",
   "execution_count": 33,
   "metadata": {
    "hideCode": false,
    "hidePrompt": false
   },
   "outputs": [],
   "source": [
    "y_train = train_target['log_recommends'].values"
   ]
  },
  {
   "cell_type": "code",
   "execution_count": 34,
   "metadata": {},
   "outputs": [
    {
     "data": {
      "image/png": "[encoded data removed]",
      "text/plain": [
       "<matplotlib.figure.Figure at 0x1a1b555e10>"
      ]
     },
     "metadata": {},
     "output_type": "display_data"
    }
   ],
   "source": [
    "from matplotlib import pyplot as plt\n",
    "plt.hist(y_train, bins=30, alpha=.5, color='red', label='original', range=(0,10));\n",
    "plt.hist(np.log1p(y_train), bins=30, alpha=.5, color='green', label='log1p', range=(0,10));\n",
    "plt.legend();"
   ]
  },
  {
   "cell_type": "code",
   "execution_count": 60,
   "metadata": {},
   "outputs": [],
   "source": [
    "#Take logs of data again"
   ]
  },
  {
   "cell_type": "code",
   "execution_count": 35,
   "metadata": {},
   "outputs": [],
   "source": [
    "#Divide into train and test\n",
    "train_size = int(0.7*train_target.shape[0])\n",
    "X_train_part = X_train[:train_size,:]\n",
    "y_train_part = y_train[:train_size]\n",
    "X_test_part = X_train[train_size:,:]\n",
    "y_test_part = y_train[train_size:]"
   ]
  },
  {
   "cell_type": "code",
   "execution_count": null,
   "metadata": {
    "hideCode": true,
    "hideOutput": true
   },
   "outputs": [],
   "source": []
  },
  {
   "cell_type": "code",
   "execution_count": 36,
   "metadata": {},
   "outputs": [],
   "source": [
    "ridge = Ridge(random_state=17)\n"
   ]
  },
  {
   "cell_type": "code",
   "execution_count": 37,
   "metadata": {},
   "outputs": [
    {
     "name": "stdout",
     "output_type": "stream",
     "text": [
      "CPU times: user 2min 52s, sys: 2.32 s, total: 2min 54s\n",
      "Wall time: 3min 11s\n"
     ]
    },
    {
     "data": {
      "text/plain": [
       "Ridge(alpha=1.0, copy_X=True, fit_intercept=True, max_iter=None,\n",
       "   normalize=False, random_state=17, solver='auto', tol=0.001)"
      ]
     },
     "execution_count": 37,
     "metadata": {},
     "output_type": "execute_result"
    }
   ],
   "source": [
    "%%time\n",
    "ridge.fit(X_train_part, np.log1p(y_train_part));\n"
   ]
  },
  {
   "cell_type": "code",
   "execution_count": 38,
   "metadata": {},
   "outputs": [],
   "source": [
    "ridge_fc = np.expm1(ridge.predict(X_test_part))"
   ]
  },
  {
   "cell_type": "code",
   "execution_count": 39,
   "metadata": {},
   "outputs": [
    {
     "data": {
      "image/png": "[encoded data removed]",
      "text/plain": [
       "<matplotlib.figure.Figure at 0x1a2a99c278>"
      ]
     },
     "metadata": {},
     "output_type": "display_data"
    }
   ],
   "source": [
    "plt.hist(y_test_part, bins = 30, alpha = 0.5, color = 'red', label = 'true', range = (0,10));\n",
    "plt.hist(ridge_fc, bins = 30, alpha = 0.5, color = 'green', label = 'predicted', range = (0,10));\n",
    "plt.legend();\n",
    "\n"
   ]
  },
  {
   "cell_type": "code",
   "execution_count": 40,
   "metadata": {},
   "outputs": [
    {
     "data": {
      "text/plain": [
       "(48.504780721815514, 1.1624080620468354e+21)"
      ]
     },
     "execution_count": 40,
     "metadata": {},
     "output_type": "execute_result"
    }
   ],
   "source": [
    "# MAE\n",
    "valid_mae = mean_absolute_error(y_test_part,ridge_fc)\n",
    "valid_mae, np.expm1(valid_mae)"
   ]
  },
  {
   "cell_type": "markdown",
   "metadata": {},
   "source": [
    "MAE is ~48.5 which corresponds to ~1.16  error in # of recommendations"
   ]
  },
  {
   "cell_type": "code",
   "execution_count": 41,
   "metadata": {},
   "outputs": [
    {
     "data": {
      "text/plain": [
       "Ridge(alpha=1.0, copy_X=True, fit_intercept=True, max_iter=None,\n",
       "   normalize=False, random_state=17, solver='auto', tol=0.001)"
      ]
     },
     "execution_count": 41,
     "metadata": {},
     "output_type": "execute_result"
    }
   ],
   "source": [
    "# Train on the full set\n",
    "ridge.fit(X_train, y_train)"
   ]
  },
  {
   "cell_type": "code",
   "execution_count": 43,
   "metadata": {},
   "outputs": [
    {
     "data": {
      "text/plain": [
       "((62313, 50000), (34645, 50000))"
      ]
     },
     "execution_count": 43,
     "metadata": {},
     "output_type": "execute_result"
    }
   ],
   "source": [
    "X_train.shape, X_test.shape"
   ]
  },
  {
   "cell_type": "code",
   "execution_count": 44,
   "metadata": {},
   "outputs": [],
   "source": [
    "ridge_predictions = ridge.predict(X_test)"
   ]
  },
  {
   "cell_type": "code",
   "execution_count": 45,
   "metadata": {
    "hideCode": false,
    "hidePrompt": false
   },
   "outputs": [],
   "source": [
    "def write_submission_file(prediction, filename,\n",
    "                          path_to_sample='../data/sample_submission.csv'):\n",
    "    submission = pd.read_csv(path_to_sample, index_col='id')\n",
    "    \n",
    "    submission['log_recommends'] = prediction\n",
    "    submission.to_csv(filename)"
   ]
  },
  {
   "cell_type": "code",
   "execution_count": 50,
   "metadata": {
    "hideOutput": true,
    "hidePrompt": true
   },
   "outputs": [],
   "source": [
    "write_submission_file(ridge_predictions, filename=os.path.join(PATH_TO_DATA,'ridge_1.csv'), path_to_sample=os.path.join(PATH_TO_DATA,'sample_submission.csv'))"
   ]
  },
  {
   "cell_type": "code",
   "execution_count": null,
   "metadata": {},
   "outputs": [],
   "source": [
    "# Add feature titles"
   ]
  },
  {
   "cell_type": "code",
   "execution_count": 9,
   "metadata": {
    "hideCode": false,
    "hidePrompt": false
   },
   "outputs": [],
   "source": [
    "def preprocess_title(path_to_input_json_file, path_to_out_txt_file):\n",
    "    with open(path_to_input_json_file, encoding='utf-8') as inp_file, \\\n",
    "    open(path_to_out_txt_file,'w', encoding='utf-8') as out_file:\n",
    "        for line in tqdm(inp_file):\n",
    "            json_data = read_json_line(line)\n",
    "            content = json_data['title'].replace('\\n', ' ').replace('\\r', ' ')\n",
    "            content_no_html_tags = strip_tags(content)\n",
    "            out_file.write(content_no_html_tags + '\\n')\n",
    "        "
   ]
  },
  {
   "cell_type": "code",
   "execution_count": null,
   "metadata": {},
   "outputs": [],
   "source": []
  },
  {
   "cell_type": "code",
   "execution_count": null,
   "metadata": {},
   "outputs": [],
   "source": []
  },
  {
   "cell_type": "code",
   "execution_count": null,
   "metadata": {},
   "outputs": [],
   "source": []
  },
  {
   "cell_type": "code",
   "execution_count": null,
   "metadata": {
    "hideCode": false,
    "hidePrompt": false
   },
   "outputs": [],
   "source": [
    "# WORK IN PROGRESS\n",
    "\n",
    "data = []\n",
    "\n",
    "def extract_features_and_write(path_to_data,\n",
    "                               inp_filename, is_train=True):\n",
    "    \n",
    "    features = ['content', 'published', 'title', 'author']\n",
    "    prefix = 'train' if is_train else 'test'\n",
    "    feature_files = [open(os.path.join(path_to_data,\n",
    "                                       '{}_{}.txt'.format(prefix, feat)),\n",
    "                          'w', encoding='utf-8')\n",
    "                     for feat in features]\n",
    "    \n",
    "    with open(os.path.join(path_to_data, inp_filename), \n",
    "              encoding='utf-8') as inp_json_file:\n",
    "\n",
    "        for line in tqdm(inp_json_file):\n",
    "            json_data = read_json_line(line)\n",
    "            df = {}\n",
    "            df['published'] = json_data['published']['$time']\n",
    "            df['author'] = json_data['meta_tags']['article:author']\n",
    "            df['title'] = json_data['title']\n",
    "            data.append{df}\n",
    "        return data\n",
    "            \n",
    "            # You code here"
   ]
  },
  {
   "cell_type": "code",
   "execution_count": 68,
   "metadata": {
    "hideCode": false,
    "hidePrompt": false
   },
   "outputs": [],
   "source": [
    "import re\n",
    "#data = []\n",
    "def if_exists(feature):\n",
    "    if type(feature) is None:\n",
    "        return 0\n",
    "    else:\n",
    "        return 1\n",
    "\n",
    "def extract_features_and_write(path_to_data,\n",
    "                               inp_filename, is_train=True):\n",
    "    data = []\n",
    "    features = ['content', 'published', 'title', 'author']\n",
    "    prefix = 'train' if is_train else 'test'\n",
    "    feature_files = [open(os.path.join(path_to_data,\n",
    "                                       '{}_{}.txt'.format(prefix, feat)),\n",
    "                          'w', encoding='utf-8')\n",
    "                     for feat in features]\n",
    "    with open(os.path.join(path_to_data, inp_filename), \n",
    "              encoding='utf-8') as inp_json_file:\n",
    "        \n",
    "        for line in tqdm(inp_json_file):\n",
    "            json_data = read_json_line(line)\n",
    "            df = {}\n",
    "            #df['id']  = json_data['_id']\n",
    "            #df['timestamp'] = json_data['_timestamp']\n",
    "            #df['spider'] = json_data['_spider']\n",
    "            df['domain'] = json_data['domain']\n",
    "            df['published'] = json_data['published']['$date']\n",
    "            df['title'] = json_data['title']\n",
    "            df['content'] = strip_tags(json_data['content'])\n",
    "            #df['author_name'] = json_data['author']['name']\n",
    "            #df['img'] = if_exists(json_data['image_url'])\n",
    "            #df['tags'] = len(json_data['tags'])\n",
    "            df['description'] = json_data['meta_tags']['description']\n",
    "            df['author'] = json_data['meta_tags']['article:author']\n",
    "            df['robots'] = json_data['meta_tags']['robots'].split(',')[0] #lambda x: 1 if 'noindex' not in json_data['meta_tags']['robots'] else 0\n",
    "            df['min_to_read'] = re.split('\\s', json_data['meta_tags']['twitter:data1'])[0]\n",
    "            data.append(df)\n",
    "    return data"
   ]
  },
  {
   "cell_type": "code",
   "execution_count": null,
   "metadata": {
    "hideCode": false,
    "hidePrompt": false
   },
   "outputs": [],
   "source": []
  },
  {
   "cell_type": "code",
   "execution_count": 61,
   "metadata": {
    "hideCode": false,
    "hidePrompt": false
   },
   "outputs": [
    {
     "data": {
      "application/vnd.jupyter.widget-view+json": {
       "model_id": "be919b2ca3d344f6968233a664837121",
       "version_major": 2,
       "version_minor": 0
      },
      "text/html": [
       "<p>Failed to display Jupyter Widget of type <code>HBox</code>.</p>\n",
       "<p>\n",
       "  If you're reading this message in the Jupyter Notebook or JupyterLab Notebook, it may mean\n",
       "  that the widgets JavaScript is still loading. If this message persists, it\n",
       "  likely means that the widgets JavaScript library is either not installed or\n",
       "  not enabled. See the <a href=\"https://ipywidgets.readthedocs.io/en/stable/user_install.html\">Jupyter\n",
       "  Widgets Documentation</a> for setup instructions.\n",
       "</p>\n",
       "<p>\n",
       "  If you're reading this message in another frontend (for example, a static\n",
       "  rendering on GitHub or <a href=\"https://nbviewer.jupyter.org/\">NBViewer</a>),\n",
       "  it may mean that your frontend doesn't currently support widgets.\n",
       "</p>\n"
      ],
      "text/plain": [
       "HBox(children=(IntProgress(value=1, bar_style='info', max=1), HTML(value='')))"
      ]
     },
     "metadata": {},
     "output_type": "display_data"
    },
    {
     "name": "stdout",
     "output_type": "stream",
     "text": [
      "\n"
     ]
    },
    {
     "data": {
      "text/plain": [
       "[{'author': 'https://medium.com/@Medium',\n",
       "  'content': 'MediumEveryone’s stories and ideasAug 13, 2012Medium Terms of\\xa0ServiceEffective: March 7, 2016These Terms of Service (“Terms”) are a contract between you and A Medium Corporation. They govern your use of Medium’s sites, services, mobile apps, products, and content (“Services”).By using Medium, you agree to these Terms. If you don’t agree to any of the Terms, you can’t use Medium.We can change these Terms at any time. We keep a historical record of all changes to our Terms on GitHub. If a change is material, we’ll let you know before they take effect. By using Medium on or after that effective date, you agree to the new Terms. If you don’t agree to them, you should delete your account before they take effect, otherwise your use of the site and content will be subject to the new Terms.Content rights & responsibilitiesYou own the rights to the content you create and post on Medium.By posting content to Medium, you give us a nonexclusive license to publish it on Medium Services, including anything reasonably related to publishing it (like storing, displaying, reformatting, and distributing it). In consideration for Medium granting you access to and use of the Services, you agree that Medium may enable advertising on the Services, including in connection with the display of your content or other information. We may also use your content to promote Medium, including its products and content. We will never sell your content to third parties without your explicit permission.You’re responsible for the content you post. This means you assume all risks related to it, including someone else’s reliance on its accuracy, or claims relating to intellectual property or other legal rights.You’re welcome to post content on Medium that you’ve published elsewhere, as long as you have the rights you need to do so. By posting content to Medium, you represent that doing so doesn’t conflict with any other agreement you’ve made.By posting content you didn’t create to Medium, you are representing that you have the right to do so. For example, you are posting a work that’s in the public domain, used under license (including a free license, such as Creative Commons), or a fair use.We can remove any content you post for any reason.You can delete any of your posts, or your account, anytime. Processing the deletion may take a little time, but we’ll do it as quickly as possible. We may keep backup copies of your deleted post or account on our servers for up to 14 days after you delete it.Our content and\\xa0servicesWe reserve all rights in Medium’s look and feel. Some parts of Medium are licensed under third-party open source licenses. We also make some of our own code available under open source licenses. As for other parts of Medium, you may not copy or adapt any portion of our code or visual design elements (including logos) without express written permission from Medium unless otherwise permitted by law.You may not do, or try to do, the following: (1) access or tamper with non-public areas of the Services, our computer systems, or the systems of our technical providers; (2) access or search the Services by any means other than the currently available, published interfaces (e.g., APIs) that we provide; (3) forge any TCP/IP packet header or any part of the header information in any email or posting, or in any way use the Services to send altered, deceptive, or false source-identifying information; or (4) interfere with, or disrupt, the access of any user, host, or network, including sending a virus, overloading, flooding, spamming, mail-bombing the Services, or by scripting the creation of content or accounts in such a manner as to interfere with or create an undue burden on the Services.Crawling the Services is allowed if done in accordance with the provisions of our robots.txt file, but scraping the Services is prohibited.We may change, terminate, or restrict access to any aspect of the service, at any time, without notice.No childrenMedium is only for people 13 years old and over. By using Medium, you affirm that you are over 13. If we learn someone under 13 is using Medium, we’ll terminate their account.SecurityIf you find a security vulnerability on Medium, tell us. We have a bug bounty disclosure program.Incorporated rules and\\xa0policiesBy using the Services, you agree to let Medium collect and use information as detailed in our Privacy Policy. If you’re outside the United States, you consent to letting Medium transfer, store, and process your information (including your personal information and content) in and out of the United States.To enable a functioning community, we have Rules. To ensure usernames are distributed and used fairly, we have a Username Policy. Under our DMCA Policy, we’ll remove material after receiving a valid takedown notice. Under our Trademark Policy, we’ll investigate any use of another’s trademark and respond appropriately.By using Medium, you agree to follow these Rules and Policies. If you don’t, we may remove content, or suspend or delete your account.MiscellaneousDisclaimer of warranty. Medium provides the Services to you as is. You use them at your own risk and discretion. That means they don’t come with any warranty. None express, none implied. No implied warranty of merchantability, fitness for a particular purpose, availability, security, title or non-infringement.Limitation of Liability. Medium won’t be liable to you for any damages that arise from your using the Services. This includes if the Services are hacked or unavailable. This includes all types of damages (indirect, incidental, consequential, special or exemplary). And it includes all kinds of legal claims, such as breach of contract, breach of warranty, tort, or any other loss.No waiver. If Medium doesn’t exercise a particular right under these Terms, that doesn’t waive it.Severability. If any provision of these terms is found invalid by a court of competent jurisdiction, you agree that the court should try to give effect to the parties’ intentions as reflected in the provision and that other provisions of the Terms will remain in full effect.Choice of law and jurisdiction. These Terms are governed by California law, without reference to its conflict of laws provisions. You agree that any suit arising from the Services must take place in a court located in San Francisco, California.Entire agreement. These Terms (including any document incorporated by reference into them) are the whole agreement between Medium and you concerning the Services.Government use. If you’re \\u200busing \\u200bMedium for the U.S. Government, this Amendment to \\u200bMedium’s Terms of Service \\u200bapplies to you\\u200b.Questions? Let us know at legal@medium.com.Terms And ConditionsTermsMediumOne clap, two clap, three clap, forty?By clapping more or less, you can signal to us which stories really stand out.MediumMedium member since Aug 2017Everyone’s stories and ideasMedium PolicyThe Fine Print',\n",
       "  'description': 'These Terms of Service (“Terms”) are a contract between you and A Medium Corporation. They govern your use of Medium’s sites, services, mobile apps, products, and content (“Services”). By using…',\n",
       "  'domain': 'medium.com',\n",
       "  'min_to_read': '5',\n",
       "  'published': '2012-08-13T22:54:53.510Z',\n",
       "  'robots': 'index',\n",
       "  'title': 'Medium Terms of Service – Medium Policy – Medium'}]"
      ]
     },
     "execution_count": 61,
     "metadata": {},
     "output_type": "execute_result"
    }
   ],
   "source": [
    "extract_features_and_write(PATH_TO_DATA, 'train.json', is_train=True)"
   ]
  },
  {
   "cell_type": "code",
   "execution_count": null,
   "metadata": {
    "hideCode": false,
    "hidePrompt": false
   },
   "outputs": [],
   "source": [
    "extract_features_and_write(PATH_TO_DATA, 'test.json', is_train=False)"
   ]
  },
  {
   "cell_type": "code",
   "execution_count": 163,
   "metadata": {},
   "outputs": [
    {
     "data": {
      "application/vnd.jupyter.widget-view+json": {
       "model_id": "9c830d86ee6747ea901b14f231c1b089",
       "version_major": 2,
       "version_minor": 0
      },
      "text/html": [
       "<p>Failed to display Jupyter Widget of type <code>HBox</code>.</p>\n",
       "<p>\n",
       "  If you're reading this message in the Jupyter Notebook or JupyterLab Notebook, it may mean\n",
       "  that the widgets JavaScript is still loading. If this message persists, it\n",
       "  likely means that the widgets JavaScript library is either not installed or\n",
       "  not enabled. See the <a href=\"https://ipywidgets.readthedocs.io/en/stable/user_install.html\">Jupyter\n",
       "  Widgets Documentation</a> for setup instructions.\n",
       "</p>\n",
       "<p>\n",
       "  If you're reading this message in another frontend (for example, a static\n",
       "  rendering on GitHub or <a href=\"https://nbviewer.jupyter.org/\">NBViewer</a>),\n",
       "  it may mean that your frontend doesn't currently support widgets.\n",
       "</p>\n"
      ],
      "text/plain": [
       "HBox(children=(IntProgress(value=1, bar_style='info', max=1), HTML(value='')))"
      ]
     },
     "metadata": {},
     "output_type": "display_data"
    },
    {
     "name": "stdout",
     "output_type": "stream",
     "text": [
      "\n"
     ]
    }
   ],
   "source": [
    "df_tr = pd.DataFrame(data= extract_features_and_write(PATH_TO_DATA, 'train.json', is_train = True))"
   ]
  },
  {
   "cell_type": "code",
   "execution_count": 164,
   "metadata": {},
   "outputs": [
    {
     "data": {
      "application/vnd.jupyter.widget-view+json": {
       "model_id": "eba28825eadd42cc9c2ec7ba0dafd59e",
       "version_major": 2,
       "version_minor": 0
      },
      "text/html": [
       "<p>Failed to display Jupyter Widget of type <code>HBox</code>.</p>\n",
       "<p>\n",
       "  If you're reading this message in the Jupyter Notebook or JupyterLab Notebook, it may mean\n",
       "  that the widgets JavaScript is still loading. If this message persists, it\n",
       "  likely means that the widgets JavaScript library is either not installed or\n",
       "  not enabled. See the <a href=\"https://ipywidgets.readthedocs.io/en/stable/user_install.html\">Jupyter\n",
       "  Widgets Documentation</a> for setup instructions.\n",
       "</p>\n",
       "<p>\n",
       "  If you're reading this message in another frontend (for example, a static\n",
       "  rendering on GitHub or <a href=\"https://nbviewer.jupyter.org/\">NBViewer</a>),\n",
       "  it may mean that your frontend doesn't currently support widgets.\n",
       "</p>\n"
      ],
      "text/plain": [
       "HBox(children=(IntProgress(value=1, bar_style='info', max=1), HTML(value='')))"
      ]
     },
     "metadata": {},
     "output_type": "display_data"
    },
    {
     "name": "stdout",
     "output_type": "stream",
     "text": [
      "\n"
     ]
    }
   ],
   "source": [
    "test_df = pd.DataFrame(data= extract_features_and_write(PATH_TO_DATA, 'test.json', is_train=False))"
   ]
  },
  {
   "cell_type": "code",
   "execution_count": 71,
   "metadata": {},
   "outputs": [
    {
     "data": {
      "text/html": [
       "<div>\n",
       "<style scoped>\n",
       "    .dataframe tbody tr th:only-of-type {\n",
       "        vertical-align: middle;\n",
       "    }\n",
       "\n",
       "    .dataframe tbody tr th {\n",
       "        vertical-align: top;\n",
       "    }\n",
       "\n",
       "    .dataframe thead th {\n",
       "        text-align: right;\n",
       "    }\n",
       "</style>\n",
       "<table border=\"1\" class=\"dataframe\">\n",
       "  <thead>\n",
       "    <tr style=\"text-align: right;\">\n",
       "      <th></th>\n",
       "      <th>author</th>\n",
       "      <th>content</th>\n",
       "      <th>description</th>\n",
       "      <th>domain</th>\n",
       "      <th>min_to_read</th>\n",
       "      <th>published</th>\n",
       "      <th>robots</th>\n",
       "      <th>title</th>\n",
       "    </tr>\n",
       "  </thead>\n",
       "  <tbody>\n",
       "    <tr>\n",
       "      <th>0</th>\n",
       "      <td>https://medium.com/@Medium</td>\n",
       "      <td>MediumEveryone’s stories and ideasAug 13, 2012...</td>\n",
       "      <td>These Terms of Service (“Terms”) are a contrac...</td>\n",
       "      <td>medium.com</td>\n",
       "      <td>5</td>\n",
       "      <td>2012-08-13T22:54:53.510Z</td>\n",
       "      <td>index</td>\n",
       "      <td>Medium Terms of Service – Medium Policy – Medium</td>\n",
       "    </tr>\n",
       "    <tr>\n",
       "      <th>1</th>\n",
       "      <td>https://medium.com/@Medium</td>\n",
       "      <td>MediumEveryone’s stories and ideasAug 2, 2015 ...</td>\n",
       "      <td>This agreement (“Amendment”) is an amendment t...</td>\n",
       "      <td>medium.com</td>\n",
       "      <td>7</td>\n",
       "      <td>2015-08-03T07:44:50.331Z</td>\n",
       "      <td>noindex</td>\n",
       "      <td>Amendment to Medium Terms of Service Applicabl...</td>\n",
       "    </tr>\n",
       "    <tr>\n",
       "      <th>2</th>\n",
       "      <td>https://medium.com/@aelcenganda</td>\n",
       "      <td>Yun-Chen Chien（簡韻真）Nobody in @g0v.tw, PM in se...</td>\n",
       "      <td>閩東海濱是個山接海的地方，沿海是小小的灣澳錯落，漁船或遠或近地停泊。當我們沿著海邊走時，羅士...</td>\n",
       "      <td>medium.com</td>\n",
       "      <td>2</td>\n",
       "      <td>2017-02-05T13:08:17.410Z</td>\n",
       "      <td>index</td>\n",
       "      <td>走入山與海之間：閩東大刀會和兩岸走私 – Yun-Chen Chien（簡韻真） – Medium</td>\n",
       "    </tr>\n",
       "  </tbody>\n",
       "</table>\n",
       "</div>"
      ],
      "text/plain": [
       "                            author  \\\n",
       "0       https://medium.com/@Medium   \n",
       "1       https://medium.com/@Medium   \n",
       "2  https://medium.com/@aelcenganda   \n",
       "\n",
       "                                             content  \\\n",
       "0  MediumEveryone’s stories and ideasAug 13, 2012...   \n",
       "1  MediumEveryone’s stories and ideasAug 2, 2015 ...   \n",
       "2  Yun-Chen Chien（簡韻真）Nobody in @g0v.tw, PM in se...   \n",
       "\n",
       "                                         description      domain min_to_read  \\\n",
       "0  These Terms of Service (“Terms”) are a contrac...  medium.com           5   \n",
       "1  This agreement (“Amendment”) is an amendment t...  medium.com           7   \n",
       "2  閩東海濱是個山接海的地方，沿海是小小的灣澳錯落，漁船或遠或近地停泊。當我們沿著海邊走時，羅士...  medium.com           2   \n",
       "\n",
       "                  published   robots  \\\n",
       "0  2012-08-13T22:54:53.510Z    index   \n",
       "1  2015-08-03T07:44:50.331Z  noindex   \n",
       "2  2017-02-05T13:08:17.410Z    index   \n",
       "\n",
       "                                               title  \n",
       "0   Medium Terms of Service – Medium Policy – Medium  \n",
       "1  Amendment to Medium Terms of Service Applicabl...  \n",
       "2  走入山與海之間：閩東大刀會和兩岸走私 – Yun-Chen Chien（簡韻真） – Medium  "
      ]
     },
     "execution_count": 71,
     "metadata": {},
     "output_type": "execute_result"
    }
   ],
   "source": [
    "df_tr.head(3)"
   ]
  },
  {
   "cell_type": "code",
   "execution_count": 74,
   "metadata": {},
   "outputs": [],
   "source": [
    "df_tr.published= df_tr.published.astype('datetime64[ns]')"
   ]
  },
  {
   "cell_type": "code",
   "execution_count": 75,
   "metadata": {},
   "outputs": [],
   "source": [
    "df_tr.min_to_read = df_tr.min_to_read.astype(int)"
   ]
  },
  {
   "cell_type": "code",
   "execution_count": 123,
   "metadata": {},
   "outputs": [
    {
     "data": {
      "text/html": [
       "<div>\n",
       "<style scoped>\n",
       "    .dataframe tbody tr th:only-of-type {\n",
       "        vertical-align: middle;\n",
       "    }\n",
       "\n",
       "    .dataframe tbody tr th {\n",
       "        vertical-align: top;\n",
       "    }\n",
       "\n",
       "    .dataframe thead th {\n",
       "        text-align: right;\n",
       "    }\n",
       "</style>\n",
       "<table border=\"1\" class=\"dataframe\">\n",
       "  <thead>\n",
       "    <tr style=\"text-align: right;\">\n",
       "      <th></th>\n",
       "      <th>author</th>\n",
       "      <th>content</th>\n",
       "      <th>description</th>\n",
       "      <th>domain</th>\n",
       "      <th>min_to_read</th>\n",
       "      <th>published</th>\n",
       "      <th>robots</th>\n",
       "      <th>title</th>\n",
       "    </tr>\n",
       "  </thead>\n",
       "  <tbody>\n",
       "    <tr>\n",
       "      <th>0</th>\n",
       "      <td>https://medium.com/@Medium</td>\n",
       "      <td>MediumEveryone’s stories and ideasAug 13, 2012...</td>\n",
       "      <td>These Terms of Service (“Terms”) are a contrac...</td>\n",
       "      <td>medium.com</td>\n",
       "      <td>5</td>\n",
       "      <td>2012-08-13 22:54:53.510</td>\n",
       "      <td>index</td>\n",
       "      <td>Medium Terms of Service – Medium Policy – Medium</td>\n",
       "    </tr>\n",
       "    <tr>\n",
       "      <th>1</th>\n",
       "      <td>https://medium.com/@Medium</td>\n",
       "      <td>MediumEveryone’s stories and ideasAug 2, 2015 ...</td>\n",
       "      <td>This agreement (“Amendment”) is an amendment t...</td>\n",
       "      <td>medium.com</td>\n",
       "      <td>7</td>\n",
       "      <td>2015-08-03 07:44:50.331</td>\n",
       "      <td>noindex</td>\n",
       "      <td>Amendment to Medium Terms of Service Applicabl...</td>\n",
       "    </tr>\n",
       "    <tr>\n",
       "      <th>2</th>\n",
       "      <td>https://medium.com/@aelcenganda</td>\n",
       "      <td>Yun-Chen Chien（簡韻真）Nobody in @g0v.tw, PM in se...</td>\n",
       "      <td>閩東海濱是個山接海的地方，沿海是小小的灣澳錯落，漁船或遠或近地停泊。當我們沿著海邊走時，羅士...</td>\n",
       "      <td>medium.com</td>\n",
       "      <td>2</td>\n",
       "      <td>2017-02-05 13:08:17.410</td>\n",
       "      <td>index</td>\n",
       "      <td>走入山與海之間：閩東大刀會和兩岸走私 – Yun-Chen Chien（簡韻真） – Medium</td>\n",
       "    </tr>\n",
       "    <tr>\n",
       "      <th>3</th>\n",
       "      <td>https://medium.com/@vaibhavkhulbe</td>\n",
       "      <td>Vaibhav KhulbeAndroid App Developer | I write ...</td>\n",
       "      <td>Answer this question yourself. What’s the high...</td>\n",
       "      <td>medium.com</td>\n",
       "      <td>3</td>\n",
       "      <td>2017-05-06 08:16:30.776</td>\n",
       "      <td>index</td>\n",
       "      <td>How fast can a camera get? – What comes to min...</td>\n",
       "    </tr>\n",
       "    <tr>\n",
       "      <th>4</th>\n",
       "      <td>https://medium.com/@vaibhavkhulbe</td>\n",
       "      <td>Vaibhav KhulbeAndroid App Developer | I write ...</td>\n",
       "      <td>At this point you must be wary about my brain’...</td>\n",
       "      <td>medium.com</td>\n",
       "      <td>4</td>\n",
       "      <td>2017-06-04 14:46:25.772</td>\n",
       "      <td>index</td>\n",
       "      <td>A game for the lonely fox – What comes to mind...</td>\n",
       "    </tr>\n",
       "    <tr>\n",
       "      <th>5</th>\n",
       "      <td>https://medium.com/@pettykate</td>\n",
       "      <td>Kate Reed Pettyi like you. pettykate.comApr 2,...</td>\n",
       "      <td>I got the idea while reading this Leah Finnega...</td>\n",
       "      <td>medium.com</td>\n",
       "      <td>7</td>\n",
       "      <td>2017-04-02 16:21:15.171</td>\n",
       "      <td>index</td>\n",
       "      <td>Now That’s Comedy – Kate Reed Petty – Medium</td>\n",
       "    </tr>\n",
       "    <tr>\n",
       "      <th>6</th>\n",
       "      <td>https://medium.com/@exedre</td>\n",
       "      <td>exedreauthor ● about.me/exedre ● esomma@ieee.o...</td>\n",
       "      <td>Un grande segreto e non sto parlando degli ali...</td>\n",
       "      <td>medium.com</td>\n",
       "      <td>12</td>\n",
       "      <td>2016-08-15 04:16:02.103</td>\n",
       "      <td>index</td>\n",
       "      <td>Che fine ha fatto «Gola Profonda»? – exedre – ...</td>\n",
       "    </tr>\n",
       "    <tr>\n",
       "      <th>7</th>\n",
       "      <td>https://medium.com/@RaghavHaran</td>\n",
       "      <td>Raghav HaranHelping ambitious people build car...</td>\n",
       "      <td>Working professionals aged 24–35 who travel fr...</td>\n",
       "      <td>medium.com</td>\n",
       "      <td>5</td>\n",
       "      <td>2015-01-14 21:31:07.568</td>\n",
       "      <td>index</td>\n",
       "      <td>Airbnb Guerilla Usability Testing – Interactiv...</td>\n",
       "    </tr>\n",
       "    <tr>\n",
       "      <th>8</th>\n",
       "      <td>https://medium.com/@___fl</td>\n",
       "      <td>Francine LeeUX + Visual: http://francine.ioFeb...</td>\n",
       "      <td>Dropbox is a great product, but a quick usabil...</td>\n",
       "      <td>medium.com</td>\n",
       "      <td>4</td>\n",
       "      <td>2014-02-11 04:11:54.771</td>\n",
       "      <td>index</td>\n",
       "      <td>A Guerilla Usability Test on Dropbox Photos – ...</td>\n",
       "    </tr>\n",
       "    <tr>\n",
       "      <th>9</th>\n",
       "      <td>https://medium.com/@RaghavHaran</td>\n",
       "      <td>Raghav HaranHelping ambitious people build car...</td>\n",
       "      <td>Maybe it’s just because I’m from the Midwest. ...</td>\n",
       "      <td>medium.com</td>\n",
       "      <td>8</td>\n",
       "      <td>2015-10-25 02:58:05.551</td>\n",
       "      <td>index</td>\n",
       "      <td>How to Get Any Job You Want (even if you’re un...</td>\n",
       "    </tr>\n",
       "    <tr>\n",
       "      <th>10</th>\n",
       "      <td>https://medium.com/@1000ant</td>\n",
       "      <td>E²Be who you are and say what you feel because...</td>\n",
       "      <td>If you think I can actually provide any insigh...</td>\n",
       "      <td>medium.com</td>\n",
       "      <td>4</td>\n",
       "      <td>2016-08-15 15:31:13.601</td>\n",
       "      <td>index</td>\n",
       "      <td>On Trump, Brexit and Predictions; – E² – Medium</td>\n",
       "    </tr>\n",
       "    <tr>\n",
       "      <th>11</th>\n",
       "      <td>https://medium.com/@onemonth</td>\n",
       "      <td>One MonthLearn to code. Build your company. Al...</td>\n",
       "      <td>After someone asked me in a recent Founder Fri...</td>\n",
       "      <td>medium.com</td>\n",
       "      <td>9</td>\n",
       "      <td>2016-08-09 21:01:06.303</td>\n",
       "      <td>index</td>\n",
       "      <td>29 Books Every Entrepreneur Should Read in 201...</td>\n",
       "    </tr>\n",
       "    <tr>\n",
       "      <th>12</th>\n",
       "      <td>10100249445007253</td>\n",
       "      <td>Frank DeGeorgeEntrepreneur since age 16. Found...</td>\n",
       "      <td>Hundreds of thousands of people visit our mark...</td>\n",
       "      <td>hackernoon.com</td>\n",
       "      <td>7</td>\n",
       "      <td>2016-09-08 15:47:57.336</td>\n",
       "      <td>index</td>\n",
       "      <td>The Basics of Staking in Poker – Hacker Noon</td>\n",
       "    </tr>\n",
       "    <tr>\n",
       "      <th>13</th>\n",
       "      <td>https://medium.com/@gregriojung</td>\n",
       "      <td>Gregório JungSep 30, 2016Crônicas do Mundial (...</td>\n",
       "      <td>Ano passado, nessa mesma época, eu comecei uma...</td>\n",
       "      <td>medium.com</td>\n",
       "      <td>8</td>\n",
       "      <td>2016-09-30 18:05:35.950</td>\n",
       "      <td>index</td>\n",
       "      <td>Crônicas do Mundial (29/09): Voltamos – Gregór...</td>\n",
       "    </tr>\n",
       "    <tr>\n",
       "      <th>14</th>\n",
       "      <td>10153957167401798</td>\n",
       "      <td>Stephen HaysManaging Partner at Deep Space Ven...</td>\n",
       "      <td>Esports is a huge global market, with intense ...</td>\n",
       "      <td>hackernoon.com</td>\n",
       "      <td>7</td>\n",
       "      <td>2017-06-27 15:49:22.909</td>\n",
       "      <td>index</td>\n",
       "      <td>Why Invest in Esports? Common Questions about ...</td>\n",
       "    </tr>\n",
       "    <tr>\n",
       "      <th>15</th>\n",
       "      <td>https://medium.com/@raskin</td>\n",
       "      <td>Andy RaskinHelping leaders tell strategic stor...</td>\n",
       "      <td>Three weeks ago, the CMO of a San Francisco st...</td>\n",
       "      <td>medium.com</td>\n",
       "      <td>5</td>\n",
       "      <td>2015-07-13 06:52:44.618</td>\n",
       "      <td>index</td>\n",
       "      <td>Want a Better Pitch? Watch This. – Firm Narrat...</td>\n",
       "    </tr>\n",
       "    <tr>\n",
       "      <th>16</th>\n",
       "      <td>10153957167401798</td>\n",
       "      <td>Stephen HaysManaging Partner at Deep Space Ven...</td>\n",
       "      <td>What should your thesis be as a new angel or v...</td>\n",
       "      <td>hackernoon.com</td>\n",
       "      <td>8</td>\n",
       "      <td>2017-05-01 13:22:43.785</td>\n",
       "      <td>index</td>\n",
       "      <td>The Birth of a Venture Capital Investment Thes...</td>\n",
       "    </tr>\n",
       "    <tr>\n",
       "      <th>17</th>\n",
       "      <td>https://medium.com/@raskin</td>\n",
       "      <td>Andy RaskinHelping leaders tell strategic stor...</td>\n",
       "      <td>Two months ago, I launched a landing page to e...</td>\n",
       "      <td>medium.com</td>\n",
       "      <td>7</td>\n",
       "      <td>2016-08-31 17:11:24.263</td>\n",
       "      <td>index</td>\n",
       "      <td>Why Sales Teams Crave Storytelling Training – ...</td>\n",
       "    </tr>\n",
       "    <tr>\n",
       "      <th>18</th>\n",
       "      <td>1018963048150411</td>\n",
       "      <td>Mohit MamoriaCEO, Authorito Capital (https://a...</td>\n",
       "      <td>Unless you’re hiding under the rock, I am sure...</td>\n",
       "      <td>hackernoon.com</td>\n",
       "      <td>16</td>\n",
       "      <td>2017-06-30 07:55:55.103</td>\n",
       "      <td>index</td>\n",
       "      <td>WTF is The Blockchain? – Hacker Noon</td>\n",
       "    </tr>\n",
       "    <tr>\n",
       "      <th>19</th>\n",
       "      <td>https://medium.com/@oscarboyson</td>\n",
       "      <td>Oscar BoysonNew York City FilmmakingDec 13, 20...</td>\n",
       "      <td>What does “the future of cities” mean? To much...</td>\n",
       "      <td>medium.com</td>\n",
       "      <td>6</td>\n",
       "      <td>2016-12-13 23:29:35.556</td>\n",
       "      <td>index</td>\n",
       "      <td>The Future of Cities – Oscar Boyson – Medium</td>\n",
       "    </tr>\n",
       "    <tr>\n",
       "      <th>20</th>\n",
       "      <td>https://hackernoon.com/@bmverne</td>\n",
       "      <td>Brian VerneOberlin College '09, former college...</td>\n",
       "      <td>In writing this piece, I find it funny how thi...</td>\n",
       "      <td>hackernoon.com</td>\n",
       "      <td>5</td>\n",
       "      <td>2016-01-27 22:19:05.027</td>\n",
       "      <td>index</td>\n",
       "      <td>Phenom, a 500 Startups Company – Hacker Noon</td>\n",
       "    </tr>\n",
       "    <tr>\n",
       "      <th>21</th>\n",
       "      <td>https://hackernoon.com/@morganlcourtney</td>\n",
       "      <td>Morgan CourtneyLover of design, innovation, el...</td>\n",
       "      <td>I’m not late for work. I’m never late for work...</td>\n",
       "      <td>hackernoon.com</td>\n",
       "      <td>11</td>\n",
       "      <td>2016-12-14 01:15:02.122</td>\n",
       "      <td>index</td>\n",
       "      <td>Pythagoras, 2116 A.D. – Hacker Noon</td>\n",
       "    </tr>\n",
       "    <tr>\n",
       "      <th>22</th>\n",
       "      <td>https://medium.com/@jlcarter_sr</td>\n",
       "      <td>Jarrett Carter Sr.Christian | Husband | Father...</td>\n",
       "      <td>The black college football season opened last ...</td>\n",
       "      <td>medium.com</td>\n",
       "      <td>4</td>\n",
       "      <td>2016-09-05 22:02:40.326</td>\n",
       "      <td>index</td>\n",
       "      <td>HBCU Football Success and Fails — Week 1 – HBC...</td>\n",
       "    </tr>\n",
       "    <tr>\n",
       "      <th>23</th>\n",
       "      <td>https://medium.com/@thrace</td>\n",
       "      <td>thracePodcast w/ @gabpdx, http://soundcloud.co...</td>\n",
       "      <td>Pitch had its good moments, but it tended to g...</td>\n",
       "      <td>medium.com</td>\n",
       "      <td>8</td>\n",
       "      <td>2016-12-13 17:59:40.527</td>\n",
       "      <td>index</td>\n",
       "      <td>What Pitch got wrong in season 1 – thrace – Me...</td>\n",
       "    </tr>\n",
       "    <tr>\n",
       "      <th>24</th>\n",
       "      <td>https://medium.com/@jakeelman97</td>\n",
       "      <td>JakeElmanI chose the Yankees, Jets, Nets, and ...</td>\n",
       "      <td>While Pitch was far from a perfect show, its c...</td>\n",
       "      <td>medium.com</td>\n",
       "      <td>8</td>\n",
       "      <td>2017-05-02 17:28:39.120</td>\n",
       "      <td>index</td>\n",
       "      <td>FOX Whiffs In Sudden Cancellation of ‘Pitch’ –...</td>\n",
       "    </tr>\n",
       "    <tr>\n",
       "      <th>25</th>\n",
       "      <td>https://medium.com/@hannamfogel</td>\n",
       "      <td>Hanna FogelAug 30, 2016A Link of Her Own: Augu...</td>\n",
       "      <td>Tonight at the U.S. Open, Serena Williams kick...</td>\n",
       "      <td>medium.com</td>\n",
       "      <td>2</td>\n",
       "      <td>2016-08-30 23:43:24.940</td>\n",
       "      <td>index</td>\n",
       "      <td>This Serena Williams Billboard Is Super Powerf...</td>\n",
       "    </tr>\n",
       "    <tr>\n",
       "      <th>26</th>\n",
       "      <td>https://medium.com/@asaeda</td>\n",
       "      <td>AsaedaBeatrobo CEO http://beatrobo.com Melting...</td>\n",
       "      <td>Amazonは一見アマゾン本体が販売しているように見えても、実はまったく違う会社が同じレイア...</td>\n",
       "      <td>medium.com</td>\n",
       "      <td>9</td>\n",
       "      <td>2017-04-26 02:50:29.511</td>\n",
       "      <td>index</td>\n",
       "      <td>Amazonで騙されないで買い物する方法 – Asaeda – Medium</td>\n",
       "    </tr>\n",
       "    <tr>\n",
       "      <th>27</th>\n",
       "      <td>https://medium.com/@Jamal_archeologist</td>\n",
       "      <td>Dr. Syed Jamal HasanEx-Director, Archaeology, ...</td>\n",
       "      <td>Archaeological Survey of India is a premier or...</td>\n",
       "      <td>medium.com</td>\n",
       "      <td>11</td>\n",
       "      <td>2016-06-18 06:54:10.331</td>\n",
       "      <td>index</td>\n",
       "      <td>Maintenance of tomb in India – Dr. Syed Jamal ...</td>\n",
       "    </tr>\n",
       "    <tr>\n",
       "      <th>28</th>\n",
       "      <td>https://medium.com/@tiffanyfayj</td>\n",
       "      <td>tiffany jerniganDeveloper+Advocate @AWScloud-@...</td>\n",
       "      <td>Docker recently released new versions for thei...</td>\n",
       "      <td>medium.com</td>\n",
       "      <td>7</td>\n",
       "      <td>2016-05-17 17:52:00.960</td>\n",
       "      <td>index</td>\n",
       "      <td>Docker 1.11 et plus: Engine is now built on ru...</td>\n",
       "    </tr>\n",
       "    <tr>\n",
       "      <th>29</th>\n",
       "      <td>https://medium.com/@richychacon</td>\n",
       "      <td>Richy ChaconAnthropologist. Archaeologist. Cos...</td>\n",
       "      <td>World Heritage Sites constantly face problems ...</td>\n",
       "      <td>medium.com</td>\n",
       "      <td>4</td>\n",
       "      <td>2017-04-17 16:29:28.306</td>\n",
       "      <td>index</td>\n",
       "      <td>Digital Preservation of World Heritage: Tikal,...</td>\n",
       "    </tr>\n",
       "    <tr>\n",
       "      <th>...</th>\n",
       "      <td>...</td>\n",
       "      <td>...</td>\n",
       "      <td>...</td>\n",
       "      <td>...</td>\n",
       "      <td>...</td>\n",
       "      <td>...</td>\n",
       "      <td>...</td>\n",
       "      <td>...</td>\n",
       "    </tr>\n",
       "    <tr>\n",
       "      <th>62283</th>\n",
       "      <td>https://medium.com/@jbashaw13</td>\n",
       "      <td>Jacqueline BashawWriter/editor of the Typewrit...</td>\n",
       "      <td>UK singer-songwriter Lewis Watson is leaving h...</td>\n",
       "      <td>medium.com</td>\n",
       "      <td>4</td>\n",
       "      <td>2017-06-26 20:07:57.240</td>\n",
       "      <td>index</td>\n",
       "      <td>Album Review: Lewis Watson — midnight – ArtMag...</td>\n",
       "    </tr>\n",
       "    <tr>\n",
       "      <th>62284</th>\n",
       "      <td>https://medium.com/@lilykherman</td>\n",
       "      <td>Lily HermanI write and tweet a lot.May 23, 201...</td>\n",
       "      <td>Hilariously, the world of entertainment writin...</td>\n",
       "      <td>medium.com</td>\n",
       "      <td>5</td>\n",
       "      <td>2017-05-23 23:24:15.931</td>\n",
       "      <td>index</td>\n",
       "      <td>Why I Started an Entertainment Blog So That I ...</td>\n",
       "    </tr>\n",
       "    <tr>\n",
       "      <th>62285</th>\n",
       "      <td>https://medium.com/@angelbrittany</td>\n",
       "      <td>Angel PowellWriter. Nicest when I’m sleep or y...</td>\n",
       "      <td>Often, life is hard and we all need a break — ...</td>\n",
       "      <td>medium.com</td>\n",
       "      <td>5</td>\n",
       "      <td>2017-02-02 17:52:00.430</td>\n",
       "      <td>index</td>\n",
       "      <td>The Cost of Escapism – The Billfold – Medium</td>\n",
       "    </tr>\n",
       "    <tr>\n",
       "      <th>62286</th>\n",
       "      <td>https://medium.com/@lilykherman</td>\n",
       "      <td>Lily HermanI write and tweet a lot.Jun 14, 201...</td>\n",
       "      <td>Welcome to PodFodder, where I talk to the peop...</td>\n",
       "      <td>medium.com</td>\n",
       "      <td>6</td>\n",
       "      <td>2017-06-14 15:17:18.712</td>\n",
       "      <td>index</td>\n",
       "      <td>Is Margaret Thatcher in Slytherin or Hufflepuf...</td>\n",
       "    </tr>\n",
       "    <tr>\n",
       "      <th>62287</th>\n",
       "      <td>https://medium.com/@TheHairpin</td>\n",
       "      <td>The HairpinLadies first.Nov 12, 2014Black Girl...</td>\n",
       "      <td>It was another muggy summer, the summer I disc...</td>\n",
       "      <td>medium.com</td>\n",
       "      <td>12</td>\n",
       "      <td>2014-11-12 19:00:00.000</td>\n",
       "      <td>index</td>\n",
       "      <td>Black Girls Don’t Read Sylvia Plath – The Hair...</td>\n",
       "    </tr>\n",
       "    <tr>\n",
       "      <th>62288</th>\n",
       "      <td>https://medium.com/@TheBillfold</td>\n",
       "      <td>The BillfoldMar 18, 2014Here’s A Surefire Tax ...</td>\n",
       "      <td>I wrote about my surefire tax estimation syste...</td>\n",
       "      <td>medium.com</td>\n",
       "      <td>14</td>\n",
       "      <td>2014-03-18 10:55:54.000</td>\n",
       "      <td>index</td>\n",
       "      <td>Here’s A Surefire Tax Estimating Process for F...</td>\n",
       "    </tr>\n",
       "    <tr>\n",
       "      <th>62289</th>\n",
       "      <td>https://medium.com/@TheAwl</td>\n",
       "      <td>The AwlBe less stupid.May 3, 2012Roman Emperor...</td>\n",
       "      <td>84–65 (tie). Titus (died in AD 81), Nerva (98)...</td>\n",
       "      <td>medium.com</td>\n",
       "      <td>4</td>\n",
       "      <td>2012-05-03 19:00:03.000</td>\n",
       "      <td>index</td>\n",
       "      <td>Roman Emperors, Up To AD 476 And Not Including...</td>\n",
       "    </tr>\n",
       "    <tr>\n",
       "      <th>62290</th>\n",
       "      <td>https://medium.com/@jfruh</td>\n",
       "      <td>Josh FruhlingerI am the Comics Curmudgeon, amo...</td>\n",
       "      <td>I had a succesful Kickstarter to launch a nove...</td>\n",
       "      <td>medium.com</td>\n",
       "      <td>18</td>\n",
       "      <td>2015-11-02 06:12:22.782</td>\n",
       "      <td>index</td>\n",
       "      <td>The Enthusiast – Josh Fruhlinger – Medium</td>\n",
       "    </tr>\n",
       "    <tr>\n",
       "      <th>62291</th>\n",
       "      <td>https://medium.com/@TheAwl</td>\n",
       "      <td>The AwlBe less stupid.Nov 1, 2012My Misbegotte...</td>\n",
       "      <td>As National Novel Writing Month gets underway,...</td>\n",
       "      <td>medium.com</td>\n",
       "      <td>9</td>\n",
       "      <td>2012-11-02 00:00:54.000</td>\n",
       "      <td>index</td>\n",
       "      <td>My Misbegotten Historical Romance – The Awl – ...</td>\n",
       "    </tr>\n",
       "    <tr>\n",
       "      <th>62292</th>\n",
       "      <td>https://medium.com/@david_j_roth</td>\n",
       "      <td>David RothBest American Sporpswriting (and edi...</td>\n",
       "      <td>As National Novel Writing Month enters its fin...</td>\n",
       "      <td>medium.com</td>\n",
       "      <td>6</td>\n",
       "      <td>2012-11-29 20:00:42.000</td>\n",
       "      <td>index</td>\n",
       "      <td>My Books Of Sad Jews  – The Awl – Medium</td>\n",
       "    </tr>\n",
       "    <tr>\n",
       "      <th>62293</th>\n",
       "      <td>https://medium.com/@TheAwl</td>\n",
       "      <td>The AwlBe less stupid.Nov 28, 2012My Extremely...</td>\n",
       "      <td>As National Novel Writing Month enters its fin...</td>\n",
       "      <td>medium.com</td>\n",
       "      <td>8</td>\n",
       "      <td>2012-11-28 18:00:10.000</td>\n",
       "      <td>index</td>\n",
       "      <td>My Extremely Dead Zombie-Vampire Novel  – The ...</td>\n",
       "    </tr>\n",
       "    <tr>\n",
       "      <th>62294</th>\n",
       "      <td>https://medium.com/@CeciliaOlliveira</td>\n",
       "      <td>Cecília OlliveiraJun 9, 2016Existe crise econô...</td>\n",
       "      <td>~POR CAUSA DA CRISE~,o Governo do Estado do Ri...</td>\n",
       "      <td>medium.com</td>\n",
       "      <td>3</td>\n",
       "      <td>2016-06-09 16:19:34.121</td>\n",
       "      <td>index</td>\n",
       "      <td>Existe crise econômica no Rio de Janeiro? Spoi...</td>\n",
       "    </tr>\n",
       "    <tr>\n",
       "      <th>62295</th>\n",
       "      <td>https://medium.com/@AmyHawman</td>\n",
       "      <td>Amy HawmanVP Marketing at Transifex \\nPassiona...</td>\n",
       "      <td>My company, Transifex recently got a new look ...</td>\n",
       "      <td>medium.com</td>\n",
       "      <td>8</td>\n",
       "      <td>2016-06-23 17:39:16.171</td>\n",
       "      <td>index</td>\n",
       "      <td>The Process of Making our Marketing Website Mu...</td>\n",
       "    </tr>\n",
       "    <tr>\n",
       "      <th>62296</th>\n",
       "      <td>https://medium.com/@landotrott</td>\n",
       "      <td>Orlando TrottDigital Strategist | Follow for i...</td>\n",
       "      <td>Doing business internationally is an essential...</td>\n",
       "      <td>medium.com</td>\n",
       "      <td>5</td>\n",
       "      <td>2016-08-23 00:33:48.276</td>\n",
       "      <td>index</td>\n",
       "      <td>Doing Business Internationally Through Faceboo...</td>\n",
       "    </tr>\n",
       "    <tr>\n",
       "      <th>62297</th>\n",
       "      <td>https://medium.com/@transifex</td>\n",
       "      <td>TransifexTransifex puts you in control of the ...</td>\n",
       "      <td>Technically, the most direct way to build a gl...</td>\n",
       "      <td>medium.com</td>\n",
       "      <td>6</td>\n",
       "      <td>2015-07-20 15:16:40.169</td>\n",
       "      <td>index</td>\n",
       "      <td>Why Is Localization So Dang Hard? – Transifex ...</td>\n",
       "    </tr>\n",
       "    <tr>\n",
       "      <th>62298</th>\n",
       "      <td>https://medium.com/@LABIOMED52</td>\n",
       "      <td>LA BioMedA non-profit scientific research orga...</td>\n",
       "      <td>As we put 2015 behind us, we can look back on ...</td>\n",
       "      <td>medium.com</td>\n",
       "      <td>3</td>\n",
       "      <td>2015-12-31 22:06:54.772</td>\n",
       "      <td>index</td>\n",
       "      <td>LA BioMed: 2015 in Pictures – LA BioMed – Medium</td>\n",
       "    </tr>\n",
       "    <tr>\n",
       "      <th>62299</th>\n",
       "      <td>https://medium.com/@jesschenriolfi</td>\n",
       "      <td>Jessica Chen RiolfiProduct @TransferWise, fasc...</td>\n",
       "      <td>In the previous post, I discussed the first co...</td>\n",
       "      <td>medium.com</td>\n",
       "      <td>7</td>\n",
       "      <td>2017-01-05 16:19:59.807</td>\n",
       "      <td>index</td>\n",
       "      <td>A smarter international expansion — Part II – ...</td>\n",
       "    </tr>\n",
       "    <tr>\n",
       "      <th>62300</th>\n",
       "      <td>https://medium.com/@PierreAbel</td>\n",
       "      <td>Pierre @ L’EscapadouFamily design studio dedic...</td>\n",
       "      <td>My strategy with L’Escapadou has always been t...</td>\n",
       "      <td>medium.com</td>\n",
       "      <td>7</td>\n",
       "      <td>2016-03-21 18:48:18.079</td>\n",
       "      <td>index</td>\n",
       "      <td>To Update, or Not Update Apps, That Is the Que...</td>\n",
       "    </tr>\n",
       "    <tr>\n",
       "      <th>62301</th>\n",
       "      <td>https://medium.com/@NickTroiano</td>\n",
       "      <td>Nick TroianoExecutive Director, The Centrist P...</td>\n",
       "      <td>Having long bemoaned widespread political apat...</td>\n",
       "      <td>medium.com</td>\n",
       "      <td>6</td>\n",
       "      <td>2017-02-07 18:34:31.427</td>\n",
       "      <td>index</td>\n",
       "      <td>Resistance, without reform, is not enough – Ni...</td>\n",
       "    </tr>\n",
       "    <tr>\n",
       "      <th>62302</th>\n",
       "      <td>https://medium.com/@amandalyon</td>\n",
       "      <td>Amanda L.Musician, teacher, Jedi, cat lover.Ju...</td>\n",
       "      <td>You don’t know me, but I respect you. You don’...</td>\n",
       "      <td>medium.com</td>\n",
       "      <td>9</td>\n",
       "      <td>2016-06-29 02:49:57.853</td>\n",
       "      <td>index</td>\n",
       "      <td>An Open Letter to the Concealed Carrier – Aman...</td>\n",
       "    </tr>\n",
       "    <tr>\n",
       "      <th>62303</th>\n",
       "      <td>https://medium.com/@mayank25may</td>\n",
       "      <td>Mayank AgarwalCo-Founder @sendxioOct 4, 2016Ho...</td>\n",
       "      <td>People usually underestimate the power of emai...</td>\n",
       "      <td>medium.com</td>\n",
       "      <td>4</td>\n",
       "      <td>2016-10-04 12:22:51.674</td>\n",
       "      <td>index</td>\n",
       "      <td>How to do Email Campaigns effectively at scale...</td>\n",
       "    </tr>\n",
       "    <tr>\n",
       "      <th>62304</th>\n",
       "      <td>https://medium.com/@mayank25may</td>\n",
       "      <td>Mayank AgarwalCo-Founder @sendxioOct 9, 2016Im...</td>\n",
       "      <td>This is Part 2 of the series of posts I am wri...</td>\n",
       "      <td>medium.com</td>\n",
       "      <td>9</td>\n",
       "      <td>2016-10-10 04:17:03.477</td>\n",
       "      <td>index</td>\n",
       "      <td>How to get your Email Subject right – SendX Bl...</td>\n",
       "    </tr>\n",
       "    <tr>\n",
       "      <th>62305</th>\n",
       "      <td>https://medium.com/@mayank25may</td>\n",
       "      <td>Mayank AgarwalCo-Founder @sendxioOct 20, 2016H...</td>\n",
       "      <td>In this post, I will be explaining how we got ...</td>\n",
       "      <td>medium.com</td>\n",
       "      <td>5</td>\n",
       "      <td>2016-10-21 06:30:55.281</td>\n",
       "      <td>index</td>\n",
       "      <td>How we got 31 Product Demos Scheduled with thi...</td>\n",
       "    </tr>\n",
       "    <tr>\n",
       "      <th>62306</th>\n",
       "      <td>https://medium.com/@RandiGloss</td>\n",
       "      <td>Randi Gloss@GLOSSRAGS Founder | Social Entrepr...</td>\n",
       "      <td>This post was originally published on Randi’s ...</td>\n",
       "      <td>medium.com</td>\n",
       "      <td>7</td>\n",
       "      <td>2017-05-23 04:37:28.709</td>\n",
       "      <td>index</td>\n",
       "      <td>Mental Health Awareness Month Spotlight: Randi...</td>\n",
       "    </tr>\n",
       "    <tr>\n",
       "      <th>62307</th>\n",
       "      <td>https://medium.com/@Politix_news</td>\n",
       "      <td>Heather NannI write stuff. Life Is Beautiful. ...</td>\n",
       "      <td>So. When I write, I write for me. If people li...</td>\n",
       "      <td>medium.com</td>\n",
       "      <td>3</td>\n",
       "      <td>2016-04-05 23:01:22.486</td>\n",
       "      <td>index</td>\n",
       "      <td>My stories, My children. – Femmes Unafraid – M...</td>\n",
       "    </tr>\n",
       "    <tr>\n",
       "      <th>62308</th>\n",
       "      <td>https://medium.com/@Politix_news</td>\n",
       "      <td>Heather NannI write stuff. Life Is Beautiful. ...</td>\n",
       "      <td>In my head I was curled up in the corner of th...</td>\n",
       "      <td>medium.com</td>\n",
       "      <td>4</td>\n",
       "      <td>2016-01-28 01:03:08.798</td>\n",
       "      <td>index</td>\n",
       "      <td>WhenIAlmostDied – Heather Nann – Medium</td>\n",
       "    </tr>\n",
       "    <tr>\n",
       "      <th>62309</th>\n",
       "      <td>https://medium.com/@Politix_news</td>\n",
       "      <td>Heather NannI write stuff. Life Is Beautiful. ...</td>\n",
       "      <td>So, that happened Tuesday night. That pleasant...</td>\n",
       "      <td>medium.com</td>\n",
       "      <td>5</td>\n",
       "      <td>2016-01-14 13:28:30.277</td>\n",
       "      <td>index</td>\n",
       "      <td>Twitter Troll Trigger Alert – Heather Nann – M...</td>\n",
       "    </tr>\n",
       "    <tr>\n",
       "      <th>62310</th>\n",
       "      <td>https://medium.com/@Politix_news</td>\n",
       "      <td>Heather NannI write stuff. Life Is Beautiful. ...</td>\n",
       "      <td>Lips meet. Tongues tangle: wet with wine and b...</td>\n",
       "      <td>medium.com</td>\n",
       "      <td>3</td>\n",
       "      <td>2016-03-06 06:51:45.307</td>\n",
       "      <td>index</td>\n",
       "      <td>Space and candles – Heather Nann – Medium</td>\n",
       "    </tr>\n",
       "    <tr>\n",
       "      <th>62311</th>\n",
       "      <td>https://medium.com/@nickytod</td>\n",
       "      <td>Nick TodorovFounder of @SwipHQ. Growth guy pas...</td>\n",
       "      <td>Guess what?\\nSwip now supports Work in Progres...</td>\n",
       "      <td>medium.com</td>\n",
       "      <td>7</td>\n",
       "      <td>2017-01-15 17:45:22.836</td>\n",
       "      <td>index</td>\n",
       "      <td>Laser focus your team using Work-In-Progress l...</td>\n",
       "    </tr>\n",
       "    <tr>\n",
       "      <th>62312</th>\n",
       "      <td>10209752558464639</td>\n",
       "      <td>Heather NannI write stuff. Life Is Beautiful. ...</td>\n",
       "      <td>I am not going to take her up on her suggestio...</td>\n",
       "      <td>byrslf.co</td>\n",
       "      <td>5</td>\n",
       "      <td>2016-01-25 03:20:33.005</td>\n",
       "      <td>index</td>\n",
       "      <td>“I WISH YOU WOULD KILL YOURSELF” – Be Yourself</td>\n",
       "    </tr>\n",
       "  </tbody>\n",
       "</table>\n",
       "<p>62313 rows × 8 columns</p>\n",
       "</div>"
      ],
      "text/plain": [
       "                                        author  \\\n",
       "0                   https://medium.com/@Medium   \n",
       "1                   https://medium.com/@Medium   \n",
       "2              https://medium.com/@aelcenganda   \n",
       "3            https://medium.com/@vaibhavkhulbe   \n",
       "4            https://medium.com/@vaibhavkhulbe   \n",
       "5                https://medium.com/@pettykate   \n",
       "6                   https://medium.com/@exedre   \n",
       "7              https://medium.com/@RaghavHaran   \n",
       "8                    https://medium.com/@___fl   \n",
       "9              https://medium.com/@RaghavHaran   \n",
       "10                 https://medium.com/@1000ant   \n",
       "11                https://medium.com/@onemonth   \n",
       "12                           10100249445007253   \n",
       "13             https://medium.com/@gregriojung   \n",
       "14                           10153957167401798   \n",
       "15                  https://medium.com/@raskin   \n",
       "16                           10153957167401798   \n",
       "17                  https://medium.com/@raskin   \n",
       "18                            1018963048150411   \n",
       "19             https://medium.com/@oscarboyson   \n",
       "20             https://hackernoon.com/@bmverne   \n",
       "21     https://hackernoon.com/@morganlcourtney   \n",
       "22             https://medium.com/@jlcarter_sr   \n",
       "23                  https://medium.com/@thrace   \n",
       "24             https://medium.com/@jakeelman97   \n",
       "25             https://medium.com/@hannamfogel   \n",
       "26                  https://medium.com/@asaeda   \n",
       "27      https://medium.com/@Jamal_archeologist   \n",
       "28             https://medium.com/@tiffanyfayj   \n",
       "29             https://medium.com/@richychacon   \n",
       "...                                        ...   \n",
       "62283            https://medium.com/@jbashaw13   \n",
       "62284          https://medium.com/@lilykherman   \n",
       "62285        https://medium.com/@angelbrittany   \n",
       "62286          https://medium.com/@lilykherman   \n",
       "62287           https://medium.com/@TheHairpin   \n",
       "62288          https://medium.com/@TheBillfold   \n",
       "62289               https://medium.com/@TheAwl   \n",
       "62290                https://medium.com/@jfruh   \n",
       "62291               https://medium.com/@TheAwl   \n",
       "62292         https://medium.com/@david_j_roth   \n",
       "62293               https://medium.com/@TheAwl   \n",
       "62294     https://medium.com/@CeciliaOlliveira   \n",
       "62295            https://medium.com/@AmyHawman   \n",
       "62296           https://medium.com/@landotrott   \n",
       "62297            https://medium.com/@transifex   \n",
       "62298           https://medium.com/@LABIOMED52   \n",
       "62299       https://medium.com/@jesschenriolfi   \n",
       "62300           https://medium.com/@PierreAbel   \n",
       "62301          https://medium.com/@NickTroiano   \n",
       "62302           https://medium.com/@amandalyon   \n",
       "62303          https://medium.com/@mayank25may   \n",
       "62304          https://medium.com/@mayank25may   \n",
       "62305          https://medium.com/@mayank25may   \n",
       "62306           https://medium.com/@RandiGloss   \n",
       "62307         https://medium.com/@Politix_news   \n",
       "62308         https://medium.com/@Politix_news   \n",
       "62309         https://medium.com/@Politix_news   \n",
       "62310         https://medium.com/@Politix_news   \n",
       "62311             https://medium.com/@nickytod   \n",
       "62312                        10209752558464639   \n",
       "\n",
       "                                                 content  \\\n",
       "0      MediumEveryone’s stories and ideasAug 13, 2012...   \n",
       "1      MediumEveryone’s stories and ideasAug 2, 2015 ...   \n",
       "2      Yun-Chen Chien（簡韻真）Nobody in @g0v.tw, PM in se...   \n",
       "3      Vaibhav KhulbeAndroid App Developer | I write ...   \n",
       "4      Vaibhav KhulbeAndroid App Developer | I write ...   \n",
       "5      Kate Reed Pettyi like you. pettykate.comApr 2,...   \n",
       "6      exedreauthor ● about.me/exedre ● esomma@ieee.o...   \n",
       "7      Raghav HaranHelping ambitious people build car...   \n",
       "8      Francine LeeUX + Visual: http://francine.ioFeb...   \n",
       "9      Raghav HaranHelping ambitious people build car...   \n",
       "10     E²Be who you are and say what you feel because...   \n",
       "11     One MonthLearn to code. Build your company. Al...   \n",
       "12     Frank DeGeorgeEntrepreneur since age 16. Found...   \n",
       "13     Gregório JungSep 30, 2016Crônicas do Mundial (...   \n",
       "14     Stephen HaysManaging Partner at Deep Space Ven...   \n",
       "15     Andy RaskinHelping leaders tell strategic stor...   \n",
       "16     Stephen HaysManaging Partner at Deep Space Ven...   \n",
       "17     Andy RaskinHelping leaders tell strategic stor...   \n",
       "18     Mohit MamoriaCEO, Authorito Capital (https://a...   \n",
       "19     Oscar BoysonNew York City FilmmakingDec 13, 20...   \n",
       "20     Brian VerneOberlin College '09, former college...   \n",
       "21     Morgan CourtneyLover of design, innovation, el...   \n",
       "22     Jarrett Carter Sr.Christian | Husband | Father...   \n",
       "23     thracePodcast w/ @gabpdx, http://soundcloud.co...   \n",
       "24     JakeElmanI chose the Yankees, Jets, Nets, and ...   \n",
       "25     Hanna FogelAug 30, 2016A Link of Her Own: Augu...   \n",
       "26     AsaedaBeatrobo CEO http://beatrobo.com Melting...   \n",
       "27     Dr. Syed Jamal HasanEx-Director, Archaeology, ...   \n",
       "28     tiffany jerniganDeveloper+Advocate @AWScloud-@...   \n",
       "29     Richy ChaconAnthropologist. Archaeologist. Cos...   \n",
       "...                                                  ...   \n",
       "62283  Jacqueline BashawWriter/editor of the Typewrit...   \n",
       "62284  Lily HermanI write and tweet a lot.May 23, 201...   \n",
       "62285  Angel PowellWriter. Nicest when I’m sleep or y...   \n",
       "62286  Lily HermanI write and tweet a lot.Jun 14, 201...   \n",
       "62287  The HairpinLadies first.Nov 12, 2014Black Girl...   \n",
       "62288  The BillfoldMar 18, 2014Here’s A Surefire Tax ...   \n",
       "62289  The AwlBe less stupid.May 3, 2012Roman Emperor...   \n",
       "62290  Josh FruhlingerI am the Comics Curmudgeon, amo...   \n",
       "62291  The AwlBe less stupid.Nov 1, 2012My Misbegotte...   \n",
       "62292  David RothBest American Sporpswriting (and edi...   \n",
       "62293  The AwlBe less stupid.Nov 28, 2012My Extremely...   \n",
       "62294  Cecília OlliveiraJun 9, 2016Existe crise econô...   \n",
       "62295  Amy HawmanVP Marketing at Transifex \\nPassiona...   \n",
       "62296  Orlando TrottDigital Strategist | Follow for i...   \n",
       "62297  TransifexTransifex puts you in control of the ...   \n",
       "62298  LA BioMedA non-profit scientific research orga...   \n",
       "62299  Jessica Chen RiolfiProduct @TransferWise, fasc...   \n",
       "62300  Pierre @ L’EscapadouFamily design studio dedic...   \n",
       "62301  Nick TroianoExecutive Director, The Centrist P...   \n",
       "62302  Amanda L.Musician, teacher, Jedi, cat lover.Ju...   \n",
       "62303  Mayank AgarwalCo-Founder @sendxioOct 4, 2016Ho...   \n",
       "62304  Mayank AgarwalCo-Founder @sendxioOct 9, 2016Im...   \n",
       "62305  Mayank AgarwalCo-Founder @sendxioOct 20, 2016H...   \n",
       "62306  Randi Gloss@GLOSSRAGS Founder | Social Entrepr...   \n",
       "62307  Heather NannI write stuff. Life Is Beautiful. ...   \n",
       "62308  Heather NannI write stuff. Life Is Beautiful. ...   \n",
       "62309  Heather NannI write stuff. Life Is Beautiful. ...   \n",
       "62310  Heather NannI write stuff. Life Is Beautiful. ...   \n",
       "62311  Nick TodorovFounder of @SwipHQ. Growth guy pas...   \n",
       "62312  Heather NannI write stuff. Life Is Beautiful. ...   \n",
       "\n",
       "                                             description          domain  \\\n",
       "0      These Terms of Service (“Terms”) are a contrac...      medium.com   \n",
       "1      This agreement (“Amendment”) is an amendment t...      medium.com   \n",
       "2      閩東海濱是個山接海的地方，沿海是小小的灣澳錯落，漁船或遠或近地停泊。當我們沿著海邊走時，羅士...      medium.com   \n",
       "3      Answer this question yourself. What’s the high...      medium.com   \n",
       "4      At this point you must be wary about my brain’...      medium.com   \n",
       "5      I got the idea while reading this Leah Finnega...      medium.com   \n",
       "6      Un grande segreto e non sto parlando degli ali...      medium.com   \n",
       "7      Working professionals aged 24–35 who travel fr...      medium.com   \n",
       "8      Dropbox is a great product, but a quick usabil...      medium.com   \n",
       "9      Maybe it’s just because I’m from the Midwest. ...      medium.com   \n",
       "10     If you think I can actually provide any insigh...      medium.com   \n",
       "11     After someone asked me in a recent Founder Fri...      medium.com   \n",
       "12     Hundreds of thousands of people visit our mark...  hackernoon.com   \n",
       "13     Ano passado, nessa mesma época, eu comecei uma...      medium.com   \n",
       "14     Esports is a huge global market, with intense ...  hackernoon.com   \n",
       "15     Three weeks ago, the CMO of a San Francisco st...      medium.com   \n",
       "16     What should your thesis be as a new angel or v...  hackernoon.com   \n",
       "17     Two months ago, I launched a landing page to e...      medium.com   \n",
       "18     Unless you’re hiding under the rock, I am sure...  hackernoon.com   \n",
       "19     What does “the future of cities” mean? To much...      medium.com   \n",
       "20     In writing this piece, I find it funny how thi...  hackernoon.com   \n",
       "21     I’m not late for work. I’m never late for work...  hackernoon.com   \n",
       "22     The black college football season opened last ...      medium.com   \n",
       "23     Pitch had its good moments, but it tended to g...      medium.com   \n",
       "24     While Pitch was far from a perfect show, its c...      medium.com   \n",
       "25     Tonight at the U.S. Open, Serena Williams kick...      medium.com   \n",
       "26     Amazonは一見アマゾン本体が販売しているように見えても、実はまったく違う会社が同じレイア...      medium.com   \n",
       "27     Archaeological Survey of India is a premier or...      medium.com   \n",
       "28     Docker recently released new versions for thei...      medium.com   \n",
       "29     World Heritage Sites constantly face problems ...      medium.com   \n",
       "...                                                  ...             ...   \n",
       "62283  UK singer-songwriter Lewis Watson is leaving h...      medium.com   \n",
       "62284  Hilariously, the world of entertainment writin...      medium.com   \n",
       "62285  Often, life is hard and we all need a break — ...      medium.com   \n",
       "62286  Welcome to PodFodder, where I talk to the peop...      medium.com   \n",
       "62287  It was another muggy summer, the summer I disc...      medium.com   \n",
       "62288  I wrote about my surefire tax estimation syste...      medium.com   \n",
       "62289  84–65 (tie). Titus (died in AD 81), Nerva (98)...      medium.com   \n",
       "62290  I had a succesful Kickstarter to launch a nove...      medium.com   \n",
       "62291  As National Novel Writing Month gets underway,...      medium.com   \n",
       "62292  As National Novel Writing Month enters its fin...      medium.com   \n",
       "62293  As National Novel Writing Month enters its fin...      medium.com   \n",
       "62294  ~POR CAUSA DA CRISE~,o Governo do Estado do Ri...      medium.com   \n",
       "62295  My company, Transifex recently got a new look ...      medium.com   \n",
       "62296  Doing business internationally is an essential...      medium.com   \n",
       "62297  Technically, the most direct way to build a gl...      medium.com   \n",
       "62298  As we put 2015 behind us, we can look back on ...      medium.com   \n",
       "62299  In the previous post, I discussed the first co...      medium.com   \n",
       "62300  My strategy with L’Escapadou has always been t...      medium.com   \n",
       "62301  Having long bemoaned widespread political apat...      medium.com   \n",
       "62302  You don’t know me, but I respect you. You don’...      medium.com   \n",
       "62303  People usually underestimate the power of emai...      medium.com   \n",
       "62304  This is Part 2 of the series of posts I am wri...      medium.com   \n",
       "62305  In this post, I will be explaining how we got ...      medium.com   \n",
       "62306  This post was originally published on Randi’s ...      medium.com   \n",
       "62307  So. When I write, I write for me. If people li...      medium.com   \n",
       "62308  In my head I was curled up in the corner of th...      medium.com   \n",
       "62309  So, that happened Tuesday night. That pleasant...      medium.com   \n",
       "62310  Lips meet. Tongues tangle: wet with wine and b...      medium.com   \n",
       "62311  Guess what?\\nSwip now supports Work in Progres...      medium.com   \n",
       "62312  I am not going to take her up on her suggestio...       byrslf.co   \n",
       "\n",
       "       min_to_read               published   robots  \\\n",
       "0                5 2012-08-13 22:54:53.510    index   \n",
       "1                7 2015-08-03 07:44:50.331  noindex   \n",
       "2                2 2017-02-05 13:08:17.410    index   \n",
       "3                3 2017-05-06 08:16:30.776    index   \n",
       "4                4 2017-06-04 14:46:25.772    index   \n",
       "5                7 2017-04-02 16:21:15.171    index   \n",
       "6               12 2016-08-15 04:16:02.103    index   \n",
       "7                5 2015-01-14 21:31:07.568    index   \n",
       "8                4 2014-02-11 04:11:54.771    index   \n",
       "9                8 2015-10-25 02:58:05.551    index   \n",
       "10               4 2016-08-15 15:31:13.601    index   \n",
       "11               9 2016-08-09 21:01:06.303    index   \n",
       "12               7 2016-09-08 15:47:57.336    index   \n",
       "13               8 2016-09-30 18:05:35.950    index   \n",
       "14               7 2017-06-27 15:49:22.909    index   \n",
       "15               5 2015-07-13 06:52:44.618    index   \n",
       "16               8 2017-05-01 13:22:43.785    index   \n",
       "17               7 2016-08-31 17:11:24.263    index   \n",
       "18              16 2017-06-30 07:55:55.103    index   \n",
       "19               6 2016-12-13 23:29:35.556    index   \n",
       "20               5 2016-01-27 22:19:05.027    index   \n",
       "21              11 2016-12-14 01:15:02.122    index   \n",
       "22               4 2016-09-05 22:02:40.326    index   \n",
       "23               8 2016-12-13 17:59:40.527    index   \n",
       "24               8 2017-05-02 17:28:39.120    index   \n",
       "25               2 2016-08-30 23:43:24.940    index   \n",
       "26               9 2017-04-26 02:50:29.511    index   \n",
       "27              11 2016-06-18 06:54:10.331    index   \n",
       "28               7 2016-05-17 17:52:00.960    index   \n",
       "29               4 2017-04-17 16:29:28.306    index   \n",
       "...            ...                     ...      ...   \n",
       "62283            4 2017-06-26 20:07:57.240    index   \n",
       "62284            5 2017-05-23 23:24:15.931    index   \n",
       "62285            5 2017-02-02 17:52:00.430    index   \n",
       "62286            6 2017-06-14 15:17:18.712    index   \n",
       "62287           12 2014-11-12 19:00:00.000    index   \n",
       "62288           14 2014-03-18 10:55:54.000    index   \n",
       "62289            4 2012-05-03 19:00:03.000    index   \n",
       "62290           18 2015-11-02 06:12:22.782    index   \n",
       "62291            9 2012-11-02 00:00:54.000    index   \n",
       "62292            6 2012-11-29 20:00:42.000    index   \n",
       "62293            8 2012-11-28 18:00:10.000    index   \n",
       "62294            3 2016-06-09 16:19:34.121    index   \n",
       "62295            8 2016-06-23 17:39:16.171    index   \n",
       "62296            5 2016-08-23 00:33:48.276    index   \n",
       "62297            6 2015-07-20 15:16:40.169    index   \n",
       "62298            3 2015-12-31 22:06:54.772    index   \n",
       "62299            7 2017-01-05 16:19:59.807    index   \n",
       "62300            7 2016-03-21 18:48:18.079    index   \n",
       "62301            6 2017-02-07 18:34:31.427    index   \n",
       "62302            9 2016-06-29 02:49:57.853    index   \n",
       "62303            4 2016-10-04 12:22:51.674    index   \n",
       "62304            9 2016-10-10 04:17:03.477    index   \n",
       "62305            5 2016-10-21 06:30:55.281    index   \n",
       "62306            7 2017-05-23 04:37:28.709    index   \n",
       "62307            3 2016-04-05 23:01:22.486    index   \n",
       "62308            4 2016-01-28 01:03:08.798    index   \n",
       "62309            5 2016-01-14 13:28:30.277    index   \n",
       "62310            3 2016-03-06 06:51:45.307    index   \n",
       "62311            7 2017-01-15 17:45:22.836    index   \n",
       "62312            5 2016-01-25 03:20:33.005    index   \n",
       "\n",
       "                                                   title  \n",
       "0       Medium Terms of Service – Medium Policy – Medium  \n",
       "1      Amendment to Medium Terms of Service Applicabl...  \n",
       "2      走入山與海之間：閩東大刀會和兩岸走私 – Yun-Chen Chien（簡韻真） – Medium  \n",
       "3      How fast can a camera get? – What comes to min...  \n",
       "4      A game for the lonely fox – What comes to mind...  \n",
       "5           Now That’s Comedy – Kate Reed Petty – Medium  \n",
       "6      Che fine ha fatto «Gola Profonda»? – exedre – ...  \n",
       "7      Airbnb Guerilla Usability Testing – Interactiv...  \n",
       "8      A Guerilla Usability Test on Dropbox Photos – ...  \n",
       "9      How to Get Any Job You Want (even if you’re un...  \n",
       "10       On Trump, Brexit and Predictions; – E² – Medium  \n",
       "11     29 Books Every Entrepreneur Should Read in 201...  \n",
       "12          The Basics of Staking in Poker – Hacker Noon  \n",
       "13     Crônicas do Mundial (29/09): Voltamos – Gregór...  \n",
       "14     Why Invest in Esports? Common Questions about ...  \n",
       "15     Want a Better Pitch? Watch This. – Firm Narrat...  \n",
       "16     The Birth of a Venture Capital Investment Thes...  \n",
       "17     Why Sales Teams Crave Storytelling Training – ...  \n",
       "18                  WTF is The Blockchain? – Hacker Noon  \n",
       "19          The Future of Cities – Oscar Boyson – Medium  \n",
       "20          Phenom, a 500 Startups Company – Hacker Noon  \n",
       "21                   Pythagoras, 2116 A.D. – Hacker Noon  \n",
       "22     HBCU Football Success and Fails — Week 1 – HBC...  \n",
       "23     What Pitch got wrong in season 1 – thrace – Me...  \n",
       "24     FOX Whiffs In Sudden Cancellation of ‘Pitch’ –...  \n",
       "25     This Serena Williams Billboard Is Super Powerf...  \n",
       "26                Amazonで騙されないで買い物する方法 – Asaeda – Medium  \n",
       "27     Maintenance of tomb in India – Dr. Syed Jamal ...  \n",
       "28     Docker 1.11 et plus: Engine is now built on ru...  \n",
       "29     Digital Preservation of World Heritage: Tikal,...  \n",
       "...                                                  ...  \n",
       "62283  Album Review: Lewis Watson — midnight – ArtMag...  \n",
       "62284  Why I Started an Entertainment Blog So That I ...  \n",
       "62285       The Cost of Escapism – The Billfold – Medium  \n",
       "62286  Is Margaret Thatcher in Slytherin or Hufflepuf...  \n",
       "62287  Black Girls Don’t Read Sylvia Plath – The Hair...  \n",
       "62288  Here’s A Surefire Tax Estimating Process for F...  \n",
       "62289  Roman Emperors, Up To AD 476 And Not Including...  \n",
       "62290          The Enthusiast – Josh Fruhlinger – Medium  \n",
       "62291  My Misbegotten Historical Romance – The Awl – ...  \n",
       "62292           My Books Of Sad Jews  – The Awl – Medium  \n",
       "62293  My Extremely Dead Zombie-Vampire Novel  – The ...  \n",
       "62294  Existe crise econômica no Rio de Janeiro? Spoi...  \n",
       "62295  The Process of Making our Marketing Website Mu...  \n",
       "62296  Doing Business Internationally Through Faceboo...  \n",
       "62297  Why Is Localization So Dang Hard? – Transifex ...  \n",
       "62298   LA BioMed: 2015 in Pictures – LA BioMed – Medium  \n",
       "62299  A smarter international expansion — Part II – ...  \n",
       "62300  To Update, or Not Update Apps, That Is the Que...  \n",
       "62301  Resistance, without reform, is not enough – Ni...  \n",
       "62302  An Open Letter to the Concealed Carrier – Aman...  \n",
       "62303  How to do Email Campaigns effectively at scale...  \n",
       "62304  How to get your Email Subject right – SendX Bl...  \n",
       "62305  How we got 31 Product Demos Scheduled with thi...  \n",
       "62306  Mental Health Awareness Month Spotlight: Randi...  \n",
       "62307  My stories, My children. – Femmes Unafraid – M...  \n",
       "62308            WhenIAlmostDied – Heather Nann – Medium  \n",
       "62309  Twitter Troll Trigger Alert – Heather Nann – M...  \n",
       "62310          Space and candles – Heather Nann – Medium  \n",
       "62311  Laser focus your team using Work-In-Progress l...  \n",
       "62312     “I WISH YOU WOULD KILL YOURSELF” – Be Yourself  \n",
       "\n",
       "[62313 rows x 8 columns]"
      ]
     },
     "execution_count": 123,
     "metadata": {},
     "output_type": "execute_result"
    }
   ],
   "source": [
    "df_tr.fillna(0)"
   ]
  },
  {
   "cell_type": "code",
   "execution_count": 127,
   "metadata": {},
   "outputs": [],
   "source": [
    "feat_target = train_target.drop('log_recommends', axis = 1)\n",
    "feat_target = feat_target.reset_index()"
   ]
  },
  {
   "cell_type": "code",
   "execution_count": 128,
   "metadata": {},
   "outputs": [
    {
     "data": {
      "text/plain": [
       "array([    0,     1,     2, ..., 62310, 62311, 62312])"
      ]
     },
     "execution_count": 128,
     "metadata": {},
     "output_type": "execute_result"
    }
   ],
   "source": [
    "feat_target.index.values"
   ]
  },
  {
   "cell_type": "code",
   "execution_count": 129,
   "metadata": {},
   "outputs": [],
   "source": [
    "feat_flatten = feat_target.index.values.flatten() # sequence of indices"
   ]
  },
  {
   "cell_type": "code",
   "execution_count": 130,
   "metadata": {},
   "outputs": [
    {
     "data": {
      "text/plain": [
       "range(0, 62323, 10)"
      ]
     },
     "execution_count": 130,
     "metadata": {},
     "output_type": "execute_result"
    }
   ],
   "source": [
    "range(0,feat_flatten.shape[0]+10,10)"
   ]
  },
  {
   "cell_type": "code",
   "execution_count": 131,
   "metadata": {},
   "outputs": [],
   "source": [
    "feat_train_sparse = csr_matrix(([1] * feat_flatten.shape[0],\n",
    "                                feat_flatten,\n",
    "                                range(0, feat_flatten.shape[0])))[:, 1:]\n"
   ]
  },
  {
   "cell_type": "code",
   "execution_count": 161,
   "metadata": {},
   "outputs": [],
   "source": [
    "from sklearn.preprocessing import StandardScaler\n",
    "def fit_feature(lmdb, feature, col, axis = 0):\n",
    "    feat_target[feature] = df_tr[col].apply(lmbd, axis)\n",
    "    feat_test[feature] = test_df[col].apply(lmbd, axis)\n",
    "    if axis != 0:\n",
    "        feat_target[feature].values.reshape(len(df_tr[col]), 1)\n",
    "    scaler = StandardScaler()\n",
    "    scaled_feature = feature + '_scaled'\n",
    "    feat_target[scaled_feature] = scaler.fit_transform(feat_target[feature].values.reshape(-1, 1))\n",
    "    feat_test[scaled_feature] = scaler.transform(feat_test[feature].values.reshape(-1, 1))"
   ]
  },
  {
   "cell_type": "code",
   "execution_count": 162,
   "metadata": {},
   "outputs": [
    {
     "ename": "NameError",
     "evalue": "name 'test_df' is not defined",
     "output_type": "error",
     "traceback": [
      "\u001b[0;31m---------------------------------------------------------------------------\u001b[0m",
      "\u001b[0;31mNameError\u001b[0m                                 Traceback (most recent call last)",
      "\u001b[0;32m<ipython-input-162-5f98ff7d3f72>\u001b[0m in \u001b[0;36m<module>\u001b[0;34m()\u001b[0m\n\u001b[1;32m      2\u001b[0m \u001b[0mfeature\u001b[0m \u001b[0;34m=\u001b[0m \u001b[0;34m'weekday'\u001b[0m\u001b[0;34m\u001b[0m\u001b[0m\n\u001b[1;32m      3\u001b[0m \u001b[0mcolumn\u001b[0m \u001b[0;34m=\u001b[0m \u001b[0;34m'published'\u001b[0m\u001b[0;34m\u001b[0m\u001b[0m\n\u001b[0;32m----> 4\u001b[0;31m \u001b[0mfit_feature\u001b[0m\u001b[0;34m(\u001b[0m\u001b[0mlmbd\u001b[0m\u001b[0;34m,\u001b[0m\u001b[0mfeature\u001b[0m\u001b[0;34m,\u001b[0m\u001b[0mcolumn\u001b[0m\u001b[0;34m)\u001b[0m\u001b[0;34m\u001b[0m\u001b[0m\n\u001b[0m",
      "\u001b[0;32m<ipython-input-161-8f8c05da2be5>\u001b[0m in \u001b[0;36mfit_feature\u001b[0;34m(lmdb, feature, col, axis)\u001b[0m\n\u001b[1;32m      2\u001b[0m \u001b[0;32mdef\u001b[0m \u001b[0mfit_feature\u001b[0m\u001b[0;34m(\u001b[0m\u001b[0mlmdb\u001b[0m\u001b[0;34m,\u001b[0m \u001b[0mfeature\u001b[0m\u001b[0;34m,\u001b[0m \u001b[0mcol\u001b[0m\u001b[0;34m,\u001b[0m \u001b[0maxis\u001b[0m \u001b[0;34m=\u001b[0m \u001b[0;36m0\u001b[0m\u001b[0;34m)\u001b[0m\u001b[0;34m:\u001b[0m\u001b[0;34m\u001b[0m\u001b[0m\n\u001b[1;32m      3\u001b[0m     \u001b[0mfeat_target\u001b[0m\u001b[0;34m[\u001b[0m\u001b[0mfeature\u001b[0m\u001b[0;34m]\u001b[0m \u001b[0;34m=\u001b[0m \u001b[0mdf_tr\u001b[0m\u001b[0;34m[\u001b[0m\u001b[0mcol\u001b[0m\u001b[0;34m]\u001b[0m\u001b[0;34m.\u001b[0m\u001b[0mapply\u001b[0m\u001b[0;34m(\u001b[0m\u001b[0mlmbd\u001b[0m\u001b[0;34m,\u001b[0m \u001b[0maxis\u001b[0m\u001b[0;34m)\u001b[0m\u001b[0;34m\u001b[0m\u001b[0m\n\u001b[0;32m----> 4\u001b[0;31m     \u001b[0mfeat_test\u001b[0m\u001b[0;34m[\u001b[0m\u001b[0mfeature\u001b[0m\u001b[0;34m]\u001b[0m \u001b[0;34m=\u001b[0m \u001b[0mtest_df\u001b[0m\u001b[0;34m[\u001b[0m\u001b[0mcol\u001b[0m\u001b[0;34m]\u001b[0m\u001b[0;34m.\u001b[0m\u001b[0mapply\u001b[0m\u001b[0;34m(\u001b[0m\u001b[0mlmbd\u001b[0m\u001b[0;34m,\u001b[0m \u001b[0maxis\u001b[0m\u001b[0;34m)\u001b[0m\u001b[0;34m\u001b[0m\u001b[0m\n\u001b[0m\u001b[1;32m      5\u001b[0m     \u001b[0;32mif\u001b[0m \u001b[0maxis\u001b[0m \u001b[0;34m!=\u001b[0m \u001b[0;36m0\u001b[0m\u001b[0;34m:\u001b[0m\u001b[0;34m\u001b[0m\u001b[0m\n\u001b[1;32m      6\u001b[0m         \u001b[0mfeat_target\u001b[0m\u001b[0;34m[\u001b[0m\u001b[0mfeature\u001b[0m\u001b[0;34m]\u001b[0m\u001b[0;34m.\u001b[0m\u001b[0mvalues\u001b[0m\u001b[0;34m.\u001b[0m\u001b[0mreshape\u001b[0m\u001b[0;34m(\u001b[0m\u001b[0mlen\u001b[0m\u001b[0;34m(\u001b[0m\u001b[0mdf_tr\u001b[0m\u001b[0;34m[\u001b[0m\u001b[0mcol\u001b[0m\u001b[0;34m]\u001b[0m\u001b[0;34m)\u001b[0m\u001b[0;34m,\u001b[0m \u001b[0;36m1\u001b[0m\u001b[0;34m)\u001b[0m\u001b[0;34m\u001b[0m\u001b[0m\n",
      "\u001b[0;31mNameError\u001b[0m: name 'test_df' is not defined"
     ]
    }
   ],
   "source": [
    "lmbd = lambda ts: ts.date().weekday()\n",
    "feature = 'weekday'\n",
    "column = 'published'\n",
    "fit_feature(lmbd,feature,column)"
   ]
  },
  {
   "cell_type": "code",
   "execution_count": 138,
   "metadata": {},
   "outputs": [
    {
     "name": "stderr",
     "output_type": "stream",
     "text": [
      "/Users/owner/anaconda/envs/fastai/lib/python3.6/site-packages/sklearn/utils/validation.py:475: DataConversionWarning: Data with input dtype object was converted to float64 by StandardScaler.\n",
      "  warnings.warn(msg, DataConversionWarning)\n"
     ]
    }
   ],
   "source": [
    "lmbd = lambda x: 1 if x.date().weekday() in (5, 6) else 0\n",
    "feature = 'is_weekend'\n",
    "column = 'published'\n",
    "fit_feature(lmbd,feature,column)\n"
   ]
  },
  {
   "cell_type": "code",
   "execution_count": 141,
   "metadata": {},
   "outputs": [
    {
     "name": "stderr",
     "output_type": "stream",
     "text": [
      "/Users/owner/anaconda/envs/fastai/lib/python3.6/site-packages/sklearn/utils/validation.py:475: DataConversionWarning: Data with input dtype object was converted to float64 by StandardScaler.\n",
      "  warnings.warn(msg, DataConversionWarning)\n"
     ]
    }
   ],
   "source": [
    "feat_target['time_to_read'] = df_tr['min_to_read']\n",
    "\n",
    "lmbd = lambda ts: len(ts)\n",
    "feature = 'text_length'\n",
    "reason = 'content'\n",
    "fit_feature(lmbd,feature,reason)"
   ]
  },
  {
   "cell_type": "code",
   "execution_count": 142,
   "metadata": {},
   "outputs": [
    {
     "name": "stderr",
     "output_type": "stream",
     "text": [
      "/Users/owner/anaconda/envs/fastai/lib/python3.6/site-packages/sklearn/utils/validation.py:475: DataConversionWarning: Data with input dtype object was converted to float64 by StandardScaler.\n",
      "  warnings.warn(msg, DataConversionWarning)\n"
     ]
    }
   ],
   "source": [
    "lmbd = lambda ts: ts.hour\n",
    "feature = 'hour'\n",
    "reason = 'published'\n",
    "fit_feature(lmbd,feature,reason)\n",
    "\n",
    "lmbd = lambda ts: int(ts.hour > 6 and ts.hour <= 12)\n",
    "feature = 'morning'\n",
    "reason = 'published'\n",
    "fit_feature(lmbd,feature,reason)\n",
    "\n",
    "lmbd = lambda ts: int(ts.hour > 12 and ts.hour <= 18)\n",
    "feature = 'afternoon'\n",
    "reason = 'published'\n",
    "fit_feature(lmbd,feature,reason)\n",
    "\n",
    "lmbd = lambda ts: int(ts.hour > 18 and ts.hour <= 23)\n",
    "feature = 'evening'\n",
    "reason = 'published'\n",
    "fit_feature(lmbd,feature,reason)\n",
    "\n",
    "lmbd = lambda ts: int(ts.hour > 23 and ts.hour <= 6)\n",
    "feature = 'night'\n",
    "reason = 'published'\n",
    "fit_feature(lmbd,feature,reason)"
   ]
  },
  {
   "cell_type": "markdown",
   "metadata": {
    "hideCode": false,
    "hidePrompt": false
   },
   "source": [
    "**Add the following groups of features:**\n",
    "    - Tf-Idf with article content (ngram_range=(1, 2), max_features=100000 but you can try adding more)\n",
    "    - Tf-Idf with article titles (ngram_range=(1, 2), max_features=100000 but you can try adding more)\n",
    "    - Time features: publication hour, whether it's morning, day, night, whether it's a weekend\n",
    "    - Bag of authors (i.e. One-Hot-Encoded author names)"
   ]
  },
  {
   "cell_type": "code",
   "execution_count": 143,
   "metadata": {},
   "outputs": [
    {
     "data": {
      "text/plain": [
       "id                      int64\n",
       "weekday                 int64\n",
       "weekday_scaled        float64\n",
       "is_weekend              int64\n",
       "is_weekend_scaled     float64\n",
       "time_to_read            int64\n",
       "text_length             int64\n",
       "text_length_scaled    float64\n",
       "hour                    int64\n",
       "hour_scaled           float64\n",
       "morning                 int64\n",
       "morning_scaled        float64\n",
       "afternoon               int64\n",
       "afternoon_scaled      float64\n",
       "evening                 int64\n",
       "evening_scaled        float64\n",
       "night                   int64\n",
       "night_scaled          float64\n",
       "dtype: object"
      ]
     },
     "execution_count": 143,
     "metadata": {},
     "output_type": "execute_result"
    }
   ],
   "source": [
    "feat_target['morning'] = feat_target['morning'].astype(int)\n",
    "feat_target['afternoon'] = feat_target['afternoon'].astype(int)\n",
    "feat_target['evening'] = feat_target['evening'].astype(int)\n",
    "feat_target['night'] = feat_target['night'].astype(int)\n",
    "feat_target['weekday'] = feat_target['weekday'].astype(int)\n",
    "feat_target['hour'] = feat_target['hour'].astype(int)\n",
    "feat_target['is_weekend'] = feat_target['is_weekend'].astype(int)\n",
    "feat_target['text_length'] = feat_target['text_length'].astype(int)\n",
    "feat_target.dtypes"
   ]
  },
  {
   "cell_type": "code",
   "execution_count": 146,
   "metadata": {},
   "outputs": [],
   "source": [
    "tmp = csr_matrix(feat_target['morning'])\n",
    "X_train = csr_matrix(hstack([X_train[:], tmp[:].T]))"
   ]
  },
  {
   "cell_type": "code",
   "execution_count": 153,
   "metadata": {},
   "outputs": [
    {
     "data": {
      "text/plain": [
       "<1x62313 sparse matrix of type '<class 'numpy.int64'>'\n",
       "\twith 12014 stored elements in Compressed Sparse Row format>"
      ]
     },
     "execution_count": 153,
     "metadata": {},
     "output_type": "execute_result"
    }
   ],
   "source": [
    "tmp"
   ]
  },
  {
   "cell_type": "code",
   "execution_count": 148,
   "metadata": {},
   "outputs": [],
   "source": [
    "train_part_size = int(0.7 * train_target.shape[0])\n",
    "X_train_part = X_train[:train_part_size, :]\n",
    "y_train_part = y_train[:train_part_size]\n",
    "X_valid =  X_train[train_part_size:, :]\n",
    "y_valid = y_train[train_part_size:]"
   ]
  },
  {
   "cell_type": "code",
   "execution_count": 149,
   "metadata": {
    "hideCode": false,
    "hidePrompt": false
   },
   "outputs": [
    {
     "data": {
      "text/plain": [
       "Ridge(alpha=1.0, copy_X=True, fit_intercept=True, max_iter=None,\n",
       "   normalize=False, random_state=17, solver='auto', tol=0.001)"
      ]
     },
     "execution_count": 149,
     "metadata": {},
     "output_type": "execute_result"
    }
   ],
   "source": [
    "ridge = Ridge(random_state=17)\n",
    "ridge.fit(X_train_part, y_train_part)"
   ]
  },
  {
   "cell_type": "code",
   "execution_count": 154,
   "metadata": {},
   "outputs": [],
   "source": [
    "ridge_new_pred = ridge.predict(X_valid)"
   ]
  },
  {
   "cell_type": "code",
   "execution_count": 156,
   "metadata": {},
   "outputs": [
    {
     "data": {
      "image/png": "[encoded data removed]",
      "text/plain": [
       "<matplotlib.figure.Figure at 0x1a205bae80>"
      ]
     },
     "metadata": {},
     "output_type": "display_data"
    }
   ],
   "source": [
    "plt.hist(y_valid, bins=30, alpha=.5, color='red', label='true', range=(0,10));\n",
    "plt.hist(ridge_new_pred, bins=30, alpha=.5, color='green', label='pred', range=(0,10));\n",
    "plt.legend();"
   ]
  },
  {
   "cell_type": "code",
   "execution_count": 159,
   "metadata": {},
   "outputs": [
    {
     "data": {
      "text/plain": [
       "(1.3061028451133241, 2.6917582870340211)"
      ]
     },
     "execution_count": 159,
     "metadata": {},
     "output_type": "execute_result"
    }
   ],
   "source": [
    "valid_mae = mean_absolute_error(ridge_new_pred, y_valid)\n",
    "valid_mae, np.expm1(valid_mae)"
   ]
  },
  {
   "cell_type": "code",
   "execution_count": 160,
   "metadata": {},
   "outputs": [
    {
     "ename": "ValueError",
     "evalue": "dimension mismatch",
     "output_type": "error",
     "traceback": [
      "\u001b[0;31m---------------------------------------------------------------------------\u001b[0m",
      "\u001b[0;31mValueError\u001b[0m                                Traceback (most recent call last)",
      "\u001b[0;32m<ipython-input-160-844c33e35ef0>\u001b[0m in \u001b[0;36m<module>\u001b[0;34m()\u001b[0m\n\u001b[0;32m----> 1\u001b[0;31m \u001b[0mridge_new_test_pred\u001b[0m \u001b[0;34m=\u001b[0m \u001b[0mridge\u001b[0m\u001b[0;34m.\u001b[0m\u001b[0mpredict\u001b[0m\u001b[0;34m(\u001b[0m\u001b[0mX_test\u001b[0m\u001b[0;34m)\u001b[0m\u001b[0;34m\u001b[0m\u001b[0m\n\u001b[0m",
      "\u001b[0;32m~/anaconda/envs/fastai/lib/python3.6/site-packages/sklearn/linear_model/base.py\u001b[0m in \u001b[0;36mpredict\u001b[0;34m(self, X)\u001b[0m\n\u001b[1;32m    254\u001b[0m             \u001b[0mReturns\u001b[0m \u001b[0mpredicted\u001b[0m \u001b[0mvalues\u001b[0m\u001b[0;34m.\u001b[0m\u001b[0;34m\u001b[0m\u001b[0m\n\u001b[1;32m    255\u001b[0m         \"\"\"\n\u001b[0;32m--> 256\u001b[0;31m         \u001b[0;32mreturn\u001b[0m \u001b[0mself\u001b[0m\u001b[0;34m.\u001b[0m\u001b[0m_decision_function\u001b[0m\u001b[0;34m(\u001b[0m\u001b[0mX\u001b[0m\u001b[0;34m)\u001b[0m\u001b[0;34m\u001b[0m\u001b[0m\n\u001b[0m\u001b[1;32m    257\u001b[0m \u001b[0;34m\u001b[0m\u001b[0m\n\u001b[1;32m    258\u001b[0m     \u001b[0m_preprocess_data\u001b[0m \u001b[0;34m=\u001b[0m \u001b[0mstaticmethod\u001b[0m\u001b[0;34m(\u001b[0m\u001b[0m_preprocess_data\u001b[0m\u001b[0;34m)\u001b[0m\u001b[0;34m\u001b[0m\u001b[0m\n",
      "\u001b[0;32m~/anaconda/envs/fastai/lib/python3.6/site-packages/sklearn/linear_model/base.py\u001b[0m in \u001b[0;36m_decision_function\u001b[0;34m(self, X)\u001b[0m\n\u001b[1;32m    239\u001b[0m         \u001b[0mX\u001b[0m \u001b[0;34m=\u001b[0m \u001b[0mcheck_array\u001b[0m\u001b[0;34m(\u001b[0m\u001b[0mX\u001b[0m\u001b[0;34m,\u001b[0m \u001b[0maccept_sparse\u001b[0m\u001b[0;34m=\u001b[0m\u001b[0;34m[\u001b[0m\u001b[0;34m'csr'\u001b[0m\u001b[0;34m,\u001b[0m \u001b[0;34m'csc'\u001b[0m\u001b[0;34m,\u001b[0m \u001b[0;34m'coo'\u001b[0m\u001b[0;34m]\u001b[0m\u001b[0;34m)\u001b[0m\u001b[0;34m\u001b[0m\u001b[0m\n\u001b[1;32m    240\u001b[0m         return safe_sparse_dot(X, self.coef_.T,\n\u001b[0;32m--> 241\u001b[0;31m                                dense_output=True) + self.intercept_\n\u001b[0m\u001b[1;32m    242\u001b[0m \u001b[0;34m\u001b[0m\u001b[0m\n\u001b[1;32m    243\u001b[0m     \u001b[0;32mdef\u001b[0m \u001b[0mpredict\u001b[0m\u001b[0;34m(\u001b[0m\u001b[0mself\u001b[0m\u001b[0;34m,\u001b[0m \u001b[0mX\u001b[0m\u001b[0;34m)\u001b[0m\u001b[0;34m:\u001b[0m\u001b[0;34m\u001b[0m\u001b[0m\n",
      "\u001b[0;32m~/anaconda/envs/fastai/lib/python3.6/site-packages/sklearn/utils/extmath.py\u001b[0m in \u001b[0;36msafe_sparse_dot\u001b[0;34m(a, b, dense_output)\u001b[0m\n\u001b[1;32m    133\u001b[0m     \"\"\"\n\u001b[1;32m    134\u001b[0m     \u001b[0;32mif\u001b[0m \u001b[0missparse\u001b[0m\u001b[0;34m(\u001b[0m\u001b[0ma\u001b[0m\u001b[0;34m)\u001b[0m \u001b[0;32mor\u001b[0m \u001b[0missparse\u001b[0m\u001b[0;34m(\u001b[0m\u001b[0mb\u001b[0m\u001b[0;34m)\u001b[0m\u001b[0;34m:\u001b[0m\u001b[0;34m\u001b[0m\u001b[0m\n\u001b[0;32m--> 135\u001b[0;31m         \u001b[0mret\u001b[0m \u001b[0;34m=\u001b[0m \u001b[0ma\u001b[0m \u001b[0;34m*\u001b[0m \u001b[0mb\u001b[0m\u001b[0;34m\u001b[0m\u001b[0m\n\u001b[0m\u001b[1;32m    136\u001b[0m         \u001b[0;32mif\u001b[0m \u001b[0mdense_output\u001b[0m \u001b[0;32mand\u001b[0m \u001b[0mhasattr\u001b[0m\u001b[0;34m(\u001b[0m\u001b[0mret\u001b[0m\u001b[0;34m,\u001b[0m \u001b[0;34m\"toarray\"\u001b[0m\u001b[0;34m)\u001b[0m\u001b[0;34m:\u001b[0m\u001b[0;34m\u001b[0m\u001b[0m\n\u001b[1;32m    137\u001b[0m             \u001b[0mret\u001b[0m \u001b[0;34m=\u001b[0m \u001b[0mret\u001b[0m\u001b[0;34m.\u001b[0m\u001b[0mtoarray\u001b[0m\u001b[0;34m(\u001b[0m\u001b[0;34m)\u001b[0m\u001b[0;34m\u001b[0m\u001b[0m\n",
      "\u001b[0;32m~/anaconda/envs/fastai/lib/python3.6/site-packages/scipy/sparse/base.py\u001b[0m in \u001b[0;36m__mul__\u001b[0;34m(self, other)\u001b[0m\n\u001b[1;32m    456\u001b[0m             \u001b[0;31m# dense row or column vector\u001b[0m\u001b[0;34m\u001b[0m\u001b[0;34m\u001b[0m\u001b[0m\n\u001b[1;32m    457\u001b[0m             \u001b[0;32mif\u001b[0m \u001b[0mother\u001b[0m\u001b[0;34m.\u001b[0m\u001b[0mshape\u001b[0m \u001b[0;34m!=\u001b[0m \u001b[0;34m(\u001b[0m\u001b[0mN\u001b[0m\u001b[0;34m,\u001b[0m\u001b[0;34m)\u001b[0m \u001b[0;32mand\u001b[0m \u001b[0mother\u001b[0m\u001b[0;34m.\u001b[0m\u001b[0mshape\u001b[0m \u001b[0;34m!=\u001b[0m \u001b[0;34m(\u001b[0m\u001b[0mN\u001b[0m\u001b[0;34m,\u001b[0m \u001b[0;36m1\u001b[0m\u001b[0;34m)\u001b[0m\u001b[0;34m:\u001b[0m\u001b[0;34m\u001b[0m\u001b[0m\n\u001b[0;32m--> 458\u001b[0;31m                 \u001b[0;32mraise\u001b[0m \u001b[0mValueError\u001b[0m\u001b[0;34m(\u001b[0m\u001b[0;34m'dimension mismatch'\u001b[0m\u001b[0;34m)\u001b[0m\u001b[0;34m\u001b[0m\u001b[0m\n\u001b[0m\u001b[1;32m    459\u001b[0m \u001b[0;34m\u001b[0m\u001b[0m\n\u001b[1;32m    460\u001b[0m             \u001b[0mresult\u001b[0m \u001b[0;34m=\u001b[0m \u001b[0mself\u001b[0m\u001b[0;34m.\u001b[0m\u001b[0m_mul_vector\u001b[0m\u001b[0;34m(\u001b[0m\u001b[0mnp\u001b[0m\u001b[0;34m.\u001b[0m\u001b[0mravel\u001b[0m\u001b[0;34m(\u001b[0m\u001b[0mother\u001b[0m\u001b[0;34m)\u001b[0m\u001b[0;34m)\u001b[0m\u001b[0;34m\u001b[0m\u001b[0m\n",
      "\u001b[0;31mValueError\u001b[0m: dimension mismatch"
     ]
    }
   ],
   "source": [
    "ridge_new_test_pred = ridge.predict(X_test)"
   ]
  },
  {
   "cell_type": "code",
   "execution_count": null,
   "metadata": {
    "hideCode": false,
    "hidePrompt": false
   },
   "outputs": [],
   "source": [
    "# You code here"
   ]
  },
  {
   "cell_type": "markdown",
   "metadata": {
    "hideCode": false,
    "hidePrompt": false
   },
   "source": [
    "**Join all sparse matrices.**"
   ]
  },
  {
   "cell_type": "code",
   "execution_count": null,
   "metadata": {
    "hideCode": false,
    "hidePrompt": false
   },
   "outputs": [],
   "source": [
    "X_train_sparse = csr_matrix(hstack([X_train_content_sparse, X_train_title_sparse,\n",
    "                                    X_train_author_sparse, X_train_time_features_sparse]))"
   ]
  },
  {
   "cell_type": "code",
   "execution_count": null,
   "metadata": {
    "hideCode": false,
    "hidePrompt": false
   },
   "outputs": [],
   "source": [
    "X_test_sparse = csr_matrix(hstack([X_test_content_sparse, X_test_title_sparse,\n",
    "                                    X_test_author_sparse, X_test_time_features_sparse]))"
   ]
  },
  {
   "cell_type": "markdown",
   "metadata": {
    "hideCode": false,
    "hidePrompt": false
   },
   "source": [
    "**Read train target and split data for validation.**"
   ]
  },
  {
   "cell_type": "code",
   "execution_count": null,
   "metadata": {
    "hideCode": false,
    "hidePrompt": false
   },
   "outputs": [],
   "source": [
    "train_target = pd.read_csv('../data/train_log1p_recommends.csv', \n",
    "                           index_col='id')\n",
    "y_train = train_target['log_recommends'].values"
   ]
  },
  {
   "cell_type": "code",
   "execution_count": null,
   "metadata": {
    "hideCode": false,
    "hidePrompt": false
   },
   "outputs": [],
   "source": [
    "train_part_size = int(0.7 * train_target.shape[0])\n",
    "X_train_part_sparse = X_train_sparse[:train_part_size, :]\n",
    "y_train_part = y_train[:train_part_size]\n",
    "X_valid_sparse =  X_train_sparse[train_part_size:, :]\n",
    "y_valid = y_train[train_part_size:]"
   ]
  },
  {
   "cell_type": "markdown",
   "metadata": {
    "hideCode": false,
    "hidePrompt": false
   },
   "source": [
    "**Train a simple Ridge model and check MAE on the validation set.**"
   ]
  },
  {
   "cell_type": "markdown",
   "metadata": {
    "hideCode": false,
    "hidePrompt": false
   },
   "source": [
    "**Train the same Ridge with all available data, make predictions for the test set and form a submission file.**"
   ]
  },
  {
   "cell_type": "code",
   "execution_count": null,
   "metadata": {
    "hideCode": false,
    "hidePrompt": false
   },
   "outputs": [],
   "source": [
    "# You code here"
   ]
  },
  {
   "cell_type": "code",
   "execution_count": null,
   "metadata": {
    "hideCode": false,
    "hidePrompt": false
   },
   "outputs": [],
   "source": [
    "write_submission_file(ridge_test_pred, 'assignment6_medium_submission.csv')"
   ]
  },
  {
   "cell_type": "markdown",
   "metadata": {
    "hideCode": false,
    "hidePrompt": false
   },
   "source": [
    "**Now's the time for dirty Kaggle hacks. Form a submission file with all zeroes. Make a submission. What do you get if you think about it? How is it going to help you with modifying your predictions?**"
   ]
  },
  {
   "cell_type": "code",
   "execution_count": null,
   "metadata": {
    "hideCode": false,
    "hidePrompt": false
   },
   "outputs": [],
   "source": [
    "write_submission_file(np.zeros_like(ridge_test_pred), \n",
    "                      'medium_all_zeros_submission.csv')"
   ]
  },
  {
   "cell_type": "markdown",
   "metadata": {
    "hideCode": false,
    "hidePrompt": false
   },
   "source": [
    "**Modify predictions in an appropriate way (based on your all-zero submission) and make a new submission.**"
   ]
  },
  {
   "cell_type": "code",
   "execution_count": null,
   "metadata": {
    "hideCode": false,
    "hidePrompt": false
   },
   "outputs": [],
   "source": [
    "ridge_test_pred_modif = ridge_test_pred # You code here"
   ]
  },
  {
   "cell_type": "code",
   "execution_count": null,
   "metadata": {
    "hideCode": false,
    "hidePrompt": false
   },
   "outputs": [],
   "source": [
    "write_submission_file(ridge_test_pred_modif, \n",
    "                      'assignment6_medium_submission_with_hack.csv')"
   ]
  },
  {
   "cell_type": "code",
   "execution_count": null,
   "metadata": {},
   "outputs": [],
   "source": []
  },
  {
   "cell_type": "code",
   "execution_count": null,
   "metadata": {},
   "outputs": [],
   "source": []
  },
  {
   "cell_type": "code",
   "execution_count": null,
   "metadata": {},
   "outputs": [],
   "source": []
  },
  {
   "cell_type": "code",
   "execution_count": null,
   "metadata": {},
   "outputs": [],
   "source": [
    "def preprocess(path_to_inp_json_file):\n",
    "    output_list = []\n",
    "    with open(path_to_inp_json_file, encoding='utf-8') as inp_file:\n",
    "        for line in tqdm_notebook(inp_file):\n",
    "            json_data = read_json_line(line)\n",
    "            content = json_data['content'].replace('\\n', ' ').replace('\\r', ' ')\n",
    "            content_no_html_tags = strip_tags(content)\n",
    "            output_list.append(content_no_html_tags)\n",
    "    return output_list\n",
    "\n",
    "\n",
    "def preprocess(path_to_inp_json_file, path_to_out_txt_file):\n",
    "    with open(path_to_inp_json_file, encoding='utf-8') as inp_file, open(path_to_out_txt_file, 'w', encoding='utf-8') as out_file:\n",
    "        for line in tqdm_notebook(inp_file):\n",
    "            json_data = read_json_line(line)\n",
    "            content = json_data['title'].replace('\\n', ' ').replace('\\r', ' ')\n",
    "            content_no_html_tags = strip_tags(content)\n",
    "            out_file.write(content_no_html_tags + '\\n')"
   ]
  }
 ],
 "metadata": {
  "hide_code_all_hidden": false,
  "kernelspec": {
   "display_name": "Python 3",
   "language": "python",
   "name": "python3"
  },
  "language_info": {
   "codemirror_mode": {
    "name": "ipython",
    "version": 3
   },
   "file_extension": ".py",
   "mimetype": "text/x-python",
   "name": "python",
   "nbconvert_exporter": "python",
   "pygments_lexer": "ipython3",
   "version": "3.6.4"
  }
 },
 "nbformat": 4,
 "nbformat_minor": 2
}
