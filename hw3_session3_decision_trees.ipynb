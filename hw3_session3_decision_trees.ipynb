{
 "cells": [
  {
   "cell_type": "markdown",
   "metadata": {},
   "source": [
    "<center>\n",
    "<img src=\"../../img/ods_stickers.jpg\">\n",
    "## Открытый курс по машинному обучению. Сессия № 3\n",
    "Авторы материала: Юрий Кашницкий (@yorko) и Максим Уваров (@maxis42). Материал распространяется на условиях лицензии [Creative Commons CC BY-NC-SA 4.0](https://creativecommons.org/licenses/by-nc-sa/4.0/). Можно использовать в любых целях (редактировать, поправлять и брать за основу), кроме коммерческих, но с обязательным упоминанием автора материала."
   ]
  },
  {
   "cell_type": "markdown",
   "metadata": {},
   "source": [
    "# <center>Домашнее задание № 3 \n",
    "## <center> Деревья решений для классификации и регрессии"
   ]
  },
  {
   "cell_type": "markdown",
   "metadata": {},
   "source": [
    "**В этом задании мы разберемся с тем, как работает дерево решений в задаче регрессии, а также построим (и настроим) классифицирующие деревья решений в задаче прогнозирования сердечно-сосудистых заболеваний. \n",
    "Заполните код в клетках (где написано \"Ваш код здесь\") и ответьте на вопросы в [веб-форме](https://docs.google.com/forms/d/1bXgaJRh4naJOGzE_Li2k50TN0kOPJdNhMtHl6H4t3Lk/edit).**"
   ]
  },
  {
   "cell_type": "code",
   "execution_count": 21,
   "metadata": {},
   "outputs": [],
   "source": [
    "import numpy as np\n",
    "import pandas as pd\n",
    "from matplotlib import pyplot as plt\n",
    "%matplotlib inline\n",
    "from sklearn.model_selection import train_test_split, GridSearchCV\n",
    "from sklearn.metrics import accuracy_score\n",
    "from sklearn.tree import DecisionTreeClassifier, export_graphviz"
   ]
  },
  {
   "cell_type": "markdown",
   "metadata": {},
   "source": [
    "## 1. Простой пример восстановления регрессии с помощью дерева решений"
   ]
  },
  {
   "cell_type": "markdown",
   "metadata": {},
   "source": [
    "Рассмотрим следующую одномерную задачу восстановления регрессии. Неформально, надо построить функцию $a(x)$, приближающую искомую зависимость $y = f(x)$ в терминах среднеквадратичной ошибки: $min \\sum_i {(a(x_i) - f(x_i))}^2$. Подробно мы рассмотрим эту задачу в следующий раз ([4-я статья курса](https://habrahabr.ru/company/ods/blog/323890/)), а пока поговорим о том, как решать эту задачу с помощью дерева решений. Предварительно прочитайте небольшой раздел [\"Дерево решений в задаче регрессии\"](https://habrahabr.ru/company/ods/blog/322534/#derevo-resheniy-v-zadache-regressii) 3-ей статьи курса. "
   ]
  },
  {
   "cell_type": "code",
   "execution_count": 181,
   "metadata": {},
   "outputs": [
    {
     "data": {
      "image/png": "[encoded data removed]",
      "text/plain": [
       "<matplotlib.figure.Figure at 0x1a2ade2f98>"
      ]
     },
     "metadata": {},
     "output_type": "display_data"
    }
   ],
   "source": [
    "X = np.linspace(-2, 2, 7)\n",
    "y = X ** 3\n",
    "\n",
    "plt.scatter(X, y)\n",
    "plt.xlabel(r'$x$')\n",
    "plt.ylabel(r'$y$');"
   ]
  },
  {
   "cell_type": "code",
   "execution_count": 182,
   "metadata": {},
   "outputs": [
    {
     "data": {
      "text/plain": [
       "array([[-2.        ],\n",
       "       [-1.33333333],\n",
       "       [-0.66666667],\n",
       "       [ 0.        ],\n",
       "       [ 0.66666667],\n",
       "       [ 1.33333333],\n",
       "       [ 2.        ]])"
      ]
     },
     "execution_count": 182,
     "metadata": {},
     "output_type": "execute_result"
    }
   ],
   "source": [
    "X.reshape((7,1))"
   ]
  },
  {
   "cell_type": "markdown",
   "metadata": {},
   "source": [
    "Проделаем несколько шагов в построении дерева решений. Исходя из соображений симметрии, выберем пороги для разбиения равными соответственно 0, 1.5 и -1.5. Напомним, что в случае задачи восстановления регрессии листовая вершина выдает среднее значение ответа по всем объектам обучающей выборки, попавшим в эту вершину."
   ]
  },
  {
   "cell_type": "markdown",
   "metadata": {},
   "source": [
    "Итак, начнём. Дерево глубины 0 состоит из одного корня, который содержит всю обучающую выборку. Как будут выглядеть предсказания данного дерева для $x \\in [-2, 2]$? Постройте соответствующий график. Тут без `sklearn` – разбираемся просто с ручкой, бумажкой и Python, если надо."
   ]
  },
  {
   "cell_type": "code",
   "execution_count": 35,
   "metadata": {},
   "outputs": [],
   "source": [
    "from sklearn.tree import DecisionTreeRegressor\n",
    "from sklearn.tree import DecisionTreeClassifier\n",
    "reg_tree = DecisionTreeRegressor(random_state=17, max_depth=3).fit(X.reshape((7,1)), y)\n",
    "reg_tree_pred = reg_tree.predict(X.reshape((7,1)))"
   ]
  },
  {
   "cell_type": "markdown",
   "metadata": {},
   "source": [
    "Произведем первое разбиение выборки по предикату $[x < 0]$. Получим дерево глубины 1 с двумя листьями. Постройте аналогичный график предсказаний для этого дерева."
   ]
  },
  {
   "cell_type": "code",
   "execution_count": 36,
   "metadata": {},
   "outputs": [
    {
     "data": {
      "image/png": "[encoded data removed]",
      "text/plain": [
       "<matplotlib.figure.Figure at 0x1a22496f98>"
      ]
     },
     "metadata": {},
     "output_type": "display_data"
    }
   ],
   "source": [
    "plt.figure(figsize=(10, 6))\n",
    "plt.plot(X, y, \"b\")\n",
    "plt.scatter(X, y, c=\"b\", s=20)\n",
    "plt.plot(X, reg_tree_pred, \"g\", lw=2)\n",
    "plt.xlim([-2, 2])\n",
    "#plt.title(\"Decision tree regressor, MSE = %.2f\" % np.sum((y_test - reg_tree_pred) ** 2))\n",
    "plt.show()"
   ]
  },
  {
   "cell_type": "markdown",
   "metadata": {},
   "source": [
    "В алгоритме построения дерева решений признак и значение порога, по которым происходит разбиение выборки, выбираются исходя из некоторого критерия. Для регрессии обычно используется дисперсионный критерий:\n",
    "$$Q(X, j, t) = D(X) - \\dfrac{|X_l|}{|X|} D(X_l) - \\dfrac{|X_r|}{|X|} D(X_r),$$\n",
    "где $X$ – выборка, находящаяся в текущей вершине, $X_l$ и $X_r$ – разбиение выборки $X$ на две части по предикату $[x_j < t]$ (то есть по $j$-ому признаку и порогу $t$), $|X|$, $|X_l|$, $|X_r|$ - размеры соответствующих выборок, а $D(X)$ – дисперсия ответов на выборке $X$:\n",
    "$$D(X) = \\dfrac{1}{|X|} \\sum_{x_j \\in X}(y_j – \\dfrac{1}{|X|}\\sum_{x_i \\in X}y_i)^2,$$\n",
    "где $y_i = y(x_i)$ – ответ на объекте $x_i$. При каждом разбиении вершины выбираются признак $j$ и значение порога $t$, максимизирующие значение функционала $Q(X, j, t)$.\n",
    "\n",
    "В нашем случае признак всего один, поэтому $Q$ зависит только от значения порога $t$ (и ответов выборки в данной вершине). \n",
    "\n",
    "Постройте график функции $Q(X, t)$ в корне в зависимости от значения порога $t$ на отрезке $[-1.9, 1.9]$."
   ]
  },
  {
   "cell_type": "code",
   "execution_count": 189,
   "metadata": {},
   "outputs": [
    {
     "data": {
      "text/plain": [
       "array([-8.        , -2.37037037, -0.2962963 ,  0.        ,  0.2962963 ,\n",
       "        2.37037037,  8.        ])"
      ]
     },
     "execution_count": 189,
     "metadata": {},
     "output_type": "execute_result"
    }
   ],
   "source": [
    "len_x = len(X)\n",
    "np.sum(y)/len(X)\n",
    "1/len_x*(np.sum((y -  np.sum(y)/len(X))**2))\n",
    "y"
   ]
  },
  {
   "cell_type": "code",
   "execution_count": 190,
   "metadata": {},
   "outputs": [],
   "source": [
    "def regression_var_criterion(X, y, t):\n",
    "    len_x = len(X)\n",
    "    mean_y = np.sum(y)/len(X)\n",
    "    d_x = 1/len_x*(np.sum((y -  mean_y)**2))\n",
    "    return d_x"
   ]
  },
  {
   "cell_type": "code",
   "execution_count": 204,
   "metadata": {},
   "outputs": [],
   "source": [
    "def q_x(X,y,t):\n",
    "    len_x = len(X)\n",
    "    \n",
    "    left, right = list(), list()\n",
    "    left_y, right_y = list(), list()\n",
    "    for val in X:\n",
    "        if val < t:\n",
    "            left.append(val)\n",
    "            left_y.append(y[np.where(X == val)])\n",
    "        else:\n",
    "            right.append(val)\n",
    "            right_y.append(y[np.where(X == val)])\n",
    "            \n",
    "    q_x = regression_var_criterion(X,y,t) - len(left)/len(X)*regression_var_criterion(left, left_y, t) \\\n",
    "            - len(right)/len(X)*regression_var_criterion(right, right_y, t)\n",
    "    return q_x\n",
    "    "
   ]
  },
  {
   "cell_type": "code",
   "execution_count": 208,
   "metadata": {},
   "outputs": [],
   "source": [
    "len_x = len(X)\n",
    "t = 0\n",
    "\n",
    "left, right = list(), list()\n",
    "left_y, right_y = list(), list()\n",
    "\n",
    "for val in X:\n",
    "    if val < t:\n",
    "        left.append(val)\n",
    "        left_y.append(y[np.where(X == val)])\n",
    "    else:\n",
    "        right.append(val)\n",
    "        right_y.append(y[np.where(X == val)])\n",
    "\n",
    "q_x = regression_var_criterion(X,y,t) - len(left)/len(X)*regression_var_criterion(left, left_y, t) \\\n",
    "        - len(right)/len(X)*regression_var_criterion(right, right_y, t)"
   ]
  },
  {
   "cell_type": "code",
   "execution_count": 209,
   "metadata": {},
   "outputs": [
    {
     "data": {
      "text/plain": [
       "9.481481481481481"
      ]
     },
     "execution_count": 209,
     "metadata": {},
     "output_type": "execute_result"
    }
   ],
   "source": [
    "q_x"
   ]
  },
  {
   "cell_type": "code",
   "execution_count": 222,
   "metadata": {},
   "outputs": [],
   "source": [
    "t_range = np.arange(-1.9,2,(1.9+1.9)/6)\n",
    "q_t_range = list()\n",
    "for t in t_range:\n",
    "    left, right = list(), list()\n",
    "    left_y, right_y = list(), list()\n",
    "\n",
    "    for val in X:\n",
    "        if val < t:\n",
    "            left.append(val)\n",
    "            left_y.append(y[np.where(X == val)])\n",
    "        else:\n",
    "            right.append(val)\n",
    "            right_y.append(y[np.where(X == val)])\n",
    "\n",
    "    q_x = regression_var_criterion(X,y,t) - len(left)/len(X)*regression_var_criterion(left, left_y, t) \\\n",
    "            - len(right)/len(X)*regression_var_criterion(right, right_y, t) \n",
    "    q_t_range.append(q_x)\n",
    "        "
   ]
  },
  {
   "cell_type": "code",
   "execution_count": 228,
   "metadata": {},
   "outputs": [
    {
     "data": {
      "text/plain": [
       "1.8999999999999999"
      ]
     },
     "execution_count": 228,
     "metadata": {},
     "output_type": "execute_result"
    }
   ],
   "source": [
    "t"
   ]
  },
  {
   "cell_type": "code",
   "execution_count": 229,
   "metadata": {},
   "outputs": [
    {
     "data": {
      "image/png": "[encoded data removed]",
      "text/plain": [
       "<matplotlib.figure.Figure at 0x1a2b133400>"
      ]
     },
     "metadata": {},
     "output_type": "display_data"
    }
   ],
   "source": [
    "plt.figure(figsize=(10, 6))\n",
    "plt.plot(t_range, q_t_range, \"b\")\n",
    "plt.xlim([-2, 2])\n",
    "#plt.title(\"Decision tree regressor, MSE = %.2f\" % np.sum((y_test - reg_tree_pred) ** 2))\n",
    "plt.show()"
   ]
  },
  {
   "cell_type": "markdown",
   "metadata": {},
   "source": [
    "**<font color='red'>Вопрос 1.</font> Оптимально ли с точки зрения дисперсионного критерия выбранное нами значение порога $t = 0$?**\n",
    "- Да\n",
    "- Нет - X"
   ]
  },
  {
   "cell_type": "markdown",
   "metadata": {},
   "source": [
    "Теперь произведем разбиение в каждой из листовых вершин. В левой (соответствующей ветви $x < 0$) – по предикату $[x < -1.5]$, а в правой (соответствующей ветви $x \\geqslant 0$) – по предикату $[x < 1.5]$. Получится дерево глубины 2 с 7 вершинами и 4 листьями. Постройте график предсказаний этого дерева для $x \\in [-2, 2]$."
   ]
  },
  {
   "cell_type": "code",
   "execution_count": 7,
   "metadata": {
    "collapsed": true
   },
   "outputs": [],
   "source": [
    "# Ваш код здесь"
   ]
  },
  {
   "cell_type": "markdown",
   "metadata": {},
   "source": [
    "**<font color='red'>Вопрос 2.</font> Из какого числа отрезков состоит график (необходимо считать как горизонтальные, так и вертикальные прямые), изображающий предсказания построенного дерева на отрезке [-2, 2]?**\n",
    "- 5\n",
    "- 6\n",
    "- 7\n",
    "- 8"
   ]
  },
  {
   "cell_type": "markdown",
   "metadata": {},
   "source": [
    "## 2. Построение дерева решений для прогноза сердечно-сосудистых заболеваний\n",
    "Считаем в `DataFrame` знакомый нам набор данных по сердечно-сосудистым заболеваниям. "
   ]
  },
  {
   "cell_type": "code",
   "execution_count": 153,
   "metadata": {},
   "outputs": [],
   "source": [
    "df = pd.read_csv('../../data/mlbootcamp5_train.csv', \n",
    "                 index_col='id', sep=';')"
   ]
  },
  {
   "cell_type": "code",
   "execution_count": 154,
   "metadata": {},
   "outputs": [
    {
     "data": {
      "text/html": [
       "<div>\n",
       "<style scoped>\n",
       "    .dataframe tbody tr th:only-of-type {\n",
       "        vertical-align: middle;\n",
       "    }\n",
       "\n",
       "    .dataframe tbody tr th {\n",
       "        vertical-align: top;\n",
       "    }\n",
       "\n",
       "    .dataframe thead th {\n",
       "        text-align: right;\n",
       "    }\n",
       "</style>\n",
       "<table border=\"1\" class=\"dataframe\">\n",
       "  <thead>\n",
       "    <tr style=\"text-align: right;\">\n",
       "      <th></th>\n",
       "      <th>age</th>\n",
       "      <th>gender</th>\n",
       "      <th>height</th>\n",
       "      <th>weight</th>\n",
       "      <th>ap_hi</th>\n",
       "      <th>ap_lo</th>\n",
       "      <th>cholesterol</th>\n",
       "      <th>gluc</th>\n",
       "      <th>smoke</th>\n",
       "      <th>alco</th>\n",
       "      <th>active</th>\n",
       "      <th>cardio</th>\n",
       "    </tr>\n",
       "    <tr>\n",
       "      <th>id</th>\n",
       "      <th></th>\n",
       "      <th></th>\n",
       "      <th></th>\n",
       "      <th></th>\n",
       "      <th></th>\n",
       "      <th></th>\n",
       "      <th></th>\n",
       "      <th></th>\n",
       "      <th></th>\n",
       "      <th></th>\n",
       "      <th></th>\n",
       "      <th></th>\n",
       "    </tr>\n",
       "  </thead>\n",
       "  <tbody>\n",
       "    <tr>\n",
       "      <th>0</th>\n",
       "      <td>18393</td>\n",
       "      <td>2</td>\n",
       "      <td>168</td>\n",
       "      <td>62.0</td>\n",
       "      <td>110</td>\n",
       "      <td>80</td>\n",
       "      <td>1</td>\n",
       "      <td>1</td>\n",
       "      <td>0</td>\n",
       "      <td>0</td>\n",
       "      <td>1</td>\n",
       "      <td>0</td>\n",
       "    </tr>\n",
       "    <tr>\n",
       "      <th>1</th>\n",
       "      <td>20228</td>\n",
       "      <td>1</td>\n",
       "      <td>156</td>\n",
       "      <td>85.0</td>\n",
       "      <td>140</td>\n",
       "      <td>90</td>\n",
       "      <td>3</td>\n",
       "      <td>1</td>\n",
       "      <td>0</td>\n",
       "      <td>0</td>\n",
       "      <td>1</td>\n",
       "      <td>1</td>\n",
       "    </tr>\n",
       "    <tr>\n",
       "      <th>2</th>\n",
       "      <td>18857</td>\n",
       "      <td>1</td>\n",
       "      <td>165</td>\n",
       "      <td>64.0</td>\n",
       "      <td>130</td>\n",
       "      <td>70</td>\n",
       "      <td>3</td>\n",
       "      <td>1</td>\n",
       "      <td>0</td>\n",
       "      <td>0</td>\n",
       "      <td>0</td>\n",
       "      <td>1</td>\n",
       "    </tr>\n",
       "    <tr>\n",
       "      <th>3</th>\n",
       "      <td>17623</td>\n",
       "      <td>2</td>\n",
       "      <td>169</td>\n",
       "      <td>82.0</td>\n",
       "      <td>150</td>\n",
       "      <td>100</td>\n",
       "      <td>1</td>\n",
       "      <td>1</td>\n",
       "      <td>0</td>\n",
       "      <td>0</td>\n",
       "      <td>1</td>\n",
       "      <td>1</td>\n",
       "    </tr>\n",
       "    <tr>\n",
       "      <th>4</th>\n",
       "      <td>17474</td>\n",
       "      <td>1</td>\n",
       "      <td>156</td>\n",
       "      <td>56.0</td>\n",
       "      <td>100</td>\n",
       "      <td>60</td>\n",
       "      <td>1</td>\n",
       "      <td>1</td>\n",
       "      <td>0</td>\n",
       "      <td>0</td>\n",
       "      <td>0</td>\n",
       "      <td>0</td>\n",
       "    </tr>\n",
       "  </tbody>\n",
       "</table>\n",
       "</div>"
      ],
      "text/plain": [
       "      age  gender  height  weight  ap_hi  ap_lo  cholesterol  gluc  smoke  \\\n",
       "id                                                                          \n",
       "0   18393       2     168    62.0    110     80            1     1      0   \n",
       "1   20228       1     156    85.0    140     90            3     1      0   \n",
       "2   18857       1     165    64.0    130     70            3     1      0   \n",
       "3   17623       2     169    82.0    150    100            1     1      0   \n",
       "4   17474       1     156    56.0    100     60            1     1      0   \n",
       "\n",
       "    alco  active  cardio  \n",
       "id                        \n",
       "0      0       1       0  \n",
       "1      0       1       1  \n",
       "2      0       0       1  \n",
       "3      0       1       1  \n",
       "4      0       0       0  "
      ]
     },
     "execution_count": 154,
     "metadata": {},
     "output_type": "execute_result"
    }
   ],
   "source": [
    "df.head()"
   ]
  },
  {
   "cell_type": "markdown",
   "metadata": {},
   "source": [
    "Сделайте небольшие преобразования признаков: постройте признак \"возраст в годах\" (полных лет), а также постройте по 3 бинарных признака на основе `cholesterol` и `gluc`, где они, соответственно, равны 1, 2 или 3. Эта техника называется dummy-кодированием или One Hot Encoding (OHE), удобней всего в данном случае использовать `pandas.get_dummmies`. Исходные признаки `cholesterol` и `gluc` после кодирования использовать не нужно."
   ]
  },
  {
   "cell_type": "code",
   "execution_count": 155,
   "metadata": {},
   "outputs": [],
   "source": [
    "df['age'] = np.round(df.age/360,0)"
   ]
  },
  {
   "cell_type": "code",
   "execution_count": 156,
   "metadata": {},
   "outputs": [],
   "source": [
    "df = pd.get_dummies(data=df, columns=['cholesterol', 'gluc'])"
   ]
  },
  {
   "cell_type": "code",
   "execution_count": 157,
   "metadata": {},
   "outputs": [
    {
     "data": {
      "text/html": [
       "<div>\n",
       "<style scoped>\n",
       "    .dataframe tbody tr th:only-of-type {\n",
       "        vertical-align: middle;\n",
       "    }\n",
       "\n",
       "    .dataframe tbody tr th {\n",
       "        vertical-align: top;\n",
       "    }\n",
       "\n",
       "    .dataframe thead th {\n",
       "        text-align: right;\n",
       "    }\n",
       "</style>\n",
       "<table border=\"1\" class=\"dataframe\">\n",
       "  <thead>\n",
       "    <tr style=\"text-align: right;\">\n",
       "      <th></th>\n",
       "      <th>age</th>\n",
       "      <th>gender</th>\n",
       "      <th>height</th>\n",
       "      <th>weight</th>\n",
       "      <th>ap_hi</th>\n",
       "      <th>ap_lo</th>\n",
       "      <th>smoke</th>\n",
       "      <th>alco</th>\n",
       "      <th>active</th>\n",
       "      <th>cardio</th>\n",
       "      <th>cholesterol_1</th>\n",
       "      <th>cholesterol_2</th>\n",
       "      <th>cholesterol_3</th>\n",
       "      <th>gluc_1</th>\n",
       "      <th>gluc_2</th>\n",
       "      <th>gluc_3</th>\n",
       "    </tr>\n",
       "    <tr>\n",
       "      <th>id</th>\n",
       "      <th></th>\n",
       "      <th></th>\n",
       "      <th></th>\n",
       "      <th></th>\n",
       "      <th></th>\n",
       "      <th></th>\n",
       "      <th></th>\n",
       "      <th></th>\n",
       "      <th></th>\n",
       "      <th></th>\n",
       "      <th></th>\n",
       "      <th></th>\n",
       "      <th></th>\n",
       "      <th></th>\n",
       "      <th></th>\n",
       "      <th></th>\n",
       "    </tr>\n",
       "  </thead>\n",
       "  <tbody>\n",
       "    <tr>\n",
       "      <th>0</th>\n",
       "      <td>51.0</td>\n",
       "      <td>2</td>\n",
       "      <td>168</td>\n",
       "      <td>62.0</td>\n",
       "      <td>110</td>\n",
       "      <td>80</td>\n",
       "      <td>0</td>\n",
       "      <td>0</td>\n",
       "      <td>1</td>\n",
       "      <td>0</td>\n",
       "      <td>1</td>\n",
       "      <td>0</td>\n",
       "      <td>0</td>\n",
       "      <td>1</td>\n",
       "      <td>0</td>\n",
       "      <td>0</td>\n",
       "    </tr>\n",
       "    <tr>\n",
       "      <th>1</th>\n",
       "      <td>56.0</td>\n",
       "      <td>1</td>\n",
       "      <td>156</td>\n",
       "      <td>85.0</td>\n",
       "      <td>140</td>\n",
       "      <td>90</td>\n",
       "      <td>0</td>\n",
       "      <td>0</td>\n",
       "      <td>1</td>\n",
       "      <td>1</td>\n",
       "      <td>0</td>\n",
       "      <td>0</td>\n",
       "      <td>1</td>\n",
       "      <td>1</td>\n",
       "      <td>0</td>\n",
       "      <td>0</td>\n",
       "    </tr>\n",
       "    <tr>\n",
       "      <th>2</th>\n",
       "      <td>52.0</td>\n",
       "      <td>1</td>\n",
       "      <td>165</td>\n",
       "      <td>64.0</td>\n",
       "      <td>130</td>\n",
       "      <td>70</td>\n",
       "      <td>0</td>\n",
       "      <td>0</td>\n",
       "      <td>0</td>\n",
       "      <td>1</td>\n",
       "      <td>0</td>\n",
       "      <td>0</td>\n",
       "      <td>1</td>\n",
       "      <td>1</td>\n",
       "      <td>0</td>\n",
       "      <td>0</td>\n",
       "    </tr>\n",
       "    <tr>\n",
       "      <th>3</th>\n",
       "      <td>49.0</td>\n",
       "      <td>2</td>\n",
       "      <td>169</td>\n",
       "      <td>82.0</td>\n",
       "      <td>150</td>\n",
       "      <td>100</td>\n",
       "      <td>0</td>\n",
       "      <td>0</td>\n",
       "      <td>1</td>\n",
       "      <td>1</td>\n",
       "      <td>1</td>\n",
       "      <td>0</td>\n",
       "      <td>0</td>\n",
       "      <td>1</td>\n",
       "      <td>0</td>\n",
       "      <td>0</td>\n",
       "    </tr>\n",
       "    <tr>\n",
       "      <th>4</th>\n",
       "      <td>49.0</td>\n",
       "      <td>1</td>\n",
       "      <td>156</td>\n",
       "      <td>56.0</td>\n",
       "      <td>100</td>\n",
       "      <td>60</td>\n",
       "      <td>0</td>\n",
       "      <td>0</td>\n",
       "      <td>0</td>\n",
       "      <td>0</td>\n",
       "      <td>1</td>\n",
       "      <td>0</td>\n",
       "      <td>0</td>\n",
       "      <td>1</td>\n",
       "      <td>0</td>\n",
       "      <td>0</td>\n",
       "    </tr>\n",
       "  </tbody>\n",
       "</table>\n",
       "</div>"
      ],
      "text/plain": [
       "     age  gender  height  weight  ap_hi  ap_lo  smoke  alco  active  cardio  \\\n",
       "id                                                                            \n",
       "0   51.0       2     168    62.0    110     80      0     0       1       0   \n",
       "1   56.0       1     156    85.0    140     90      0     0       1       1   \n",
       "2   52.0       1     165    64.0    130     70      0     0       0       1   \n",
       "3   49.0       2     169    82.0    150    100      0     0       1       1   \n",
       "4   49.0       1     156    56.0    100     60      0     0       0       0   \n",
       "\n",
       "    cholesterol_1  cholesterol_2  cholesterol_3  gluc_1  gluc_2  gluc_3  \n",
       "id                                                                       \n",
       "0               1              0              0       1       0       0  \n",
       "1               0              0              1       1       0       0  \n",
       "2               0              0              1       1       0       0  \n",
       "3               1              0              0       1       0       0  \n",
       "4               1              0              0       1       0       0  "
      ]
     },
     "execution_count": 157,
     "metadata": {},
     "output_type": "execute_result"
    }
   ],
   "source": [
    "df.head()"
   ]
  },
  {
   "cell_type": "code",
   "execution_count": 158,
   "metadata": {},
   "outputs": [],
   "source": [
    "y = df.cardio"
   ]
  },
  {
   "cell_type": "markdown",
   "metadata": {},
   "source": [
    "Разбейте выборку на обучающую и отложенную (holdout) части в пропорции 7/3. Для этого используйте метод `sklearn.model_selection.train_test_split`, зафиксируйте у него `random_state`=17."
   ]
  },
  {
   "cell_type": "code",
   "execution_count": 159,
   "metadata": {},
   "outputs": [],
   "source": [
    "X_train, X_valid, y_train, y_valid = train_test_split(df.drop(['cardio'], axis = 1).values, y.values,\n",
    "                                                      test_size = 0.3, random_state =17 ) # Ваш код здесь\n"
   ]
  },
  {
   "cell_type": "markdown",
   "metadata": {},
   "source": [
    "Обучите на выборке `(X_train, y_train)` дерево решений с ограничением на максимальную глубину в 3. Зафиксируйте у дерева `random_state=17`. Визуализируйте дерево с помошью `sklearn.tree.export_graphviz`, `dot` и `pydot`. Пример дан в [статье](https://habrahabr.ru/company/ods/blog/322534/) под спойлером \"Код для отрисовки дерева\". Названия файлов писать без кавычек, для того чтобы работало в jupyter notebook. Обратите внимание, что команды в Jupyter notebook, начинающиеся с восклицательного знака – это терминальные команды (которые мы обычно запускаем в терминале/командной строке)."
   ]
  },
  {
   "cell_type": "code",
   "execution_count": 90,
   "metadata": {},
   "outputs": [
    {
     "data": {
      "image/svg+xml": [
       "<?xml version=\"1.0\" encoding=\"UTF-8\" standalone=\"no\"?>\n",
       "<!DOCTYPE svg PUBLIC \"-//W3C//DTD SVG 1.1//EN\"\n",
       " \"http://www.w3.org/Graphics/SVG/1.1/DTD/svg11.dtd\">\n",
       "<!-- Generated by graphviz version 2.40.1 (20161225.0304)\n",
       " -->\n",
       "<!-- Title: Tree Pages: 1 -->\n",
       "<svg width=\"1169pt\" height=\"358pt\"\n",
       " viewBox=\"0.00 0.00 1168.54 358.00\" xmlns=\"http://www.w3.org/2000/svg\" xmlns:xlink=\"http://www.w3.org/1999/xlink\">\n",
       "<g id=\"graph0\" class=\"graph\" transform=\"scale(1 1) rotate(0) translate(4 354)\">\n",
       "<title>Tree</title>\n",
       "<polygon fill=\"#ffffff\" stroke=\"transparent\" points=\"-4,4 -4,-354 1164.5371,-354 1164.5371,4 -4,4\"/>\n",
       "<!-- 0 -->\n",
       "<g id=\"node1\" class=\"node\">\n",
       "<title>0</title>\n",
       "<polygon fill=\"#e58139\" fill-opacity=\"0.003922\" stroke=\"#000000\" points=\"646.8064,-350 499.7307,-350 499.7307,-286 646.8064,-286 646.8064,-350\"/>\n",
       "<text text-anchor=\"middle\" x=\"573.2686\" y=\"-334.8\" font-family=\"Times,serif\" font-size=\"14.00\" fill=\"#000000\">ap_hi &lt;= 129.5</text>\n",
       "<text text-anchor=\"middle\" x=\"573.2686\" y=\"-320.8\" font-family=\"Times,serif\" font-size=\"14.00\" fill=\"#000000\">gini = 0.5</text>\n",
       "<text text-anchor=\"middle\" x=\"573.2686\" y=\"-306.8\" font-family=\"Times,serif\" font-size=\"14.00\" fill=\"#000000\">samples = 49000</text>\n",
       "<text text-anchor=\"middle\" x=\"573.2686\" y=\"-292.8\" font-family=\"Times,serif\" font-size=\"14.00\" fill=\"#000000\">value = [24531, 24469]</text>\n",
       "</g>\n",
       "<!-- 1 -->\n",
       "<g id=\"node2\" class=\"node\">\n",
       "<title>1</title>\n",
       "<polygon fill=\"#e58139\" fill-opacity=\"0.537255\" stroke=\"#000000\" points=\"503.3064,-250 363.2307,-250 363.2307,-186 503.3064,-186 503.3064,-250\"/>\n",
       "<text text-anchor=\"middle\" x=\"433.2686\" y=\"-234.8\" font-family=\"Times,serif\" font-size=\"14.00\" fill=\"#000000\">age &lt;= 55.5</text>\n",
       "<text text-anchor=\"middle\" x=\"433.2686\" y=\"-220.8\" font-family=\"Times,serif\" font-size=\"14.00\" fill=\"#000000\">gini = 0.433</text>\n",
       "<text text-anchor=\"middle\" x=\"433.2686\" y=\"-206.8\" font-family=\"Times,serif\" font-size=\"14.00\" fill=\"#000000\">samples = 28925</text>\n",
       "<text text-anchor=\"middle\" x=\"433.2686\" y=\"-192.8\" font-family=\"Times,serif\" font-size=\"14.00\" fill=\"#000000\">value = [19758, 9167]</text>\n",
       "</g>\n",
       "<!-- 0&#45;&gt;1 -->\n",
       "<g id=\"edge1\" class=\"edge\">\n",
       "<title>0&#45;&gt;1</title>\n",
       "<path fill=\"none\" stroke=\"#000000\" d=\"M528.2011,-285.8089C514.9619,-276.3524 500.3541,-265.9182 486.6484,-256.1285\"/>\n",
       "<polygon fill=\"#000000\" stroke=\"#000000\" points=\"488.4233,-253.0951 478.2516,-250.1308 484.3546,-258.7913 488.4233,-253.0951\"/>\n",
       "<text text-anchor=\"middle\" x=\"482.3616\" y=\"-270.5906\" font-family=\"Times,serif\" font-size=\"14.00\" fill=\"#000000\">True</text>\n",
       "</g>\n",
       "<!-- 8 -->\n",
       "<g id=\"node9\" class=\"node\">\n",
       "<title>8</title>\n",
       "<polygon fill=\"#399de5\" fill-opacity=\"0.686275\" stroke=\"#000000\" points=\"793.3064,-250 653.2307,-250 653.2307,-186 793.3064,-186 793.3064,-250\"/>\n",
       "<text text-anchor=\"middle\" x=\"723.2686\" y=\"-234.8\" font-family=\"Times,serif\" font-size=\"14.00\" fill=\"#000000\">ap_hi &lt;= 138.5</text>\n",
       "<text text-anchor=\"middle\" x=\"723.2686\" y=\"-220.8\" font-family=\"Times,serif\" font-size=\"14.00\" fill=\"#000000\">gini = 0.362</text>\n",
       "<text text-anchor=\"middle\" x=\"723.2686\" y=\"-206.8\" font-family=\"Times,serif\" font-size=\"14.00\" fill=\"#000000\">samples = 20075</text>\n",
       "<text text-anchor=\"middle\" x=\"723.2686\" y=\"-192.8\" font-family=\"Times,serif\" font-size=\"14.00\" fill=\"#000000\">value = [4773, 15302]</text>\n",
       "</g>\n",
       "<!-- 0&#45;&gt;8 -->\n",
       "<g id=\"edge8\" class=\"edge\">\n",
       "<title>0&#45;&gt;8</title>\n",
       "<path fill=\"none\" stroke=\"#000000\" d=\"M621.5552,-285.8089C635.8738,-276.2632 651.6867,-265.7213 666.4912,-255.8516\"/>\n",
       "<polygon fill=\"#000000\" stroke=\"#000000\" points=\"668.6934,-258.59 675.0724,-250.1308 664.8104,-252.7656 668.6934,-258.59\"/>\n",
       "<text text-anchor=\"middle\" x=\"670.1695\" y=\"-270.4453\" font-family=\"Times,serif\" font-size=\"14.00\" fill=\"#000000\">False</text>\n",
       "</g>\n",
       "<!-- 2 -->\n",
       "<g id=\"node3\" class=\"node\">\n",
       "<title>2</title>\n",
       "<polygon fill=\"#e58139\" fill-opacity=\"0.690196\" stroke=\"#000000\" points=\"288.3064,-150 148.2307,-150 148.2307,-86 288.3064,-86 288.3064,-150\"/>\n",
       "<text text-anchor=\"middle\" x=\"218.2686\" y=\"-134.8\" font-family=\"Times,serif\" font-size=\"14.00\" fill=\"#000000\">cholesterol_3 &lt;= 0.5</text>\n",
       "<text text-anchor=\"middle\" x=\"218.2686\" y=\"-120.8\" font-family=\"Times,serif\" font-size=\"14.00\" fill=\"#000000\">gini = 0.361</text>\n",
       "<text text-anchor=\"middle\" x=\"218.2686\" y=\"-106.8\" font-family=\"Times,serif\" font-size=\"14.00\" fill=\"#000000\">samples = 17842</text>\n",
       "<text text-anchor=\"middle\" x=\"218.2686\" y=\"-92.8\" font-family=\"Times,serif\" font-size=\"14.00\" fill=\"#000000\">value = [13629, 4213]</text>\n",
       "</g>\n",
       "<!-- 1&#45;&gt;2 -->\n",
       "<g id=\"edge2\" class=\"edge\">\n",
       "<title>1&#45;&gt;2</title>\n",
       "<path fill=\"none\" stroke=\"#000000\" d=\"M364.3541,-185.9467C342.6557,-175.8545 318.5391,-164.6375 296.2563,-154.2734\"/>\n",
       "<polygon fill=\"#000000\" stroke=\"#000000\" points=\"297.7049,-151.0871 287.1616,-150.0433 294.7528,-157.4342 297.7049,-151.0871\"/>\n",
       "</g>\n",
       "<!-- 5 -->\n",
       "<g id=\"node6\" class=\"node\">\n",
       "<title>5</title>\n",
       "<polygon fill=\"#e58139\" fill-opacity=\"0.192157\" stroke=\"#000000\" points=\"499.8065,-150 366.7306,-150 366.7306,-86 499.8065,-86 499.8065,-150\"/>\n",
       "<text text-anchor=\"middle\" x=\"433.2686\" y=\"-134.8\" font-family=\"Times,serif\" font-size=\"14.00\" fill=\"#000000\">cholesterol_3 &lt;= 0.5</text>\n",
       "<text text-anchor=\"middle\" x=\"433.2686\" y=\"-120.8\" font-family=\"Times,serif\" font-size=\"14.00\" fill=\"#000000\">gini = 0.494</text>\n",
       "<text text-anchor=\"middle\" x=\"433.2686\" y=\"-106.8\" font-family=\"Times,serif\" font-size=\"14.00\" fill=\"#000000\">samples = 11083</text>\n",
       "<text text-anchor=\"middle\" x=\"433.2686\" y=\"-92.8\" font-family=\"Times,serif\" font-size=\"14.00\" fill=\"#000000\">value = [6129, 4954]</text>\n",
       "</g>\n",
       "<!-- 1&#45;&gt;5 -->\n",
       "<g id=\"edge5\" class=\"edge\">\n",
       "<title>1&#45;&gt;5</title>\n",
       "<path fill=\"none\" stroke=\"#000000\" d=\"M433.2686,-185.8089C433.2686,-177.6906 433.2686,-168.8517 433.2686,-160.3186\"/>\n",
       "<polygon fill=\"#000000\" stroke=\"#000000\" points=\"436.7687,-160.1307 433.2686,-150.1308 429.7687,-160.1308 436.7687,-160.1307\"/>\n",
       "</g>\n",
       "<!-- 3 -->\n",
       "<g id=\"node4\" class=\"node\">\n",
       "<title>3</title>\n",
       "<polygon fill=\"#e58139\" fill-opacity=\"0.717647\" stroke=\"#000000\" points=\"140.3064,-50 .2307,-50 .2307,0 140.3064,0 140.3064,-50\"/>\n",
       "<text text-anchor=\"middle\" x=\"70.2686\" y=\"-34.8\" font-family=\"Times,serif\" font-size=\"14.00\" fill=\"#000000\">gini = 0.345</text>\n",
       "<text text-anchor=\"middle\" x=\"70.2686\" y=\"-20.8\" font-family=\"Times,serif\" font-size=\"14.00\" fill=\"#000000\">samples = 17089</text>\n",
       "<text text-anchor=\"middle\" x=\"70.2686\" y=\"-6.8\" font-family=\"Times,serif\" font-size=\"14.00\" fill=\"#000000\">value = [13308, 3781]</text>\n",
       "</g>\n",
       "<!-- 2&#45;&gt;3 -->\n",
       "<g id=\"edge3\" class=\"edge\">\n",
       "<title>2&#45;&gt;3</title>\n",
       "<path fill=\"none\" stroke=\"#000000\" d=\"M167.3354,-85.9947C151.532,-76.0642 134.1692,-65.1538 118.5517,-55.3401\"/>\n",
       "<polygon fill=\"#000000\" stroke=\"#000000\" points=\"120.4052,-52.3711 110.0758,-50.014 116.6807,-58.2981 120.4052,-52.3711\"/>\n",
       "</g>\n",
       "<!-- 4 -->\n",
       "<g id=\"node5\" class=\"node\">\n",
       "<title>4</title>\n",
       "<polygon fill=\"#399de5\" fill-opacity=\"0.258824\" stroke=\"#000000\" points=\"277.8066,-50 158.7306,-50 158.7306,0 277.8066,0 277.8066,-50\"/>\n",
       "<text text-anchor=\"middle\" x=\"218.2686\" y=\"-34.8\" font-family=\"Times,serif\" font-size=\"14.00\" fill=\"#000000\">gini = 0.489</text>\n",
       "<text text-anchor=\"middle\" x=\"218.2686\" y=\"-20.8\" font-family=\"Times,serif\" font-size=\"14.00\" fill=\"#000000\">samples = 753</text>\n",
       "<text text-anchor=\"middle\" x=\"218.2686\" y=\"-6.8\" font-family=\"Times,serif\" font-size=\"14.00\" fill=\"#000000\">value = [321, 432]</text>\n",
       "</g>\n",
       "<!-- 2&#45;&gt;4 -->\n",
       "<g id=\"edge4\" class=\"edge\">\n",
       "<title>2&#45;&gt;4</title>\n",
       "<path fill=\"none\" stroke=\"#000000\" d=\"M218.2686,-85.9947C218.2686,-77.6273 218.2686,-68.5643 218.2686,-60.0478\"/>\n",
       "<polygon fill=\"#000000\" stroke=\"#000000\" points=\"221.7687,-60.014 218.2686,-50.014 214.7687,-60.0141 221.7687,-60.014\"/>\n",
       "</g>\n",
       "<!-- 6 -->\n",
       "<g id=\"node7\" class=\"node\">\n",
       "<title>6</title>\n",
       "<polygon fill=\"#e58139\" fill-opacity=\"0.286275\" stroke=\"#000000\" points=\"429.8065,-50 296.7306,-50 296.7306,0 429.8065,0 429.8065,-50\"/>\n",
       "<text text-anchor=\"middle\" x=\"363.2686\" y=\"-34.8\" font-family=\"Times,serif\" font-size=\"14.00\" fill=\"#000000\">gini = 0.486</text>\n",
       "<text text-anchor=\"middle\" x=\"363.2686\" y=\"-20.8\" font-family=\"Times,serif\" font-size=\"14.00\" fill=\"#000000\">samples = 9922</text>\n",
       "<text text-anchor=\"middle\" x=\"363.2686\" y=\"-6.8\" font-family=\"Times,serif\" font-size=\"14.00\" fill=\"#000000\">value = [5792, 4130]</text>\n",
       "</g>\n",
       "<!-- 5&#45;&gt;6 -->\n",
       "<g id=\"edge6\" class=\"edge\">\n",
       "<title>5&#45;&gt;6</title>\n",
       "<path fill=\"none\" stroke=\"#000000\" d=\"M409.1785,-85.9947C402.3961,-76.9837 395.0063,-67.1658 388.177,-58.0927\"/>\n",
       "<polygon fill=\"#000000\" stroke=\"#000000\" points=\"390.9065,-55.8989 382.0963,-50.014 385.3137,-60.1086 390.9065,-55.8989\"/>\n",
       "</g>\n",
       "<!-- 7 -->\n",
       "<g id=\"node8\" class=\"node\">\n",
       "<title>7</title>\n",
       "<polygon fill=\"#399de5\" fill-opacity=\"0.592157\" stroke=\"#000000\" points=\"567.8066,-50 448.7306,-50 448.7306,0 567.8066,0 567.8066,-50\"/>\n",
       "<text text-anchor=\"middle\" x=\"508.2686\" y=\"-34.8\" font-family=\"Times,serif\" font-size=\"14.00\" fill=\"#000000\">gini = 0.412</text>\n",
       "<text text-anchor=\"middle\" x=\"508.2686\" y=\"-20.8\" font-family=\"Times,serif\" font-size=\"14.00\" fill=\"#000000\">samples = 1161</text>\n",
       "<text text-anchor=\"middle\" x=\"508.2686\" y=\"-6.8\" font-family=\"Times,serif\" font-size=\"14.00\" fill=\"#000000\">value = [337, 824]</text>\n",
       "</g>\n",
       "<!-- 5&#45;&gt;7 -->\n",
       "<g id=\"edge7\" class=\"edge\">\n",
       "<title>5&#45;&gt;7</title>\n",
       "<path fill=\"none\" stroke=\"#000000\" d=\"M459.0793,-85.9947C466.4204,-76.8917 474.4255,-66.9654 481.8047,-57.8152\"/>\n",
       "<polygon fill=\"#000000\" stroke=\"#000000\" points=\"484.5428,-59.9953 488.0959,-50.014 479.0939,-55.601 484.5428,-59.9953\"/>\n",
       "</g>\n",
       "<!-- 9 -->\n",
       "<g id=\"node10\" class=\"node\">\n",
       "<title>9</title>\n",
       "<polygon fill=\"#399de5\" fill-opacity=\"0.345098\" stroke=\"#000000\" points=\"789.8065,-150 656.7306,-150 656.7306,-86 789.8065,-86 789.8065,-150\"/>\n",
       "<text text-anchor=\"middle\" x=\"723.2686\" y=\"-134.8\" font-family=\"Times,serif\" font-size=\"14.00\" fill=\"#000000\">cholesterol_3 &lt;= 0.5</text>\n",
       "<text text-anchor=\"middle\" x=\"723.2686\" y=\"-120.8\" font-family=\"Times,serif\" font-size=\"14.00\" fill=\"#000000\">gini = 0.478</text>\n",
       "<text text-anchor=\"middle\" x=\"723.2686\" y=\"-106.8\" font-family=\"Times,serif\" font-size=\"14.00\" fill=\"#000000\">samples = 6522</text>\n",
       "<text text-anchor=\"middle\" x=\"723.2686\" y=\"-92.8\" font-family=\"Times,serif\" font-size=\"14.00\" fill=\"#000000\">value = [2580, 3942]</text>\n",
       "</g>\n",
       "<!-- 8&#45;&gt;9 -->\n",
       "<g id=\"edge9\" class=\"edge\">\n",
       "<title>8&#45;&gt;9</title>\n",
       "<path fill=\"none\" stroke=\"#000000\" d=\"M723.2686,-185.8089C723.2686,-177.6906 723.2686,-168.8517 723.2686,-160.3186\"/>\n",
       "<polygon fill=\"#000000\" stroke=\"#000000\" points=\"726.7687,-160.1307 723.2686,-150.1308 719.7687,-160.1308 726.7687,-160.1307\"/>\n",
       "</g>\n",
       "<!-- 12 -->\n",
       "<g id=\"node13\" class=\"node\">\n",
       "<title>12</title>\n",
       "<polygon fill=\"#399de5\" fill-opacity=\"0.807843\" stroke=\"#000000\" points=\"1019.293,-150 879.2441,-150 879.2441,-86 1019.293,-86 1019.293,-150\"/>\n",
       "<text text-anchor=\"middle\" x=\"949.2686\" y=\"-134.8\" font-family=\"Times,serif\" font-size=\"14.00\" fill=\"#000000\">ap_hi &lt;= 149.5</text>\n",
       "<text text-anchor=\"middle\" x=\"949.2686\" y=\"-120.8\" font-family=\"Times,serif\" font-size=\"14.00\" fill=\"#000000\">gini = 0.271</text>\n",
       "<text text-anchor=\"middle\" x=\"949.2686\" y=\"-106.8\" font-family=\"Times,serif\" font-size=\"14.00\" fill=\"#000000\">samples = 13553</text>\n",
       "<text text-anchor=\"middle\" x=\"949.2686\" y=\"-92.8\" font-family=\"Times,serif\" font-size=\"14.00\" fill=\"#000000\">value = [2193, 11360]</text>\n",
       "</g>\n",
       "<!-- 8&#45;&gt;12 -->\n",
       "<g id=\"edge12\" class=\"edge\">\n",
       "<title>8&#45;&gt;12</title>\n",
       "<path fill=\"none\" stroke=\"#000000\" d=\"M793.5375,-186.9075C817.666,-176.2312 844.8427,-164.2061 869.6588,-153.2255\"/>\n",
       "<polygon fill=\"#000000\" stroke=\"#000000\" points=\"871.3145,-156.3203 879.043,-149.0732 868.482,-149.919 871.3145,-156.3203\"/>\n",
       "</g>\n",
       "<!-- 10 -->\n",
       "<g id=\"node11\" class=\"node\">\n",
       "<title>10</title>\n",
       "<polygon fill=\"#399de5\" fill-opacity=\"0.207843\" stroke=\"#000000\" points=\"719.8065,-50 586.7306,-50 586.7306,0 719.8065,0 719.8065,-50\"/>\n",
       "<text text-anchor=\"middle\" x=\"653.2686\" y=\"-34.8\" font-family=\"Times,serif\" font-size=\"14.00\" fill=\"#000000\">gini = 0.493</text>\n",
       "<text text-anchor=\"middle\" x=\"653.2686\" y=\"-20.8\" font-family=\"Times,serif\" font-size=\"14.00\" fill=\"#000000\">samples = 5258</text>\n",
       "<text text-anchor=\"middle\" x=\"653.2686\" y=\"-6.8\" font-family=\"Times,serif\" font-size=\"14.00\" fill=\"#000000\">value = [2325, 2933]</text>\n",
       "</g>\n",
       "<!-- 9&#45;&gt;10 -->\n",
       "<g id=\"edge10\" class=\"edge\">\n",
       "<title>9&#45;&gt;10</title>\n",
       "<path fill=\"none\" stroke=\"#000000\" d=\"M699.1785,-85.9947C692.3961,-76.9837 685.0063,-67.1658 678.177,-58.0927\"/>\n",
       "<polygon fill=\"#000000\" stroke=\"#000000\" points=\"680.9065,-55.8989 672.0963,-50.014 675.3137,-60.1086 680.9065,-55.8989\"/>\n",
       "</g>\n",
       "<!-- 11 -->\n",
       "<g id=\"node12\" class=\"node\">\n",
       "<title>11</title>\n",
       "<polygon fill=\"#399de5\" fill-opacity=\"0.749020\" stroke=\"#000000\" points=\"864.3065,-50 738.2306,-50 738.2306,0 864.3065,0 864.3065,-50\"/>\n",
       "<text text-anchor=\"middle\" x=\"801.2686\" y=\"-34.8\" font-family=\"Times,serif\" font-size=\"14.00\" fill=\"#000000\">gini = 0.322</text>\n",
       "<text text-anchor=\"middle\" x=\"801.2686\" y=\"-20.8\" font-family=\"Times,serif\" font-size=\"14.00\" fill=\"#000000\">samples = 1264</text>\n",
       "<text text-anchor=\"middle\" x=\"801.2686\" y=\"-6.8\" font-family=\"Times,serif\" font-size=\"14.00\" fill=\"#000000\">value = [255, 1009]</text>\n",
       "</g>\n",
       "<!-- 9&#45;&gt;11 -->\n",
       "<g id=\"edge11\" class=\"edge\">\n",
       "<title>9&#45;&gt;11</title>\n",
       "<path fill=\"none\" stroke=\"#000000\" d=\"M750.1117,-85.9947C757.7464,-76.8917 766.0718,-66.9654 773.7462,-57.8152\"/>\n",
       "<polygon fill=\"#000000\" stroke=\"#000000\" points=\"776.5446,-59.9251 780.289,-50.014 771.1812,-55.4268 776.5446,-59.9251\"/>\n",
       "</g>\n",
       "<!-- 13 -->\n",
       "<g id=\"node14\" class=\"node\">\n",
       "<title>13</title>\n",
       "<polygon fill=\"#399de5\" fill-opacity=\"0.772549\" stroke=\"#000000\" points=\"1015.8065,-50 882.7306,-50 882.7306,0 1015.8065,0 1015.8065,-50\"/>\n",
       "<text text-anchor=\"middle\" x=\"949.2686\" y=\"-34.8\" font-family=\"Times,serif\" font-size=\"14.00\" fill=\"#000000\">gini = 0.301</text>\n",
       "<text text-anchor=\"middle\" x=\"949.2686\" y=\"-20.8\" font-family=\"Times,serif\" font-size=\"14.00\" fill=\"#000000\">samples = 6864</text>\n",
       "<text text-anchor=\"middle\" x=\"949.2686\" y=\"-6.8\" font-family=\"Times,serif\" font-size=\"14.00\" fill=\"#000000\">value = [1267, 5597]</text>\n",
       "</g>\n",
       "<!-- 12&#45;&gt;13 -->\n",
       "<g id=\"edge13\" class=\"edge\">\n",
       "<title>12&#45;&gt;13</title>\n",
       "<path fill=\"none\" stroke=\"#000000\" d=\"M949.2686,-85.9947C949.2686,-77.6273 949.2686,-68.5643 949.2686,-60.0478\"/>\n",
       "<polygon fill=\"#000000\" stroke=\"#000000\" points=\"952.7687,-60.014 949.2686,-50.014 945.7687,-60.0141 952.7687,-60.014\"/>\n",
       "</g>\n",
       "<!-- 14 -->\n",
       "<g id=\"node15\" class=\"node\">\n",
       "<title>14</title>\n",
       "<polygon fill=\"#399de5\" fill-opacity=\"0.839216\" stroke=\"#000000\" points=\"1160.3065,-50 1034.2306,-50 1034.2306,0 1160.3065,0 1160.3065,-50\"/>\n",
       "<text text-anchor=\"middle\" x=\"1097.2686\" y=\"-34.8\" font-family=\"Times,serif\" font-size=\"14.00\" fill=\"#000000\">gini = 0.239</text>\n",
       "<text text-anchor=\"middle\" x=\"1097.2686\" y=\"-20.8\" font-family=\"Times,serif\" font-size=\"14.00\" fill=\"#000000\">samples = 6689</text>\n",
       "<text text-anchor=\"middle\" x=\"1097.2686\" y=\"-6.8\" font-family=\"Times,serif\" font-size=\"14.00\" fill=\"#000000\">value = [926, 5763]</text>\n",
       "</g>\n",
       "<!-- 12&#45;&gt;14 -->\n",
       "<g id=\"edge14\" class=\"edge\">\n",
       "<title>12&#45;&gt;14</title>\n",
       "<path fill=\"none\" stroke=\"#000000\" d=\"M1000.2018,-85.9947C1016.0051,-76.0642 1033.3679,-65.1538 1048.9854,-55.3401\"/>\n",
       "<polygon fill=\"#000000\" stroke=\"#000000\" points=\"1050.8564,-58.2981 1057.4613,-50.014 1047.132,-52.3711 1050.8564,-58.2981\"/>\n",
       "</g>\n",
       "</g>\n",
       "</svg>\n"
      ],
      "text/plain": [
       "<graphviz.files.Source at 0x1a214cd588>"
      ]
     },
     "execution_count": 90,
     "metadata": {},
     "output_type": "execute_result"
    }
   ],
   "source": [
    "first_tree = DecisionTreeClassifier(max_depth=3, random_state= 17)\n",
    "first_tree.fit(X_train, y_train)\n",
    "\n",
    "from sklearn.tree import export_graphviz\n",
    "import graphviz\n",
    "dot_data = export_graphviz(first_tree, feature_names=df.drop(['cardio'], axis = 1).columns,\n",
    "                out_file=None, filled=True)\n",
    "graph = graphviz.Source(dot_data)  \n",
    "graph \n",
    "\n"
   ]
  },
  {
   "cell_type": "markdown",
   "metadata": {},
   "source": [
    "**<font color='red'>Вопрос 3.</font> Какие 3 признака задействуются при прогнозе в построенном дереве решений? (то есть эти три признака \"можно найти в дереве\")**\n",
    "- weight, height, gluc=3\n",
    "- smoke, age, gluc=3\n",
    "- age, weight, chol=3\n",
    "- age, ap_hi, chol=3"
   ]
  },
  {
   "cell_type": "markdown",
   "metadata": {},
   "source": [
    "Сделайте с помощью обученного дерева прогноз для отложенной выборки `(X_valid, y_valid)`. Посчитайте долю верных ответов (accuracy)."
   ]
  },
  {
   "cell_type": "code",
   "execution_count": 95,
   "metadata": {},
   "outputs": [],
   "source": [
    "tree_pred = first_tree.predict(X_valid)"
   ]
  },
  {
   "cell_type": "markdown",
   "metadata": {},
   "source": [
    "Теперь на кросс-валидации по выборке  `(X_train, y_train)`  настройте глубину дерева, чтобы повысить качество модели. Используйте GridSearchCV, 5-кратную кросс-валидацию. Зафиксируйте у дерева `random_state`=17. Перебирайте параметр `max_depth` от 2 до 10. "
   ]
  },
  {
   "cell_type": "code",
   "execution_count": 97,
   "metadata": {},
   "outputs": [
    {
     "name": "stdout",
     "output_type": "stream",
     "text": [
      "Fitting 5 folds for each of 9 candidates, totalling 45 fits\n"
     ]
    },
    {
     "name": "stderr",
     "output_type": "stream",
     "text": [
      "[Parallel(n_jobs=-1)]: Done  45 out of  45 | elapsed:    2.7s finished\n"
     ]
    },
    {
     "data": {
      "text/plain": [
       "GridSearchCV(cv=5, error_score='raise',\n",
       "       estimator=DecisionTreeClassifier(class_weight=None, criterion='gini', max_depth=3,\n",
       "            max_features=None, max_leaf_nodes=None,\n",
       "            min_impurity_decrease=0.0, min_impurity_split=None,\n",
       "            min_samples_leaf=1, min_samples_split=2,\n",
       "            min_weight_fraction_leaf=0.0, presort=False, random_state=17,\n",
       "            splitter='best'),\n",
       "       fit_params=None, iid=True, n_jobs=-1,\n",
       "       param_grid={'max_depth': [2, 3, 4, 5, 6, 7, 8, 9, 10]},\n",
       "       pre_dispatch='2*n_jobs', refit=True, return_train_score='warn',\n",
       "       scoring=None, verbose=True)"
      ]
     },
     "execution_count": 97,
     "metadata": {},
     "output_type": "execute_result"
    }
   ],
   "source": [
    "tree_params = {'max_depth': list(range(2, 11))}\n",
    "\n",
    "tree_grid = GridSearchCV(first_tree, tree_params, n_jobs= -1, verbose= True, cv = 5)\n",
    "tree_grid.fit(X_train, y_train)"
   ]
  },
  {
   "cell_type": "markdown",
   "metadata": {},
   "source": [
    "Нарисуйте график того, как меняется средняя доля верных ответов на кросс-валидации в зависимости от значения `max_depth`."
   ]
  },
  {
   "cell_type": "code",
   "execution_count": 113,
   "metadata": {},
   "outputs": [
    {
     "name": "stdout",
     "output_type": "stream",
     "text": [
      "CPU times: user 4 µs, sys: 1 µs, total: 5 µs\n",
      "Wall time: 7.87 µs\n"
     ]
    },
    {
     "data": {
      "image/png": "[encoded data removed]",
      "text/plain": [
       "<matplotlib.figure.Figure at 0x1a25f33080>"
      ]
     },
     "metadata": {},
     "output_type": "display_data"
    }
   ],
   "source": [
    "from sklearn.model_selection import cross_val_score\n",
    "\n",
    "cv_scores, valid_scores = [], []\n",
    "max_depth = list(range(2,11))\n",
    "\n",
    "%time \n",
    "for d in max_depth:\n",
    "    gr_tree = DecisionTreeClassifier(max_depth = d)\n",
    "    cv_scores.append(np.mean(cross_val_score(gr_tree, X_train, y_train, cv=5)))\n",
    "    gr_tree.fit(X_train, y_train)\n",
    "    #valid_scores.append(accuracy_score(y_valid, gr_tree.predict(X_valid)))\n",
    "\n",
    "plt.plot(max_depth, cv_scores, label='CV')\n",
    "#plt.plot(max_depth, valid_scores, label='validation')\n",
    "#plt.title('Easy task. kNN fails')\n",
    "plt.legend();"
   ]
  },
  {
   "cell_type": "markdown",
   "metadata": {},
   "source": [
    "Выведите лучшее значение `max_depth`, то есть такое, при котором среднее значение метрики качества на кросс-валидации максимально. Посчитайте также, какова теперь доля верных ответов на отложенной выборке. Все это можно сделать с помощью обученного экземпляра класса `GridSearchCV`."
   ]
  },
  {
   "cell_type": "code",
   "execution_count": 99,
   "metadata": {},
   "outputs": [
    {
     "name": "stdout",
     "output_type": "stream",
     "text": [
      "Best max_depth: {'max_depth': 6}\n",
      "Accuracy score: 0.732204081633\n"
     ]
    }
   ],
   "source": [
    "print(\"Best max_depth:\", tree_grid.best_params_)\n",
    "print(\"Accuracy score:\", tree_grid.best_score_)"
   ]
  },
  {
   "cell_type": "code",
   "execution_count": 109,
   "metadata": {},
   "outputs": [
    {
     "data": {
      "text/plain": [
       "0.64699280385553926"
      ]
     },
     "execution_count": 109,
     "metadata": {},
     "output_type": "execute_result"
    }
   ],
   "source": [
    "from sklearn.metrics import accuracy_score\n",
    "acc1 = accuracy_score(y_valid, tree_pred)\n",
    "acc1\n",
    "\n",
    "acc2 = accuracy_score(y_valid, tree_grid.predict(X_valid))\n",
    "(acc2-acc1)/acc1*100 "
   ]
  },
  {
   "cell_type": "markdown",
   "metadata": {},
   "source": [
    "**<font color='red'>Вопрос 4.</font> Имеется ли на кривой валидации по максимальной глубине дерева пик `accuracy`, если перебирать `max_depth` от 2 до 10? Повысила ли настройка глубины дерева качество классификации (accuracy) более чем на 1% на отложенной выборке (надо посмотреть на выражение (acc2 - acc1) / acc1 * 100%, где acc1 и acc2 – доли верных ответов на отложенной выборке до и после настройки max_depth соответственно)?**\n",
    "- да, да\n",
    "- да, нет - X\n",
    "- нет, да\n",
    "- нет, нет"
   ]
  },
  {
   "cell_type": "markdown",
   "metadata": {},
   "source": [
    "Обратимся опять (как и в 1 домашке) к картинке, демонстрирующей шкалу SCORE для расчёта риска смерти от сердечно-сосудистого заболевания в ближайшие 10 лет.\n",
    "<img src='../../img/SCORE2007.png' width=70%>\n",
    "\n",
    "Создайте бинарные признаки, примерно соответствующие этой картинке:\n",
    "- $age \\in [45,50), \\ldots age \\in [60,65) $ (4 признака)\n",
    "- верхнее артериальное давление: $ap\\_hi \\in [120,140), ap\\_hi \\in [140,160), ap\\_hi \\in [160,180),$ (3 признака)\n",
    "\n",
    "Если значение возраста или артериального давления не попадает ни в один из интервалов, то все бинарные признаки будут равны нулю. Далее будем строить дерево решений с этим признаками, а также с признаками ``smoke``, ``cholesterol``  и ``gender``. Из признака ``cholesterol`` надо сделать 3 бинарных, соотв-х уникальным значениям признака ( ``cholesterol``=1,  ``cholesterol``=2 и  ``cholesterol``=3), эта техника называется dummy-кодированием или One Hot Encoding (OHE). Признак ``gender`` надо перекодировать: значения 1 и 2 отобразить на 0 и 1. Признак лучше переименовать в ``male`` (0 – женщина, 1 – мужчина). В общем случае кодирование значений делает ``sklearn.preprocessing.LabelEncoder``, но в данном случае легко обойтись и без него.\n",
    "\n",
    "Итак, дерево решений строится на 12 бинарных признаках (исходные признаки не берем).\n",
    "\n",
    "Постройте дерево решений с ограничением на максимальную глубину = 3 и обучите его на всей исходной обучающей выборке. Используйте `DecisionTreeClassifier`, на всякий случай зафикисровав `random_state=17`, остальные аргументы (помимо `max_depth` и `random_state`) оставьте по умолчанию. \n",
    "\n",
    "**<font color='red'>Вопрос 5.</font> Какой бинарный признак из 12 перечисленных оказался самым важным для обнаружения ССЗ, то есть поместился в вершину построенного дерева решений?**\n",
    "- Верхнее артериальное давление от 160 до 180 (мм рт.ст.)\n",
    "- Пол мужской / женский\n",
    "- Верхнее артериальное давление от 140 до 160 (мм рт.ст.)\n",
    "- Возраст от 50 до 55 (лет)\n",
    "- Курит / не курит\n",
    "- Возраст от 60 до 65 (лет)"
   ]
  },
  {
   "cell_type": "code",
   "execution_count": 160,
   "metadata": {},
   "outputs": [],
   "source": [
    "df['age_45_50'] = 0\n",
    "df.loc[(df['age'] >= 45.0) & (df['age']< 50.0),'age_45_50']= 1\n",
    "df['age_50_55'] = 0\n",
    "df.loc[(df['age'] >= 50.0) & (df['age']< 55.0),'age_50_55']= 1\n",
    "df['age_55_60'] = 0\n",
    "df.loc[(df['age'] >= 55.0) & (df['age']< 60.0),'age_55_60']= 1\n",
    "df['age_60_65'] = 0\n",
    "df.loc[(df['age'] >= 60.0) & (df['age']< 65.0),'age_60_65']= 1"
   ]
  },
  {
   "cell_type": "code",
   "execution_count": 161,
   "metadata": {},
   "outputs": [],
   "source": [
    "df['ap_hi_120_140'] = 0\n",
    "df.loc[(df.ap_hi >= 120) & (df.ap_hi< 140), 'ap_hi_120_140'] = 1\n",
    "\n",
    "df['ap_hi_140_160'] = 0\n",
    "df.loc[(df.ap_hi >= 140) & (df.ap_hi< 160), 'ap_hi_140_160'] = 1\n",
    "\n",
    "df['ap_hi_160_180'] = 0\n",
    "df.loc[(df.ap_hi >= 160) & (df.ap_hi< 180), 'ap_hi_160_180'] = 1"
   ]
  },
  {
   "cell_type": "code",
   "execution_count": 162,
   "metadata": {},
   "outputs": [],
   "source": [
    "gender1 = {1:\"f\", 2:\"m\"}\n",
    "df = df.replace({'gender': gender1})\n",
    "gender2 = {\"f\":0, \"m\":1}\n",
    "df = df.replace({'gender': gender2})"
   ]
  },
  {
   "cell_type": "code",
   "execution_count": 164,
   "metadata": {},
   "outputs": [],
   "source": [
    "df['male'] = df.gender\n",
    "df.drop('gender', axis =1, inplace= True)"
   ]
  },
  {
   "cell_type": "code",
   "execution_count": 165,
   "metadata": {},
   "outputs": [
    {
     "data": {
      "text/html": [
       "<div>\n",
       "<style scoped>\n",
       "    .dataframe tbody tr th:only-of-type {\n",
       "        vertical-align: middle;\n",
       "    }\n",
       "\n",
       "    .dataframe tbody tr th {\n",
       "        vertical-align: top;\n",
       "    }\n",
       "\n",
       "    .dataframe thead th {\n",
       "        text-align: right;\n",
       "    }\n",
       "</style>\n",
       "<table border=\"1\" class=\"dataframe\">\n",
       "  <thead>\n",
       "    <tr style=\"text-align: right;\">\n",
       "      <th></th>\n",
       "      <th>age</th>\n",
       "      <th>height</th>\n",
       "      <th>weight</th>\n",
       "      <th>ap_hi</th>\n",
       "      <th>ap_lo</th>\n",
       "      <th>smoke</th>\n",
       "      <th>alco</th>\n",
       "      <th>active</th>\n",
       "      <th>cardio</th>\n",
       "      <th>cholesterol_1</th>\n",
       "      <th>...</th>\n",
       "      <th>gluc_2</th>\n",
       "      <th>gluc_3</th>\n",
       "      <th>age_45_50</th>\n",
       "      <th>age_50_55</th>\n",
       "      <th>age_55_60</th>\n",
       "      <th>age_60_65</th>\n",
       "      <th>ap_hi_120_140</th>\n",
       "      <th>ap_hi_140_160</th>\n",
       "      <th>ap_hi_160_180</th>\n",
       "      <th>male</th>\n",
       "    </tr>\n",
       "    <tr>\n",
       "      <th>id</th>\n",
       "      <th></th>\n",
       "      <th></th>\n",
       "      <th></th>\n",
       "      <th></th>\n",
       "      <th></th>\n",
       "      <th></th>\n",
       "      <th></th>\n",
       "      <th></th>\n",
       "      <th></th>\n",
       "      <th></th>\n",
       "      <th></th>\n",
       "      <th></th>\n",
       "      <th></th>\n",
       "      <th></th>\n",
       "      <th></th>\n",
       "      <th></th>\n",
       "      <th></th>\n",
       "      <th></th>\n",
       "      <th></th>\n",
       "      <th></th>\n",
       "      <th></th>\n",
       "    </tr>\n",
       "  </thead>\n",
       "  <tbody>\n",
       "    <tr>\n",
       "      <th>0</th>\n",
       "      <td>51.0</td>\n",
       "      <td>168</td>\n",
       "      <td>62.0</td>\n",
       "      <td>110</td>\n",
       "      <td>80</td>\n",
       "      <td>0</td>\n",
       "      <td>0</td>\n",
       "      <td>1</td>\n",
       "      <td>0</td>\n",
       "      <td>1</td>\n",
       "      <td>...</td>\n",
       "      <td>0</td>\n",
       "      <td>0</td>\n",
       "      <td>0</td>\n",
       "      <td>1</td>\n",
       "      <td>0</td>\n",
       "      <td>0</td>\n",
       "      <td>0</td>\n",
       "      <td>0</td>\n",
       "      <td>0</td>\n",
       "      <td>1</td>\n",
       "    </tr>\n",
       "    <tr>\n",
       "      <th>1</th>\n",
       "      <td>56.0</td>\n",
       "      <td>156</td>\n",
       "      <td>85.0</td>\n",
       "      <td>140</td>\n",
       "      <td>90</td>\n",
       "      <td>0</td>\n",
       "      <td>0</td>\n",
       "      <td>1</td>\n",
       "      <td>1</td>\n",
       "      <td>0</td>\n",
       "      <td>...</td>\n",
       "      <td>0</td>\n",
       "      <td>0</td>\n",
       "      <td>0</td>\n",
       "      <td>0</td>\n",
       "      <td>1</td>\n",
       "      <td>0</td>\n",
       "      <td>0</td>\n",
       "      <td>1</td>\n",
       "      <td>0</td>\n",
       "      <td>0</td>\n",
       "    </tr>\n",
       "    <tr>\n",
       "      <th>2</th>\n",
       "      <td>52.0</td>\n",
       "      <td>165</td>\n",
       "      <td>64.0</td>\n",
       "      <td>130</td>\n",
       "      <td>70</td>\n",
       "      <td>0</td>\n",
       "      <td>0</td>\n",
       "      <td>0</td>\n",
       "      <td>1</td>\n",
       "      <td>0</td>\n",
       "      <td>...</td>\n",
       "      <td>0</td>\n",
       "      <td>0</td>\n",
       "      <td>0</td>\n",
       "      <td>1</td>\n",
       "      <td>0</td>\n",
       "      <td>0</td>\n",
       "      <td>1</td>\n",
       "      <td>0</td>\n",
       "      <td>0</td>\n",
       "      <td>0</td>\n",
       "    </tr>\n",
       "    <tr>\n",
       "      <th>3</th>\n",
       "      <td>49.0</td>\n",
       "      <td>169</td>\n",
       "      <td>82.0</td>\n",
       "      <td>150</td>\n",
       "      <td>100</td>\n",
       "      <td>0</td>\n",
       "      <td>0</td>\n",
       "      <td>1</td>\n",
       "      <td>1</td>\n",
       "      <td>1</td>\n",
       "      <td>...</td>\n",
       "      <td>0</td>\n",
       "      <td>0</td>\n",
       "      <td>1</td>\n",
       "      <td>0</td>\n",
       "      <td>0</td>\n",
       "      <td>0</td>\n",
       "      <td>0</td>\n",
       "      <td>1</td>\n",
       "      <td>0</td>\n",
       "      <td>1</td>\n",
       "    </tr>\n",
       "    <tr>\n",
       "      <th>4</th>\n",
       "      <td>49.0</td>\n",
       "      <td>156</td>\n",
       "      <td>56.0</td>\n",
       "      <td>100</td>\n",
       "      <td>60</td>\n",
       "      <td>0</td>\n",
       "      <td>0</td>\n",
       "      <td>0</td>\n",
       "      <td>0</td>\n",
       "      <td>1</td>\n",
       "      <td>...</td>\n",
       "      <td>0</td>\n",
       "      <td>0</td>\n",
       "      <td>1</td>\n",
       "      <td>0</td>\n",
       "      <td>0</td>\n",
       "      <td>0</td>\n",
       "      <td>0</td>\n",
       "      <td>0</td>\n",
       "      <td>0</td>\n",
       "      <td>0</td>\n",
       "    </tr>\n",
       "  </tbody>\n",
       "</table>\n",
       "<p>5 rows × 23 columns</p>\n",
       "</div>"
      ],
      "text/plain": [
       "     age  height  weight  ap_hi  ap_lo  smoke  alco  active  cardio  \\\n",
       "id                                                                    \n",
       "0   51.0     168    62.0    110     80      0     0       1       0   \n",
       "1   56.0     156    85.0    140     90      0     0       1       1   \n",
       "2   52.0     165    64.0    130     70      0     0       0       1   \n",
       "3   49.0     169    82.0    150    100      0     0       1       1   \n",
       "4   49.0     156    56.0    100     60      0     0       0       0   \n",
       "\n",
       "    cholesterol_1  ...   gluc_2  gluc_3  age_45_50  age_50_55  age_55_60  \\\n",
       "id                 ...                                                     \n",
       "0               1  ...        0       0          0          1          0   \n",
       "1               0  ...        0       0          0          0          1   \n",
       "2               0  ...        0       0          0          1          0   \n",
       "3               1  ...        0       0          1          0          0   \n",
       "4               1  ...        0       0          1          0          0   \n",
       "\n",
       "    age_60_65  ap_hi_120_140  ap_hi_140_160  ap_hi_160_180  male  \n",
       "id                                                                \n",
       "0           0              0              0              0     1  \n",
       "1           0              0              1              0     0  \n",
       "2           0              1              0              0     0  \n",
       "3           0              0              1              0     1  \n",
       "4           0              0              0              0     0  \n",
       "\n",
       "[5 rows x 23 columns]"
      ]
     },
     "execution_count": 165,
     "metadata": {},
     "output_type": "execute_result"
    }
   ],
   "source": [
    "df.head()"
   ]
  },
  {
   "cell_type": "code",
   "execution_count": 168,
   "metadata": {},
   "outputs": [],
   "source": [
    "cols = ['ap_hi_120_140', 'ap_hi_140_160','ap_hi_160_180', 'cholesterol_1', 'cholesterol_2', 'cholesterol_3',\n",
    "        'age_45_50', 'age_50_55', 'age_55_60', 'age_60_65', 'smoke', 'male',  'cardio']\n",
    "\n",
    "df_new = df[cols]"
   ]
  },
  {
   "cell_type": "code",
   "execution_count": 169,
   "metadata": {},
   "outputs": [
    {
     "data": {
      "text/html": [
       "<div>\n",
       "<style scoped>\n",
       "    .dataframe tbody tr th:only-of-type {\n",
       "        vertical-align: middle;\n",
       "    }\n",
       "\n",
       "    .dataframe tbody tr th {\n",
       "        vertical-align: top;\n",
       "    }\n",
       "\n",
       "    .dataframe thead th {\n",
       "        text-align: right;\n",
       "    }\n",
       "</style>\n",
       "<table border=\"1\" class=\"dataframe\">\n",
       "  <thead>\n",
       "    <tr style=\"text-align: right;\">\n",
       "      <th></th>\n",
       "      <th>ap_hi_120_140</th>\n",
       "      <th>ap_hi_140_160</th>\n",
       "      <th>ap_hi_160_180</th>\n",
       "      <th>cholesterol_1</th>\n",
       "      <th>cholesterol_2</th>\n",
       "      <th>cholesterol_3</th>\n",
       "      <th>age_45_50</th>\n",
       "      <th>age_50_55</th>\n",
       "      <th>age_55_60</th>\n",
       "      <th>age_60_65</th>\n",
       "      <th>smoke</th>\n",
       "      <th>male</th>\n",
       "      <th>cardio</th>\n",
       "    </tr>\n",
       "    <tr>\n",
       "      <th>id</th>\n",
       "      <th></th>\n",
       "      <th></th>\n",
       "      <th></th>\n",
       "      <th></th>\n",
       "      <th></th>\n",
       "      <th></th>\n",
       "      <th></th>\n",
       "      <th></th>\n",
       "      <th></th>\n",
       "      <th></th>\n",
       "      <th></th>\n",
       "      <th></th>\n",
       "      <th></th>\n",
       "    </tr>\n",
       "  </thead>\n",
       "  <tbody>\n",
       "    <tr>\n",
       "      <th>0</th>\n",
       "      <td>0</td>\n",
       "      <td>0</td>\n",
       "      <td>0</td>\n",
       "      <td>1</td>\n",
       "      <td>0</td>\n",
       "      <td>0</td>\n",
       "      <td>0</td>\n",
       "      <td>1</td>\n",
       "      <td>0</td>\n",
       "      <td>0</td>\n",
       "      <td>0</td>\n",
       "      <td>1</td>\n",
       "      <td>0</td>\n",
       "    </tr>\n",
       "    <tr>\n",
       "      <th>1</th>\n",
       "      <td>0</td>\n",
       "      <td>1</td>\n",
       "      <td>0</td>\n",
       "      <td>0</td>\n",
       "      <td>0</td>\n",
       "      <td>1</td>\n",
       "      <td>0</td>\n",
       "      <td>0</td>\n",
       "      <td>1</td>\n",
       "      <td>0</td>\n",
       "      <td>0</td>\n",
       "      <td>0</td>\n",
       "      <td>1</td>\n",
       "    </tr>\n",
       "    <tr>\n",
       "      <th>2</th>\n",
       "      <td>1</td>\n",
       "      <td>0</td>\n",
       "      <td>0</td>\n",
       "      <td>0</td>\n",
       "      <td>0</td>\n",
       "      <td>1</td>\n",
       "      <td>0</td>\n",
       "      <td>1</td>\n",
       "      <td>0</td>\n",
       "      <td>0</td>\n",
       "      <td>0</td>\n",
       "      <td>0</td>\n",
       "      <td>1</td>\n",
       "    </tr>\n",
       "    <tr>\n",
       "      <th>3</th>\n",
       "      <td>0</td>\n",
       "      <td>1</td>\n",
       "      <td>0</td>\n",
       "      <td>1</td>\n",
       "      <td>0</td>\n",
       "      <td>0</td>\n",
       "      <td>1</td>\n",
       "      <td>0</td>\n",
       "      <td>0</td>\n",
       "      <td>0</td>\n",
       "      <td>0</td>\n",
       "      <td>1</td>\n",
       "      <td>1</td>\n",
       "    </tr>\n",
       "    <tr>\n",
       "      <th>4</th>\n",
       "      <td>0</td>\n",
       "      <td>0</td>\n",
       "      <td>0</td>\n",
       "      <td>1</td>\n",
       "      <td>0</td>\n",
       "      <td>0</td>\n",
       "      <td>1</td>\n",
       "      <td>0</td>\n",
       "      <td>0</td>\n",
       "      <td>0</td>\n",
       "      <td>0</td>\n",
       "      <td>0</td>\n",
       "      <td>0</td>\n",
       "    </tr>\n",
       "  </tbody>\n",
       "</table>\n",
       "</div>"
      ],
      "text/plain": [
       "    ap_hi_120_140  ap_hi_140_160  ap_hi_160_180  cholesterol_1  cholesterol_2  \\\n",
       "id                                                                              \n",
       "0               0              0              0              1              0   \n",
       "1               0              1              0              0              0   \n",
       "2               1              0              0              0              0   \n",
       "3               0              1              0              1              0   \n",
       "4               0              0              0              1              0   \n",
       "\n",
       "    cholesterol_3  age_45_50  age_50_55  age_55_60  age_60_65  smoke  male  \\\n",
       "id                                                                           \n",
       "0               0          0          1          0          0      0     1   \n",
       "1               1          0          0          1          0      0     0   \n",
       "2               1          0          1          0          0      0     0   \n",
       "3               0          1          0          0          0      0     1   \n",
       "4               0          1          0          0          0      0     0   \n",
       "\n",
       "    cardio  \n",
       "id          \n",
       "0        0  \n",
       "1        1  \n",
       "2        1  \n",
       "3        1  \n",
       "4        0  "
      ]
     },
     "execution_count": 169,
     "metadata": {},
     "output_type": "execute_result"
    }
   ],
   "source": [
    "df_new.head()"
   ]
  },
  {
   "cell_type": "code",
   "execution_count": 171,
   "metadata": {},
   "outputs": [
    {
     "data": {
      "text/plain": [
       "DecisionTreeClassifier(class_weight=None, criterion='gini', max_depth=3,\n",
       "            max_features=None, max_leaf_nodes=None,\n",
       "            min_impurity_decrease=0.0, min_impurity_split=None,\n",
       "            min_samples_leaf=1, min_samples_split=2,\n",
       "            min_weight_fraction_leaf=0.0, presort=False, random_state=17,\n",
       "            splitter='best')"
      ]
     },
     "execution_count": 171,
     "metadata": {},
     "output_type": "execute_result"
    }
   ],
   "source": [
    "new_tree = DecisionTreeClassifier(max_depth = 3, random_state= 17)\n",
    "X_train_new = df_new.drop('cardio', axis = 1).values\n",
    "y_train_new = df_new.cardio.values\n",
    "new_tree.fit(X_train_new, y_train_new)"
   ]
  },
  {
   "cell_type": "code",
   "execution_count": 172,
   "metadata": {},
   "outputs": [
    {
     "data": {
      "image/svg+xml": [
       "<?xml version=\"1.0\" encoding=\"UTF-8\" standalone=\"no\"?>\n",
       "<!DOCTYPE svg PUBLIC \"-//W3C//DTD SVG 1.1//EN\"\n",
       " \"http://www.w3.org/Graphics/SVG/1.1/DTD/svg11.dtd\">\n",
       "<!-- Generated by graphviz version 2.40.1 (20161225.0304)\n",
       " -->\n",
       "<!-- Title: Tree Pages: 1 -->\n",
       "<svg width=\"1155pt\" height=\"358pt\"\n",
       " viewBox=\"0.00 0.00 1155.04 358.00\" xmlns=\"http://www.w3.org/2000/svg\" xmlns:xlink=\"http://www.w3.org/1999/xlink\">\n",
       "<g id=\"graph0\" class=\"graph\" transform=\"scale(1 1) rotate(0) translate(4 354)\">\n",
       "<title>Tree</title>\n",
       "<polygon fill=\"#ffffff\" stroke=\"transparent\" points=\"-4,4 -4,-354 1151.0371,-354 1151.0371,4 -4,4\"/>\n",
       "<!-- 0 -->\n",
       "<g id=\"node1\" class=\"node\">\n",
       "<title>0</title>\n",
       "<polygon fill=\"transparent\" stroke=\"#000000\" points=\"652.3064,-350 505.2307,-350 505.2307,-286 652.3064,-286 652.3064,-350\"/>\n",
       "<text text-anchor=\"middle\" x=\"578.7686\" y=\"-334.8\" font-family=\"Times,serif\" font-size=\"14.00\" fill=\"#000000\">ap_hi_140_160 &lt;= 0.5</text>\n",
       "<text text-anchor=\"middle\" x=\"578.7686\" y=\"-320.8\" font-family=\"Times,serif\" font-size=\"14.00\" fill=\"#000000\">gini = 0.5</text>\n",
       "<text text-anchor=\"middle\" x=\"578.7686\" y=\"-306.8\" font-family=\"Times,serif\" font-size=\"14.00\" fill=\"#000000\">samples = 70000</text>\n",
       "<text text-anchor=\"middle\" x=\"578.7686\" y=\"-292.8\" font-family=\"Times,serif\" font-size=\"14.00\" fill=\"#000000\">value = [35021, 34979]</text>\n",
       "</g>\n",
       "<!-- 1 -->\n",
       "<g id=\"node2\" class=\"node\">\n",
       "<title>1</title>\n",
       "<polygon fill=\"#e58139\" fill-opacity=\"0.294118\" stroke=\"#000000\" points=\"516.3064,-250 369.2307,-250 369.2307,-186 516.3064,-186 516.3064,-250\"/>\n",
       "<text text-anchor=\"middle\" x=\"442.7686\" y=\"-234.8\" font-family=\"Times,serif\" font-size=\"14.00\" fill=\"#000000\">ap_hi_160_180 &lt;= 0.5</text>\n",
       "<text text-anchor=\"middle\" x=\"442.7686\" y=\"-220.8\" font-family=\"Times,serif\" font-size=\"14.00\" fill=\"#000000\">gini = 0.485</text>\n",
       "<text text-anchor=\"middle\" x=\"442.7686\" y=\"-206.8\" font-family=\"Times,serif\" font-size=\"14.00\" fill=\"#000000\">samples = 55564</text>\n",
       "<text text-anchor=\"middle\" x=\"442.7686\" y=\"-192.8\" font-family=\"Times,serif\" font-size=\"14.00\" fill=\"#000000\">value = [32557, 23007]</text>\n",
       "</g>\n",
       "<!-- 0&#45;&gt;1 -->\n",
       "<g id=\"edge1\" class=\"edge\">\n",
       "<title>0&#45;&gt;1</title>\n",
       "<path fill=\"none\" stroke=\"#000000\" d=\"M534.9887,-285.8089C522.1278,-276.3524 507.9373,-265.9182 494.6233,-256.1285\"/>\n",
       "<polygon fill=\"#000000\" stroke=\"#000000\" points=\"496.5963,-253.2349 486.4664,-250.1308 492.4495,-258.8745 496.5963,-253.2349\"/>\n",
       "<text text-anchor=\"middle\" x=\"490.2363\" y=\"-270.6449\" font-family=\"Times,serif\" font-size=\"14.00\" fill=\"#000000\">True</text>\n",
       "</g>\n",
       "<!-- 8 -->\n",
       "<g id=\"node9\" class=\"node\">\n",
       "<title>8</title>\n",
       "<polygon fill=\"#399de5\" fill-opacity=\"0.796078\" stroke=\"#000000\" points=\"798.793,-250 658.7441,-250 658.7441,-186 798.793,-186 798.793,-250\"/>\n",
       "<text text-anchor=\"middle\" x=\"728.7686\" y=\"-234.8\" font-family=\"Times,serif\" font-size=\"14.00\" fill=\"#000000\">age_45_50 &lt;= 0.5</text>\n",
       "<text text-anchor=\"middle\" x=\"728.7686\" y=\"-220.8\" font-family=\"Times,serif\" font-size=\"14.00\" fill=\"#000000\">gini = 0.283</text>\n",
       "<text text-anchor=\"middle\" x=\"728.7686\" y=\"-206.8\" font-family=\"Times,serif\" font-size=\"14.00\" fill=\"#000000\">samples = 14436</text>\n",
       "<text text-anchor=\"middle\" x=\"728.7686\" y=\"-192.8\" font-family=\"Times,serif\" font-size=\"14.00\" fill=\"#000000\">value = [2464, 11972]</text>\n",
       "</g>\n",
       "<!-- 0&#45;&gt;8 -->\n",
       "<g id=\"edge8\" class=\"edge\">\n",
       "<title>0&#45;&gt;8</title>\n",
       "<path fill=\"none\" stroke=\"#000000\" d=\"M627.0552,-285.8089C641.3738,-276.2632 657.1867,-265.7213 671.9912,-255.8516\"/>\n",
       "<polygon fill=\"#000000\" stroke=\"#000000\" points=\"674.1934,-258.59 680.5724,-250.1308 670.3104,-252.7656 674.1934,-258.59\"/>\n",
       "<text text-anchor=\"middle\" x=\"675.6695\" y=\"-270.4453\" font-family=\"Times,serif\" font-size=\"14.00\" fill=\"#000000\">False</text>\n",
       "</g>\n",
       "<!-- 2 -->\n",
       "<g id=\"node3\" class=\"node\">\n",
       "<title>2</title>\n",
       "<polygon fill=\"#e58139\" fill-opacity=\"0.388235\" stroke=\"#000000\" points=\"306.3064,-150 159.2307,-150 159.2307,-86 306.3064,-86 306.3064,-150\"/>\n",
       "<text text-anchor=\"middle\" x=\"232.7686\" y=\"-134.8\" font-family=\"Times,serif\" font-size=\"14.00\" fill=\"#000000\">cholesterol_3 &lt;= 0.5</text>\n",
       "<text text-anchor=\"middle\" x=\"232.7686\" y=\"-120.8\" font-family=\"Times,serif\" font-size=\"14.00\" fill=\"#000000\">gini = 0.471</text>\n",
       "<text text-anchor=\"middle\" x=\"232.7686\" y=\"-106.8\" font-family=\"Times,serif\" font-size=\"14.00\" fill=\"#000000\">samples = 51663</text>\n",
       "<text text-anchor=\"middle\" x=\"232.7686\" y=\"-92.8\" font-family=\"Times,serif\" font-size=\"14.00\" fill=\"#000000\">value = [32023, 19640]</text>\n",
       "</g>\n",
       "<!-- 1&#45;&gt;2 -->\n",
       "<g id=\"edge2\" class=\"edge\">\n",
       "<title>1&#45;&gt;2</title>\n",
       "<path fill=\"none\" stroke=\"#000000\" d=\"M375.4567,-185.9467C354.3572,-175.8993 330.9166,-164.7372 309.2329,-154.4116\"/>\n",
       "<polygon fill=\"#000000\" stroke=\"#000000\" points=\"310.5929,-151.1827 300.0595,-150.0433 307.5833,-157.5027 310.5929,-151.1827\"/>\n",
       "</g>\n",
       "<!-- 5 -->\n",
       "<g id=\"node6\" class=\"node\">\n",
       "<title>5</title>\n",
       "<polygon fill=\"#399de5\" fill-opacity=\"0.843137\" stroke=\"#000000\" points=\"505.8065,-150 379.7306,-150 379.7306,-86 505.8065,-86 505.8065,-150\"/>\n",
       "<text text-anchor=\"middle\" x=\"442.7686\" y=\"-134.8\" font-family=\"Times,serif\" font-size=\"14.00\" fill=\"#000000\">smoke &lt;= 0.5</text>\n",
       "<text text-anchor=\"middle\" x=\"442.7686\" y=\"-120.8\" font-family=\"Times,serif\" font-size=\"14.00\" fill=\"#000000\">gini = 0.236</text>\n",
       "<text text-anchor=\"middle\" x=\"442.7686\" y=\"-106.8\" font-family=\"Times,serif\" font-size=\"14.00\" fill=\"#000000\">samples = 3901</text>\n",
       "<text text-anchor=\"middle\" x=\"442.7686\" y=\"-92.8\" font-family=\"Times,serif\" font-size=\"14.00\" fill=\"#000000\">value = [534, 3367]</text>\n",
       "</g>\n",
       "<!-- 1&#45;&gt;5 -->\n",
       "<g id=\"edge5\" class=\"edge\">\n",
       "<title>1&#45;&gt;5</title>\n",
       "<path fill=\"none\" stroke=\"#000000\" d=\"M442.7686,-185.8089C442.7686,-177.6906 442.7686,-168.8517 442.7686,-160.3186\"/>\n",
       "<polygon fill=\"#000000\" stroke=\"#000000\" points=\"446.2687,-160.1307 442.7686,-150.1308 439.2687,-160.1308 446.2687,-160.1307\"/>\n",
       "</g>\n",
       "<!-- 3 -->\n",
       "<g id=\"node4\" class=\"node\">\n",
       "<title>3</title>\n",
       "<polygon fill=\"#e58139\" fill-opacity=\"0.470588\" stroke=\"#000000\" points=\"147.3064,-50 .2307,-50 .2307,0 147.3064,0 147.3064,-50\"/>\n",
       "<text text-anchor=\"middle\" x=\"73.7686\" y=\"-34.8\" font-family=\"Times,serif\" font-size=\"14.00\" fill=\"#000000\">gini = 0.453</text>\n",
       "<text text-anchor=\"middle\" x=\"73.7686\" y=\"-20.8\" font-family=\"Times,serif\" font-size=\"14.00\" fill=\"#000000\">samples = 46977</text>\n",
       "<text text-anchor=\"middle\" x=\"73.7686\" y=\"-6.8\" font-family=\"Times,serif\" font-size=\"14.00\" fill=\"#000000\">value = [30688, 16289]</text>\n",
       "</g>\n",
       "<!-- 2&#45;&gt;3 -->\n",
       "<g id=\"edge3\" class=\"edge\">\n",
       "<title>2&#45;&gt;3</title>\n",
       "<path fill=\"none\" stroke=\"#000000\" d=\"M178.0498,-85.9947C160.9147,-75.9723 142.073,-64.9517 125.1747,-55.0678\"/>\n",
       "<polygon fill=\"#000000\" stroke=\"#000000\" points=\"126.9335,-52.0418 116.5345,-50.014 123.3993,-58.0841 126.9335,-52.0418\"/>\n",
       "</g>\n",
       "<!-- 4 -->\n",
       "<g id=\"node5\" class=\"node\">\n",
       "<title>4</title>\n",
       "<polygon fill=\"#399de5\" fill-opacity=\"0.600000\" stroke=\"#000000\" points=\"299.3065,-50 166.2306,-50 166.2306,0 299.3065,0 299.3065,-50\"/>\n",
       "<text text-anchor=\"middle\" x=\"232.7686\" y=\"-34.8\" font-family=\"Times,serif\" font-size=\"14.00\" fill=\"#000000\">gini = 0.407</text>\n",
       "<text text-anchor=\"middle\" x=\"232.7686\" y=\"-20.8\" font-family=\"Times,serif\" font-size=\"14.00\" fill=\"#000000\">samples = 4686</text>\n",
       "<text text-anchor=\"middle\" x=\"232.7686\" y=\"-6.8\" font-family=\"Times,serif\" font-size=\"14.00\" fill=\"#000000\">value = [1335, 3351]</text>\n",
       "</g>\n",
       "<!-- 2&#45;&gt;4 -->\n",
       "<g id=\"edge4\" class=\"edge\">\n",
       "<title>2&#45;&gt;4</title>\n",
       "<path fill=\"none\" stroke=\"#000000\" d=\"M232.7686,-85.9947C232.7686,-77.6273 232.7686,-68.5643 232.7686,-60.0478\"/>\n",
       "<polygon fill=\"#000000\" stroke=\"#000000\" points=\"236.2687,-60.014 232.7686,-50.014 229.2687,-60.0141 236.2687,-60.014\"/>\n",
       "</g>\n",
       "<!-- 6 -->\n",
       "<g id=\"node7\" class=\"node\">\n",
       "<title>6</title>\n",
       "<polygon fill=\"#399de5\" fill-opacity=\"0.839216\" stroke=\"#000000\" points=\"443.8065,-50 317.7306,-50 317.7306,0 443.8065,0 443.8065,-50\"/>\n",
       "<text text-anchor=\"middle\" x=\"380.7686\" y=\"-34.8\" font-family=\"Times,serif\" font-size=\"14.00\" fill=\"#000000\">gini = 0.24</text>\n",
       "<text text-anchor=\"middle\" x=\"380.7686\" y=\"-20.8\" font-family=\"Times,serif\" font-size=\"14.00\" fill=\"#000000\">samples = 3514</text>\n",
       "<text text-anchor=\"middle\" x=\"380.7686\" y=\"-6.8\" font-family=\"Times,serif\" font-size=\"14.00\" fill=\"#000000\">value = [489, 3025]</text>\n",
       "</g>\n",
       "<!-- 5&#45;&gt;6 -->\n",
       "<g id=\"edge6\" class=\"edge\">\n",
       "<title>5&#45;&gt;6</title>\n",
       "<path fill=\"none\" stroke=\"#000000\" d=\"M421.4317,-85.9947C415.4857,-77.0756 409.0126,-67.3661 403.0157,-58.3706\"/>\n",
       "<polygon fill=\"#000000\" stroke=\"#000000\" points=\"405.9038,-56.3931 397.4446,-50.014 400.0794,-60.276 405.9038,-56.3931\"/>\n",
       "</g>\n",
       "<!-- 7 -->\n",
       "<g id=\"node8\" class=\"node\">\n",
       "<title>7</title>\n",
       "<polygon fill=\"#399de5\" fill-opacity=\"0.866667\" stroke=\"#000000\" points=\"574.8066,-50 462.7305,-50 462.7305,0 574.8066,0 574.8066,-50\"/>\n",
       "<text text-anchor=\"middle\" x=\"518.7686\" y=\"-34.8\" font-family=\"Times,serif\" font-size=\"14.00\" fill=\"#000000\">gini = 0.206</text>\n",
       "<text text-anchor=\"middle\" x=\"518.7686\" y=\"-20.8\" font-family=\"Times,serif\" font-size=\"14.00\" fill=\"#000000\">samples = 387</text>\n",
       "<text text-anchor=\"middle\" x=\"518.7686\" y=\"-6.8\" font-family=\"Times,serif\" font-size=\"14.00\" fill=\"#000000\">value = [45, 342]</text>\n",
       "</g>\n",
       "<!-- 5&#45;&gt;7 -->\n",
       "<g id=\"edge7\" class=\"edge\">\n",
       "<title>5&#45;&gt;7</title>\n",
       "<path fill=\"none\" stroke=\"#000000\" d=\"M468.9234,-85.9947C476.3624,-76.8917 484.4743,-66.9654 491.9519,-57.8152\"/>\n",
       "<polygon fill=\"#000000\" stroke=\"#000000\" points=\"494.7093,-59.9721 498.327,-50.014 489.2889,-55.5426 494.7093,-59.9721\"/>\n",
       "</g>\n",
       "<!-- 9 -->\n",
       "<g id=\"node10\" class=\"node\">\n",
       "<title>9</title>\n",
       "<polygon fill=\"#399de5\" fill-opacity=\"0.788235\" stroke=\"#000000\" points=\"798.8064,-150 658.7307,-150 658.7307,-86 798.8064,-86 798.8064,-150\"/>\n",
       "<text text-anchor=\"middle\" x=\"728.7686\" y=\"-134.8\" font-family=\"Times,serif\" font-size=\"14.00\" fill=\"#000000\">cholesterol_2 &lt;= 0.5</text>\n",
       "<text text-anchor=\"middle\" x=\"728.7686\" y=\"-120.8\" font-family=\"Times,serif\" font-size=\"14.00\" fill=\"#000000\">gini = 0.288</text>\n",
       "<text text-anchor=\"middle\" x=\"728.7686\" y=\"-106.8\" font-family=\"Times,serif\" font-size=\"14.00\" fill=\"#000000\">samples = 12791</text>\n",
       "<text text-anchor=\"middle\" x=\"728.7686\" y=\"-92.8\" font-family=\"Times,serif\" font-size=\"14.00\" fill=\"#000000\">value = [2231, 10560]</text>\n",
       "</g>\n",
       "<!-- 8&#45;&gt;9 -->\n",
       "<g id=\"edge9\" class=\"edge\">\n",
       "<title>8&#45;&gt;9</title>\n",
       "<path fill=\"none\" stroke=\"#000000\" d=\"M728.7686,-185.8089C728.7686,-177.6906 728.7686,-168.8517 728.7686,-160.3186\"/>\n",
       "<polygon fill=\"#000000\" stroke=\"#000000\" points=\"732.2687,-160.1307 728.7686,-150.1308 725.2687,-160.1308 732.2687,-160.1307\"/>\n",
       "</g>\n",
       "<!-- 12 -->\n",
       "<g id=\"node13\" class=\"node\">\n",
       "<title>12</title>\n",
       "<polygon fill=\"#399de5\" fill-opacity=\"0.835294\" stroke=\"#000000\" points=\"1018.4808,-150 887.0563,-150 887.0563,-86 1018.4808,-86 1018.4808,-150\"/>\n",
       "<text text-anchor=\"middle\" x=\"952.7686\" y=\"-134.8\" font-family=\"Times,serif\" font-size=\"14.00\" fill=\"#000000\">cholesterol_2 &lt;= 0.5</text>\n",
       "<text text-anchor=\"middle\" x=\"952.7686\" y=\"-120.8\" font-family=\"Times,serif\" font-size=\"14.00\" fill=\"#000000\">gini = 0.243</text>\n",
       "<text text-anchor=\"middle\" x=\"952.7686\" y=\"-106.8\" font-family=\"Times,serif\" font-size=\"14.00\" fill=\"#000000\">samples = 1645</text>\n",
       "<text text-anchor=\"middle\" x=\"952.7686\" y=\"-92.8\" font-family=\"Times,serif\" font-size=\"14.00\" fill=\"#000000\">value = [233, 1412]</text>\n",
       "</g>\n",
       "<!-- 8&#45;&gt;12 -->\n",
       "<g id=\"edge12\" class=\"edge\">\n",
       "<title>8&#45;&gt;12</title>\n",
       "<path fill=\"none\" stroke=\"#000000\" d=\"M799.029,-186.6337C824.0543,-175.4617 852.3241,-162.8413 877.7345,-151.4973\"/>\n",
       "<polygon fill=\"#000000\" stroke=\"#000000\" points=\"879.251,-154.6533 886.9556,-147.3808 876.3974,-148.2614 879.251,-154.6533\"/>\n",
       "</g>\n",
       "<!-- 10 -->\n",
       "<g id=\"node11\" class=\"node\">\n",
       "<title>10</title>\n",
       "<polygon fill=\"#399de5\" fill-opacity=\"0.780392\" stroke=\"#000000\" points=\"726.3065,-50 593.2306,-50 593.2306,0 726.3065,0 726.3065,-50\"/>\n",
       "<text text-anchor=\"middle\" x=\"659.7686\" y=\"-34.8\" font-family=\"Times,serif\" font-size=\"14.00\" fill=\"#000000\">gini = 0.294</text>\n",
       "<text text-anchor=\"middle\" x=\"659.7686\" y=\"-20.8\" font-family=\"Times,serif\" font-size=\"14.00\" fill=\"#000000\">samples = 10359</text>\n",
       "<text text-anchor=\"middle\" x=\"659.7686\" y=\"-6.8\" font-family=\"Times,serif\" font-size=\"14.00\" fill=\"#000000\">value = [1855, 8504]</text>\n",
       "</g>\n",
       "<!-- 9&#45;&gt;10 -->\n",
       "<g id=\"edge10\" class=\"edge\">\n",
       "<title>9&#45;&gt;10</title>\n",
       "<path fill=\"none\" stroke=\"#000000\" d=\"M705.0227,-85.9947C698.3371,-76.9837 691.0529,-67.1658 684.3212,-58.0927\"/>\n",
       "<polygon fill=\"#000000\" stroke=\"#000000\" points=\"687.0967,-55.9596 678.3274,-50.014 681.475,-60.1305 687.0967,-55.9596\"/>\n",
       "</g>\n",
       "<!-- 11 -->\n",
       "<g id=\"node12\" class=\"node\">\n",
       "<title>11</title>\n",
       "<polygon fill=\"#399de5\" fill-opacity=\"0.815686\" stroke=\"#000000\" points=\"870.8065,-50 744.7306,-50 744.7306,0 870.8065,0 870.8065,-50\"/>\n",
       "<text text-anchor=\"middle\" x=\"807.7686\" y=\"-34.8\" font-family=\"Times,serif\" font-size=\"14.00\" fill=\"#000000\">gini = 0.261</text>\n",
       "<text text-anchor=\"middle\" x=\"807.7686\" y=\"-20.8\" font-family=\"Times,serif\" font-size=\"14.00\" fill=\"#000000\">samples = 2432</text>\n",
       "<text text-anchor=\"middle\" x=\"807.7686\" y=\"-6.8\" font-family=\"Times,serif\" font-size=\"14.00\" fill=\"#000000\">value = [376, 2056]</text>\n",
       "</g>\n",
       "<!-- 9&#45;&gt;11 -->\n",
       "<g id=\"edge11\" class=\"edge\">\n",
       "<title>9&#45;&gt;11</title>\n",
       "<path fill=\"none\" stroke=\"#000000\" d=\"M755.9559,-85.9947C763.6885,-76.8917 772.1205,-66.9654 779.8933,-57.8152\"/>\n",
       "<polygon fill=\"#000000\" stroke=\"#000000\" points=\"782.7134,-59.9014 786.5201,-50.014 777.3784,-55.3695 782.7134,-59.9014\"/>\n",
       "</g>\n",
       "<!-- 13 -->\n",
       "<g id=\"node14\" class=\"node\">\n",
       "<title>13</title>\n",
       "<polygon fill=\"#399de5\" fill-opacity=\"0.827451\" stroke=\"#000000\" points=\"1015.8065,-50 889.7306,-50 889.7306,0 1015.8065,0 1015.8065,-50\"/>\n",
       "<text text-anchor=\"middle\" x=\"952.7686\" y=\"-34.8\" font-family=\"Times,serif\" font-size=\"14.00\" fill=\"#000000\">gini = 0.252</text>\n",
       "<text text-anchor=\"middle\" x=\"952.7686\" y=\"-20.8\" font-family=\"Times,serif\" font-size=\"14.00\" fill=\"#000000\">samples = 1289</text>\n",
       "<text text-anchor=\"middle\" x=\"952.7686\" y=\"-6.8\" font-family=\"Times,serif\" font-size=\"14.00\" fill=\"#000000\">value = [191, 1098]</text>\n",
       "</g>\n",
       "<!-- 12&#45;&gt;13 -->\n",
       "<g id=\"edge13\" class=\"edge\">\n",
       "<title>12&#45;&gt;13</title>\n",
       "<path fill=\"none\" stroke=\"#000000\" d=\"M952.7686,-85.9947C952.7686,-77.6273 952.7686,-68.5643 952.7686,-60.0478\"/>\n",
       "<polygon fill=\"#000000\" stroke=\"#000000\" points=\"956.2687,-60.014 952.7686,-50.014 949.2687,-60.0141 956.2687,-60.014\"/>\n",
       "</g>\n",
       "<!-- 14 -->\n",
       "<g id=\"node15\" class=\"node\">\n",
       "<title>14</title>\n",
       "<polygon fill=\"#399de5\" fill-opacity=\"0.866667\" stroke=\"#000000\" points=\"1146.8066,-50 1034.7305,-50 1034.7305,0 1146.8066,0 1146.8066,-50\"/>\n",
       "<text text-anchor=\"middle\" x=\"1090.7686\" y=\"-34.8\" font-family=\"Times,serif\" font-size=\"14.00\" fill=\"#000000\">gini = 0.208</text>\n",
       "<text text-anchor=\"middle\" x=\"1090.7686\" y=\"-20.8\" font-family=\"Times,serif\" font-size=\"14.00\" fill=\"#000000\">samples = 356</text>\n",
       "<text text-anchor=\"middle\" x=\"1090.7686\" y=\"-6.8\" font-family=\"Times,serif\" font-size=\"14.00\" fill=\"#000000\">value = [42, 314]</text>\n",
       "</g>\n",
       "<!-- 12&#45;&gt;14 -->\n",
       "<g id=\"edge14\" class=\"edge\">\n",
       "<title>12&#45;&gt;14</title>\n",
       "<path fill=\"none\" stroke=\"#000000\" d=\"M1000.2603,-85.9947C1014.8594,-76.1562 1030.8858,-65.3558 1045.3429,-55.613\"/>\n",
       "<polygon fill=\"#000000\" stroke=\"#000000\" points=\"1047.3143,-58.505 1053.651,-50.014 1043.4023,-52.7002 1047.3143,-58.505\"/>\n",
       "</g>\n",
       "</g>\n",
       "</svg>\n"
      ],
      "text/plain": [
       "<graphviz.files.Source at 0x1a2b00c860>"
      ]
     },
     "execution_count": 172,
     "metadata": {},
     "output_type": "execute_result"
    }
   ],
   "source": [
    "from sklearn.tree import export_graphviz\n",
    "import graphviz\n",
    "dot_data = export_graphviz(new_tree, feature_names=df_new.drop(['cardio'], axis = 1).columns,\n",
    "                out_file=None, filled=True)\n",
    "graph = graphviz.Source(dot_data)  \n",
    "graph "
   ]
  },
  {
   "cell_type": "code",
   "execution_count": null,
   "metadata": {},
   "outputs": [],
   "source": []
  }
 ],
 "metadata": {
  "kernelspec": {
   "display_name": "Python 3",
   "language": "python",
   "name": "python3"
  },
  "language_info": {
   "codemirror_mode": {
    "name": "ipython",
    "version": 3
   },
   "file_extension": ".py",
   "mimetype": "text/x-python",
   "name": "python",
   "nbconvert_exporter": "python",
   "pygments_lexer": "ipython3",
   "version": "3.6.4"
  },
  "name": "lesson4_part2_Decision_trees.ipynb"
 },
 "nbformat": 4,
 "nbformat_minor": 1
}
